{
 "cells": [
  {
   "cell_type": "code",
   "execution_count": null,
   "metadata": {},
   "outputs": [],
   "source": [
    "%load_ext autoreload\n",
    "%autoreload 2\n",
    "\n",
    "import sys\n",
    "sys.path.append('/home/marco/phd/devel/exotic/exotic/')\n",
    "\n",
    "import os\n",
    "import xarray as xr\n",
    "import math\n",
    "import numpy as np\n",
    "import matplotlib.pyplot as plt\n",
    "\n",
    "from lab import analysis\n",
    "from lab.simulation import forcings\n",
    "\n",
    "REF_RESP_PATH = [\n",
    "    '/home/marco/phd/data/response/lorenz96/rk4/SF_8.0_1.0_0/',\n",
    "    '/home/marco/phd/data/response/lorenz96/rk4/SF_8.0_-1.0_0/'            \n",
    "]\n",
    "\n",
    "SAVE_FIG = False"
   ]
  },
  {
   "cell_type": "markdown",
   "metadata": {},
   "source": [
    "## Multiple Plots"
   ]
  },
  {
   "cell_type": "code",
   "execution_count": null,
   "metadata": {},
   "outputs": [],
   "source": [
    "force_linear_coefficient = 0.01\n",
    "deactivation_time = 100\n",
    "forcing = 'LF_8.0_{}_0_{}'.format(force_linear_coefficient, deactivation_time)\n",
    "\n",
    "observable = 'energy'\n",
    "\n",
    "QUANTILES_PATH = f'/home/marco/phd/data/obs/lorenz96/rk4/CF_8.0/quantiles/obs_lorenz96_rk4_CF_8.0_quantiles_{observable}.nc'"
   ]
  },
  {
   "cell_type": "markdown",
   "metadata": {},
   "source": [
    "### Bins"
   ]
  },
  {
   "cell_type": "code",
   "execution_count": null,
   "metadata": {},
   "outputs": [],
   "source": [
    "obs_all = [f\"{observable}_bin_{format(np.round(quant, 1), '.2f')}q_{format(np.round(quant + 0.1, 1), '.2f')}q\" for quant in np.arange(0, 0.9, 0.1)]\n",
    "obs_all.append(f'{observable}_exceed_0.90q')"
   ]
  },
  {
   "cell_type": "markdown",
   "metadata": {},
   "source": [
    "Compute **susceptibilities**"
   ]
  },
  {
   "cell_type": "code",
   "execution_count": null,
   "metadata": {},
   "outputs": [],
   "source": [
    "chi_semidiff = {}\n",
    "chi_normal = {}\n",
    "for obs in obs_all:\n",
    "    response_p1 = xr.open_dataarray(os.path.join(\n",
    "        REF_RESP_PATH[0],\n",
    "        observable,\n",
    "        f'response_lorenz96_rk4_{obs}_SF_8.0_1.0_0.nc'\n",
    "    ))\n",
    "    response_m1 = xr.open_dataarray(os.path.join(\n",
    "        REF_RESP_PATH[1],\n",
    "        observable,\n",
    "        f'response_lorenz96_rk4_{obs}_SF_8.0_-1.0_0.nc'\n",
    "    ))\n",
    "    response_semidiff = (response_p1 - response_m1)/2\n",
    "    chi_semidiff[obs] = analysis.compute_susceptibility(response_semidiff.values.squeeze())\n",
    "    chi_normal[obs] = analysis.compute_susceptibility(response_p1.values.squeeze())"
   ]
  },
  {
   "cell_type": "markdown",
   "metadata": {},
   "source": [
    "Compute **predicted responses**"
   ]
  },
  {
   "cell_type": "code",
   "execution_count": null,
   "metadata": {},
   "outputs": [],
   "source": [
    "resp_real = {}\n",
    "resp_pred_semidiff = {}\n",
    "resp_pred_normal = {}\n",
    "for obs in obs_all:\n",
    "    resp_real[obs] = xr.open_dataarray(\n",
    "        f'/home/marco/phd/data/response/lorenz96/rk4/{forcing}/{observable}/response_lorenz96_rk4_{obs}_{forcing}.nc'\n",
    "    )\n",
    "    resp_pred_semidiff[obs] = analysis.compute_response(chi_semidiff[obs], forcings.LinearForcing(\n",
    "        linear_coefficient=force_linear_coefficient,\n",
    "        deactivation_time=deactivation_time\n",
    "    ))\n",
    "    resp_pred_normal[obs] = analysis.compute_response(chi_normal[obs], forcings.LinearForcing(\n",
    "        linear_coefficient=force_linear_coefficient,\n",
    "        deactivation_time = deactivation_time\n",
    "    ))"
   ]
  },
  {
   "cell_type": "code",
   "execution_count": null,
   "metadata": {},
   "outputs": [],
   "source": [
    "fig, ax = plt.subplots(5, 2, sharex='all', sharey=False, figsize=(15, 20))\n",
    "\n",
    "titles = [\n",
    "    f'freq. of {observable} val. below 10th perc.',\n",
    "    f'freq. of {observable} val. between 10th and 20th perc.',\n",
    "    f'freq. of {observable} val. between 20th and 30th perc.',\n",
    "    f'freq. of {observable} val. between 30th and 40th perc.',\n",
    "    f'freq. of {observable} val. between 40th and 50th perc.',\n",
    "    f'freq. of {observable} val. between 50th and 60th perc.',\n",
    "    f'freq. of {observable} val. between 60th and 70th perc.',\n",
    "    f'freq. of {observable} val. between 70th and 80th perc.',\n",
    "    f'freq. of {observable} val. between 80th and 90th perc.',\n",
    "    f'freq. of {observable} val. above 90th percentile',\n",
    "]\n",
    "\n",
    "k = 0\n",
    "for i in range(5):\n",
    "    for j in range(2):\n",
    "        l1, = ax[i, j].plot(np.arange(0, 100, 0.01), resp_real[obs_all[k]].values, alpha=0.5)\n",
    "        l2, = ax[i, j].plot(np.arange(0, 100, 0.01), resp_pred_semidiff[obs_all[k]][0:10000], linewidth=2)\n",
    "        l3, = ax[i, j].plot(np.arange(0, 100, 0.01), resp_pred_normal[obs_all[k]][0:10000], linewidth=2, color='m')\n",
    "        ax[i, j].set_title(titles[k], size=17)\n",
    "        ax[i, j].set_ylim([-0.15, 0.15])\n",
    "        ax[i, j].tick_params(labelsize='x-large')\n",
    "        std_real = resp_real[obs_all[k]].std().values\n",
    "        avg_real = resp_real[obs_all[k]].mean().values\n",
    "        sig_digit_real = -math.floor(math.log10(std_real))\n",
    "        std_pred_normal = resp_pred_normal[obs_all[k]][0:10000].std()\n",
    "        avg_pred_normal = resp_pred_normal[obs_all[k]][0:10000].mean()\n",
    "        sig_digit_pred_normal = -math.floor(math.log10(std_pred_normal))\n",
    "        std_pred_semidiff = resp_pred_semidiff[obs_all[k]][0:10000].std()\n",
    "        avg_pred_semidiff = resp_pred_semidiff[obs_all[k]][0:10000].mean()\n",
    "        sig_digit_pred_semidiff = -math.floor(math.log10(std_pred_semidiff))\n",
    "\n",
    "        if k==1:\n",
    "            ax[i, j].legend((l1, l2, l3), ('real', 'predicted (semidiff)', 'predicted (normal)'), loc='upper right', shadow=True, fontsize='x-large')\n",
    "        if not j%2:\n",
    "            ax[i, j].set_ylabel('frequency', size=15)\n",
    "        if i==4:\n",
    "            ax[i, j].set_xlabel('time', size=15)\n",
    "            \n",
    "        k += 1\n",
    "        \n",
    "plt.tight_layout()\n",
    "\n",
    "if SAVE_FIG:\n",
    "    plt.savefig('/home/cucchi/phd/devel/phd/logbook/fig/pred_bin_L_{}_{}.png'.format(\n",
    "        str(force_linear_coefficient).replace('.',''),\n",
    "        str(deactivation_time)\n",
    "    ))"
   ]
  },
  {
   "cell_type": "markdown",
   "metadata": {},
   "source": [
    "### Below"
   ]
  },
  {
   "cell_type": "code",
   "execution_count": null,
   "metadata": {},
   "outputs": [],
   "source": [
    "obs_all = [f\"{observable}_below_{format(np.round(quant + 0.1, 1), '.2f')}q\" for quant in np.arange(0, 1.0, 0.1)]\n",
    "obs_all"
   ]
  },
  {
   "cell_type": "markdown",
   "metadata": {},
   "source": [
    "Compute **susceptibilities**"
   ]
  },
  {
   "cell_type": "code",
   "execution_count": null,
   "metadata": {},
   "outputs": [],
   "source": [
    "chi_semidiff = {}\n",
    "chi_normal = {}\n",
    "for obs in obs_all:\n",
    "    response_p1 = xr.open_dataarray(os.path.join(\n",
    "        REF_RESP_PATH[0],\n",
    "        observable,\n",
    "        f'response_lorenz96_rk4_{obs}_SF_8.0_1.0_0.nc'\n",
    "    ))\n",
    "    response_m1 = xr.open_dataarray(os.path.join(\n",
    "        REF_RESP_PATH[1],\n",
    "        observable,\n",
    "        f'response_lorenz96_rk4_{obs}_SF_8.0_-1.0_0.nc'\n",
    "    ))\n",
    "    response_semidiff = (response_p1 - response_m1)/2\n",
    "    chi_semidiff[obs] = analysis.compute_susceptibility(response_semidiff.values.squeeze())\n",
    "    chi_normal[obs] = analysis.compute_susceptibility(response_p1.values.squeeze())"
   ]
  },
  {
   "cell_type": "markdown",
   "metadata": {},
   "source": [
    "Compute **predicted responses**"
   ]
  },
  {
   "cell_type": "code",
   "execution_count": null,
   "metadata": {},
   "outputs": [],
   "source": [
    "resp_real = {}\n",
    "resp_pred_semidiff = {}\n",
    "resp_pred_normal = {}\n",
    "for obs in obs_all:\n",
    "    resp_real[obs] = xr.open_dataarray(\n",
    "        f'/home/marco/phd/data/response/lorenz96/rk4/{forcing}/{observable}/response_lorenz96_rk4_{obs}_{forcing}.nc'\n",
    "    )\n",
    "    resp_pred_semidiff[obs] = analysis.compute_response(chi_semidiff[obs], forcings.LinearForcing(\n",
    "        linear_coefficient=force_linear_coefficient,\n",
    "        deactivation_time=deactivation_time\n",
    "    ))\n",
    "    resp_pred_normal[obs] = analysis.compute_response(chi_normal[obs], forcings.LinearForcing(\n",
    "        linear_coefficient=force_linear_coefficient,\n",
    "        deactivation_time = deactivation_time\n",
    "    ))"
   ]
  },
  {
   "cell_type": "code",
   "execution_count": null,
   "metadata": {},
   "outputs": [],
   "source": [
    "fig, ax = plt.subplots(5, 2, sharex='all', sharey=False, figsize=(15, 20))\n",
    "\n",
    "titles = [\n",
    "    f'freq. of {observable} val. below 10th perc.',\n",
    "    f'freq. of {observable} val. below 20th perc.',\n",
    "    f'freq. of {observable} val. below 30th perc.',\n",
    "    f'freq. of {observable} val. below 40th perc.',\n",
    "    f'freq. of {observable} val. below 50th perc.',\n",
    "    f'freq. of {observable} val. below 60th perc.',\n",
    "    f'freq. of {observable} val. below 70th perc.',\n",
    "    f'freq. of {observable} val. below 80th perc.',\n",
    "    f'freq. of {observable} val. below 90th perc.',\n",
    "    f'freq. of {observable} val. above 90th perc.',\n",
    "]\n",
    "\n",
    "k = 0\n",
    "for i in range(5):\n",
    "    for j in range(2):\n",
    "        l1, = ax[i, j].plot(np.arange(0, 100, 0.01), resp_real[obs_all[k]].values, alpha=0.5)\n",
    "        l2, = ax[i, j].plot(np.arange(0, 100, 0.01), resp_pred_semidiff[obs_all[k]][0:10000], linewidth=2)\n",
    "        l3, = ax[i, j].plot(np.arange(0, 100, 0.01), resp_pred_normal[obs_all[k]][0:10000], linewidth=2, color='m')\n",
    "        ax[i, j].set_title(titles[k], size=17)\n",
    "        ax[i, j].set_ylim([-0.18, 0.18])\n",
    "        ax[i, j].tick_params(labelsize='x-large')\n",
    "        std_real = resp_real[obs_all[k]].std().values\n",
    "        avg_real = resp_real[obs_all[k]].mean().values\n",
    "        sig_digit_real = -math.floor(math.log10(std_real))\n",
    "        std_pred_normal = resp_pred_normal[obs_all[k]][0:10000].std()\n",
    "        avg_pred_normal = resp_pred_normal[obs_all[k]][0:10000].mean()\n",
    "        sig_digit_pred_normal = -math.floor(math.log10(std_pred_normal))\n",
    "        std_pred_semidiff = resp_pred_semidiff[obs_all[k]][0:10000].std()\n",
    "        avg_pred_semidiff = resp_pred_semidiff[obs_all[k]][0:10000].mean()\n",
    "        sig_digit_pred_semidiff = -math.floor(math.log10(std_pred_semidiff))\n",
    "\n",
    "        if k==1:\n",
    "            ax[i, j].legend((l1, l2, l3), ('real', 'predicted (semidiff)', 'predicted (normal)'), loc='upper right', shadow=True, fontsize='x-large')\n",
    "        if not j%2:\n",
    "            ax[i, j].set_ylabel('frequency', size=15)\n",
    "        if i==4:\n",
    "            ax[i, j].set_xlabel('time', size=15)\n",
    "            \n",
    "        k += 1\n",
    "\n",
    "plt.tight_layout()"
   ]
  },
  {
   "cell_type": "markdown",
   "metadata": {},
   "source": [
    "## Single Plot"
   ]
  },
  {
   "cell_type": "code",
   "execution_count": null,
   "metadata": {},
   "outputs": [],
   "source": [
    "force_linear_coefficient = 0.01\n",
    "deactivation_time = 100\n",
    "forcing = f'LF_8.0_{force_linear_coefficient}_0_{deactivation_time}'\n",
    "observable = 'energy'\n",
    "obs = f'{observable}_exceed_0.99q'"
   ]
  },
  {
   "cell_type": "code",
   "execution_count": null,
   "metadata": {},
   "outputs": [],
   "source": [
    "response_p1 = xr.open_dataarray(os.path.join(REF_RESP_PATH[0], observable, f'response_lorenz96_rk4_{obs}_SF_8.0_1.0_0.nc'))\n",
    "response_m1 = xr.open_dataarray(os.path.join(REF_RESP_PATH[1], observable, f'response_lorenz96_rk4_{obs}_SF_8.0_-1.0_0.nc'))\n",
    "response_semidiff = (response_p1 - response_m1)/2\n",
    "chi_semidiff = analysis.compute_susceptibility(response_semidiff.values.squeeze())\n",
    "chi_normal = analysis.compute_susceptibility(response_p1.values.squeeze())\n",
    "\n",
    "resp_real = xr.open_dataarray(\n",
    "    f'/home/marco/phd/data/response/lorenz96/rk4/{forcing}/{observable}/response_lorenz96_rk4_{obs}_{forcing}.nc'\n",
    ")\n",
    "resp_pred_semidiff = analysis.compute_response(chi_semidiff, forcings.LinearForcing(\n",
    "    linear_coefficient=force_linear_coefficient,\n",
    "    deactivation_time=deactivation_time\n",
    "))\n",
    "resp_pred_normal = analysis.compute_response(chi_normal , forcings.LinearForcing(\n",
    "    linear_coefficient=force_linear_coefficient,\n",
    "    deactivation_time = deactivation_time\n",
    "))"
   ]
  },
  {
   "cell_type": "markdown",
   "metadata": {},
   "source": [
    "### Plot"
   ]
  },
  {
   "cell_type": "code",
   "execution_count": null,
   "metadata": {},
   "outputs": [],
   "source": [
    "l1, = plt.plot(np.arange(0, 100, 0.01), resp_real.values, alpha=0.5)\n",
    "l2, = plt.plot(np.arange(0, 100, 0.01), resp_pred_semidiff[0:10000], linewidth=2)\n",
    "l3, = plt.plot(np.arange(0, 100, 0.01), resp_pred_normal[0:10000], linewidth=2, color='m')\n",
    "#plt.set_title(titles[k], size=17)\n",
    "plt.ylim(-0.10, 0.10)\n",
    "#plt.tick_params(labelsize='x-normal')\n",
    "std_real = resp_real.std().values\n",
    "avg_real = resp_real.mean().values\n",
    "sig_digit_real = -math.floor(math.log10(std_real))\n",
    "std_pred_normal = resp_pred_normal[0:10000].std()\n",
    "avg_pred_normal = resp_pred_normal[0:10000].mean()\n",
    "sig_digit_pred_normal = -math.floor(math.log10(std_pred_normal))\n",
    "std_pred_semidiff = resp_pred_semidiff[0:10000].std()\n",
    "avg_pred_semidiff = resp_pred_semidiff[0:10000].mean()\n",
    "sig_digit_pred_semidiff = -math.floor(math.log10(std_pred_semidiff))\n",
    "#plt.legend((l1, l2, l3), ('real', 'predicted (semidiff)', 'predicted (normal)'), loc='lower right', shadow=True)\n",
    "plt.title('frequency of energy val. above 99th perc.')\n",
    "plt.ylabel('frequency')\n",
    "plt.xlabel('time')\n",
    "\n",
    "if SAVE_FIG:\n",
    "    plt.savefig('/home/marco/phd/devel/phd/logbook/fig/pred_{}_L_{}_{}.png'.format(\n",
    "        obs.replace('.', ''), str(force_linear_coefficient).replace('.', ''), str(deactivation_time)\n",
    "    ))"
   ]
  },
  {
   "cell_type": "markdown",
   "metadata": {},
   "source": [
    "### Plot cumulative distribution approximation"
   ]
  },
  {
   "cell_type": "code",
   "execution_count": null,
   "metadata": {},
   "outputs": [],
   "source": [
    "observable = 'energy'\n",
    "QUANTILES_PATH = f'/home/marco/phd/data/obs/lorenz96/rk4/CF_8.0/quantiles/obs_lorenz96_rk4_CF_8.0_quantiles_{observable}.nc'"
   ]
  },
  {
   "cell_type": "code",
   "execution_count": null,
   "metadata": {},
   "outputs": [],
   "source": [
    "quantiles = xr.open_dataarray(QUANTILES_PATH)\n",
    "x = quantiles.values\n",
    "y = quantiles.quantile_order\n",
    "print('quantiles_value', x)\n",
    "print('quantiles_order', y)\n",
    "plt.plot(x, y)"
   ]
  },
  {
   "cell_type": "code",
   "execution_count": null,
   "metadata": {},
   "outputs": [],
   "source": [
    "force_linear_coefficient = 0.02\n",
    "deactivation_time = 100\n",
    "forcing = f'LF_8.0_{force_linear_coefficient}_0_{deactivation_time}'"
   ]
  },
  {
   "cell_type": "code",
   "execution_count": null,
   "metadata": {},
   "outputs": [],
   "source": [
    "obs_all = [f\"{observable}_below_{format(np.round(quant, 2), '.2f')}q\" for quant in np.arange(0, 1.001, 0.01)]\n",
    "chi_normal = {}\n",
    "for obs in obs_all:\n",
    "    response_p1 = xr.open_dataarray(os.path.join(\n",
    "        REF_RESP_PATH[0],\n",
    "        observable,\n",
    "        f'response_lorenz96_rk4_{obs}_SF_8.0_1.0_0.nc'\n",
    "    ))\n",
    "    chi_normal[obs] = analysis.compute_susceptibility(response_p1.values.squeeze())\n",
    "resp_pred_normal = {}\n",
    "for obs in obs_all:\n",
    "    resp_pred_normal[obs] = analysis.compute_response(chi_normal[obs], forcings.LinearForcing(\n",
    "        linear_coefficient=force_linear_coefficient,\n",
    "        deactivation_time = deactivation_time\n",
    "    ))"
   ]
  },
  {
   "cell_type": "code",
   "execution_count": null,
   "metadata": {},
   "outputs": [],
   "source": [
    "resp_pred_normal_t50 = [resp_pred_normal[obs][5000] for obs in obs_all]\n",
    "y_pred_t50 = y + resp_pred_normal_t50\n",
    "resp_pred_normal_t100 = [resp_pred_normal[obs][9999] for obs in obs_all]\n",
    "y_pred_t100 = y + resp_pred_normal_t100"
   ]
  },
  {
   "cell_type": "markdown",
   "metadata": {},
   "source": [
    "#### Plot CDF"
   ]
  },
  {
   "cell_type": "code",
   "execution_count": null,
   "metadata": {},
   "outputs": [],
   "source": [
    "plt.plot(x, y, label='unperturbed')\n",
    "plt.plot(x, y_pred_t50, label='pert. t=50')\n",
    "plt.plot(x, y_pred_t100, label='pert. t=100')\n",
    "plt.title('Predicted CDF evolution')\n",
    "plt.legend()\n",
    "\n",
    "if SAVE_FIG:\n",
    "    plt.savefig('../logbook/fig/pred_cdf_{}_L_{}_{}.png'.format(\n",
    "        obs.replace('.', ''), str(force_linear_coefficient).replace('.', ''), str(deactivation_time)\n",
    "    ))"
   ]
  },
  {
   "cell_type": "markdown",
   "metadata": {},
   "source": [
    "#### Plot PDF"
   ]
  },
  {
   "cell_type": "code",
   "execution_count": null,
   "metadata": {},
   "outputs": [],
   "source": [
    "x_pdf_orig = np.diff(x)/2 + x[:-1]\n",
    "y_pdf_orig = np.diff(y)/np.diff(x)\n",
    "y_pdf_t_100 = np.diff(y + resp_pred_normal_t100)/np.diff(x)\n",
    "y_pdf_t_50 = np.diff(y + resp_pred_normal_t50)/np.diff(x)"
   ]
  },
  {
   "cell_type": "code",
   "execution_count": null,
   "metadata": {},
   "outputs": [],
   "source": [
    "plt.plot(x_pdf_orig, y_pdf_orig, label='unperturbed')\n",
    "plt.plot(x_pdf_orig, y_pdf_t_50, label='pert. t=50')\n",
    "plt.plot(x_pdf_orig, y_pdf_t_100, label='pert. t=100')\n",
    "plt.title('Predicted PDF evolution')\n",
    "plt.legend()\n",
    "\n",
    "if SAVE_FIG:\n",
    "    plt.savefig('../logbook/fig/pred_pdf_{}_L_{}_{}.png'.format(\n",
    "        obs.replace('.', ''), str(force_linear_coefficient).replace('.', ''), str(deactivation_time)\n",
    "    ))"
   ]
  },
  {
   "cell_type": "markdown",
   "metadata": {},
   "source": [
    "A zoom"
   ]
  },
  {
   "cell_type": "code",
   "execution_count": null,
   "metadata": {},
   "outputs": [],
   "source": [
    "plt.plot(x_pdf_orig, y_pdf_orig, label='unperturbed')\n",
    "plt.plot(x_pdf_orig, y_pdf_t_50, label='pert. t=50')\n",
    "plt.plot(x_pdf_orig, y_pdf_t_100, label='pert. t=100')\n",
    "plt.legend()\n",
    "plt.xlim(0,0.02)\n",
    "\n",
    "if SAVE_FIG:\n",
    "    plt.savefig('../logbook/fig/pred_pdf_zoom_{}_L_{}_{}.png'.format(\n",
    "        obs.replace('.', ''), str(force_linear_coefficient).replace('.', ''), str(deactivation_time)\n",
    "    ))"
   ]
  }
 ],
 "metadata": {
  "kernelspec": {
   "display_name": "exotic",
   "language": "python",
   "name": "exotic"
  },
  "language_info": {
   "codemirror_mode": {
    "name": "ipython",
    "version": 3
   },
   "file_extension": ".py",
   "mimetype": "text/x-python",
   "name": "python",
   "nbconvert_exporter": "python",
   "pygments_lexer": "ipython3",
   "version": "3.7.2"
  }
 },
 "nbformat": 4,
 "nbformat_minor": 4
}
