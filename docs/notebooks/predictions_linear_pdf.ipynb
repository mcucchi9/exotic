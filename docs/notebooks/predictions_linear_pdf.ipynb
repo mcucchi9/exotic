{
 "cells": [
  {
   "cell_type": "code",
   "execution_count": null,
   "metadata": {},
   "outputs": [],
   "source": [
    "%load_ext autoreload\n",
    "%autoreload 2\n",
    "\n",
    "import sys\n",
    "sys.path.append('/home/marco/phd/devel/exotic/exotic/')\n",
    "\n",
    "import os\n",
    "import math\n",
    "\n",
    "import numpy as np\n",
    "import pandas as pd\n",
    "import xarray as xr\n",
    "import plotly.graph_objects as go\n",
    "import matplotlib.pyplot as plt\n",
    "from IPython.display import display, HTML\n",
    "\n",
    "from lab import analysis\n",
    "from lab.simulation import forcings\n",
    "\n",
    "REF_RESP_PATH = [\n",
    "    '/home/marco/phd/data/response/lorenz96/rk4/SF_8.0_1.0_0/',\n",
    "    '/home/marco/phd/data/response/lorenz96/rk4/SF_8.0_-1.0_0/'            \n",
    "]\n",
    "\n",
    "SAVE_FIG = False"
   ]
  },
  {
   "cell_type": "markdown",
   "metadata": {},
   "source": [
    "## Plot cumulative distribution approximation"
   ]
  },
  {
   "cell_type": "code",
   "execution_count": null,
   "metadata": {},
   "outputs": [],
   "source": [
    "observable = 'energy'\n",
    "QUANTILES_PATH = f'/home/marco/phd/data/obs/lorenz96/rk4/CF_8.0/quantiles/obs_lorenz96_rk4_CF_8.0_quantiles_{observable}.nc'"
   ]
  },
  {
   "cell_type": "code",
   "execution_count": null,
   "metadata": {},
   "outputs": [],
   "source": [
    "quantiles_da = xr.open_dataarray(QUANTILES_PATH)\n",
    "quantiles_df = pd.DataFrame(data={'order': quantiles_da.quantile_order, 'value': quantiles_da.values})\n",
    "display(plt.plot(quantiles_df.value, quantiles_df.order))"
   ]
  },
  {
   "cell_type": "code",
   "execution_count": null,
   "metadata": {},
   "outputs": [],
   "source": [
    "force_linear_coefficient = 0.05\n",
    "deactivation_time = 100\n",
    "forcing = f'LF_8.0_{force_linear_coefficient}_0_{deactivation_time}'"
   ]
  },
  {
   "cell_type": "code",
   "execution_count": null,
   "metadata": {},
   "outputs": [],
   "source": [
    "obs_all = [f\"{observable}_below_{format(np.round(quant, 2), '.2f')}q\" for quant in np.arange(0, 1.001, 0.01)]\n",
    "chi = {}\n",
    "for obs in obs_all:\n",
    "    response_p1 = xr.open_dataarray(os.path.join(\n",
    "        REF_RESP_PATH[0],\n",
    "        observable,\n",
    "        f'response_lorenz96_rk4_{obs}_SF_8.0_1.0_0.nc'\n",
    "    ))\n",
    "    chi[obs] = analysis.compute_susceptibility(response_p1.values.squeeze())\n",
    "resp_pred = {}\n",
    "for obs in obs_all:\n",
    "    resp_pred[obs] = analysis.compute_response(chi[obs], forcings.LinearForcing(\n",
    "        linear_coefficient=force_linear_coefficient,\n",
    "        deactivation_time = deactivation_time\n",
    "    ))"
   ]
  },
  {
   "cell_type": "markdown",
   "metadata": {},
   "source": [
    "#### Plot CDF"
   ]
  },
  {
   "cell_type": "code",
   "execution_count": null,
   "metadata": {},
   "outputs": [],
   "source": [
    "quant_order_rest = np.array(quantiles_df.order)\n",
    "\n",
    "resp = [resp_pred[obs][0:10000] for obs in obs_all]\n",
    "resp = np.array(resp)\n",
    "\n",
    "for col in range(0, resp.shape[1]):\n",
    "    resp[:, col] = resp[:, col] + quant_order_rest\n",
    "\n",
    "z = resp\n",
    "y = quantiles_df.value\n",
    "x = np.arange(0, 100, 0.01)\n",
    "fig = go.Figure(data=[go.Surface(z=z, x=x, y=y)])\n",
    "fig.update_layout(title='PDF evolution',\n",
    "                  scene = dict(\n",
    "                    xaxis_title='time',\n",
    "                    yaxis_title='quantile value',\n",
    "                    zaxis_title='quantile order'\n",
    "                  ),\n",
    "                  autosize=False, width=750, height=750)"
   ]
  },
  {
   "cell_type": "code",
   "execution_count": null,
   "metadata": {},
   "outputs": [],
   "source": []
  }
 ],
 "metadata": {
  "kernelspec": {
   "display_name": "Python 3",
   "language": "python",
   "name": "python3"
  },
  "language_info": {
   "codemirror_mode": {
    "name": "ipython",
    "version": 3
   },
   "file_extension": ".py",
   "mimetype": "text/x-python",
   "name": "python",
   "nbconvert_exporter": "python",
   "pygments_lexer": "ipython3",
   "version": "3.7.2"
  }
 },
 "nbformat": 4,
 "nbformat_minor": 4
}
