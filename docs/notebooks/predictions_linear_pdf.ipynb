{
 "cells": [
  {
   "cell_type": "code",
   "execution_count": 1,
   "metadata": {},
   "outputs": [],
   "source": [
    "%load_ext autoreload\n",
    "%autoreload 2\n",
    "\n",
    "import sys\n",
    "sys.path.append('/home/marco/phd/devel/exotic/exotic/')\n",
    "\n",
    "import os\n",
    "import math\n",
    "import numpy as np\n",
    "import pandas as pd\n",
    "import xarray as xr\n",
    "import matplotlib.pyplot as plt\n",
    "from IPython.display import display, HTML\n",
    "\n",
    "from lab import analysis\n",
    "from lab.simulation import forcings\n",
    "\n",
    "REF_RESP_PATH = [\n",
    "    '/home/marco/phd/data/response/lorenz96/rk4/SF_8.0_1.0_0/',\n",
    "    '/home/marco/phd/data/response/lorenz96/rk4/SF_8.0_-1.0_0/'            \n",
    "]\n",
    "\n",
    "SAVE_FIG = False"
   ]
  },
  {
   "cell_type": "markdown",
   "metadata": {},
   "source": [
    "## Plot cumulative distribution approximation"
   ]
  },
  {
   "cell_type": "code",
   "execution_count": 2,
   "metadata": {},
   "outputs": [],
   "source": [
    "observable = 'energy'\n",
    "QUANTILES_PATH = f'/home/marco/phd/data/obs/lorenz96/rk4/CF_8.0/quantiles/obs_lorenz96_rk4_CF_8.0_quantiles_{observable}.nc'"
   ]
  },
  {
   "cell_type": "code",
   "execution_count": 3,
   "metadata": {},
   "outputs": [
    {
     "data": {
      "text/plain": [
       "[<matplotlib.lines.Line2D at 0x7f9861030908>]"
      ]
     },
     "metadata": {},
     "output_type": "display_data"
    },
    {
     "data": {
      "image/png": "[encoded data removed]",
      "text/plain": [
       "<Figure size 432x288 with 1 Axes>"
      ]
     },
     "metadata": {
      "needs_background": "light"
     },
     "output_type": "display_data"
    }
   ],
   "source": [
    "quantiles = xr.open_dataarray(QUANTILES_PATH)\n",
    "quantiles_df = pd.DataFrame(data={'order': quantiles.quantile_order, 'value': quantiles.values})\n",
    "display(plt.plot(quantiles_df.value, quantiles_df.order))"
   ]
  },
  {
   "cell_type": "code",
   "execution_count": 4,
   "metadata": {},
   "outputs": [],
   "source": [
    "force_linear_coefficient = 0.01\n",
    "deactivation_time = 100\n",
    "forcing = f'LF_8.0_{force_linear_coefficient}_0_{deactivation_time}'"
   ]
  },
  {
   "cell_type": "code",
   "execution_count": 7,
   "metadata": {},
   "outputs": [],
   "source": [
    "obs_all = [f\"{observable}_below_{format(np.round(quant, 2), '.2f')}q\" for quant in np.arange(0, 1.001, 0.01)]\n",
    "chi_normal = {}\n",
    "for obs in obs_all:\n",
    "    response_p1 = xr.open_dataarray(os.path.join(\n",
    "        REF_RESP_PATH[0],\n",
    "        observable,\n",
    "        f'response_lorenz96_rk4_{obs}_SF_8.0_1.0_0.nc'\n",
    "    ))\n",
    "    chi_normal[obs] = analysis.compute_susceptibility(response_p1.values.squeeze())\n",
    "resp_pred_normal = {}\n",
    "for obs in obs_all:\n",
    "    resp_pred_normal[obs] = analysis.compute_response(chi_normal[obs], forcings.LinearForcing(\n",
    "        linear_coefficient=force_linear_coefficient,\n",
    "        deactivation_time = deactivation_time\n",
    "    ))"
   ]
  },
  {
   "cell_type": "code",
   "execution_count": 12,
   "metadata": {},
   "outputs": [],
   "source": [
    "resp_pred_normal_t50 = [resp_pred_normal[obs][5000] for obs in obs_all]\n",
    "y_pred_t50 = quantiles_df.order.values + resp_pred_normal_t50\n",
    "resp_pred_normal_t100 = [resp_pred_normal[obs][9999] for obs in obs_all]\n",
    "y_pred_t100 = quantiles_df.order.values + resp_pred_normal_t100"
   ]
  },
  {
   "cell_type": "markdown",
   "metadata": {},
   "source": [
    "#### Plot CDF"
   ]
  },
  {
   "cell_type": "code",
   "execution_count": 13,
   "metadata": {},
   "outputs": [
    {
     "data": {
      "application/vnd.plotly.v1+json": {
       "config": {
        "plotlyServerURL": "https://plot.ly"
       },
       "data": [
        {
         "type": "surface",
         "x": [
          0,
          0.041666666666666664,
          0.08333333333333333,
          0.125,
          0.16666666666666666,
          0.20833333333333331,
          0.25,
          0.29166666666666663,
          0.3333333333333333,
          0.375,
          0.41666666666666663,
          0.4583333333333333,
          0.5,
          0.5416666666666666,
          0.5833333333333333,
          0.625,
          0.6666666666666666,
          0.7083333333333333,
          0.75,
          0.7916666666666666,
          0.8333333333333333,
          0.875,
          0.9166666666666666,
          0.9583333333333333,
          1
         ],
         "y": [
          0,
          0.041666666666666664,
          0.08333333333333333,
          0.125,
          0.16666666666666666,
          0.20833333333333331,
          0.25,
          0.29166666666666663,
          0.3333333333333333,
          0.375,
          0.41666666666666663,
          0.4583333333333333,
          0.5,
          0.5416666666666666,
          0.5833333333333333,
          0.625,
          0.6666666666666666,
          0.7083333333333333,
          0.75,
          0.7916666666666666,
          0.8333333333333333,
          0.875,
          0.9166666666666666,
          0.9583333333333333,
          1
         ],
         "z": [
          [
           0,
           27.80985,
           49.61936,
           83.08067,
           116.6632,
           130.414,
           150.7206,
           220.1871,
           156.1536,
           148.6416,
           203.7845,
           206.0386,
           107.1618,
           68.36975,
           45.3359,
           49.961420000000004,
           21.892789999999998,
           17.02552,
           11.74317,
           14.75226,
           13.6671,
           5.677561,
           3.3123400000000003,
           1.156517,
           -0.147662
          ],
          [
           1,
           27.719659999999998,
           48.55022,
           65.21374,
           95.27665999999999,
           116.9964,
           133.9056,
           152.3412,
           151.934,
           160.1139,
           179.5327,
           147.6184,
           170.3943,
           121.8194,
           52.58537,
           33.08871,
           38.40972,
           44.24843,
           69.5786,
           4.019351,
           3.050024,
           3.039719,
           2.996142,
           2.967954,
           1.9995939999999999
          ],
          [
           2,
           30.4267,
           33.47752,
           44.80953,
           62.47495,
           77.43523,
           104.2153,
           102.7393,
           137.0004,
           186.0706,
           219.3173,
           181.7615,
           120.9154,
           143.1835,
           82.40501,
           48.47132,
           74.71461,
           60.0909,
           7.073525,
           6.089851,
           6.53745,
           6.6660960000000005,
           7.306964999999999,
           5.73684,
           3.625628
          ],
          [
           3,
           16.66549,
           30.1086,
           39.96952,
           44.12225,
           59.57512,
           77.56929000000001,
           106.8925,
           166.5539,
           175.2381,
           185.2815,
           154.5056,
           83.0433,
           62.61731999999999,
           62.331669999999995,
           60.55916,
           55.921240000000004,
           15.172839999999999,
           8.248324,
           36.68087,
           61.93413,
           20.26867,
           68.58819,
           46.49812,
           0.23600949999999998
          ],
          [
           4,
           8.815617,
           18.3516,
           8.658275,
           27.5859,
           48.626909999999995,
           60.180130000000005,
           91.3286,
           145.7109,
           116.0653,
           106.2662,
           68.69447,
           53.105959999999996,
           37.92797,
           47.95942,
           47.42691,
           69.20730999999999,
           44.954679999999996,
           29.17197,
           17.91674,
           16.25515,
           14.65559,
           17.260479999999998,
           31.22245,
           46.717040000000004
          ],
          [
           5,
           6.628881,
           10.41339,
           24.81939,
           26.08952,
           30.1605,
           52.30802,
           64.71007,
           76.30823000000001,
           84.63686,
           99.4324,
           62.521319999999996,
           46.81647,
           55.766059999999996,
           82.4099,
           140.2647,
           81.26501,
           56.45756,
           30.421640000000004,
           17.28782,
           8.302431,
           2.981626,
           2.6985360000000003,
           5.886086,
           5.268358
          ],
          [
           6,
           21.83975,
           6.63927,
           18.97085,
           32.89204,
           43.15014,
           62.86014,
           104.6657,
           130.2294,
           114.8494,
           106.9873,
           61.896469999999994,
           55.556819999999995,
           86.80986,
           89.27802,
           122.4221,
           123.9698,
           109.0952,
           98.41956,
           77.61374,
           32.49031,
           14.67344,
           7.370775,
           0.03711011,
           0.6423392
          ],
          [
           7,
           53.343030000000006,
           26.79797,
           6.63927,
           10.88787,
           17.2044,
           56.18116,
           79.70141,
           90.8453,
           98.27675,
           80.87243000000001,
           74.7931,
           75.54661,
           73.4373,
           74.11694,
           68.1749,
           46.240759999999995,
           39.93857,
           31.21653,
           36.88335,
           40.02525,
           117.4297,
           12.70328,
           1.729771,
           0
          ],
          [
           8,
           25.66785,
           63.05716999999999,
           22.1414,
           17.074,
           41.74483,
           60.27226999999999,
           81.42432,
           114.444,
           102.3234,
           101.7878,
           111.031,
           119.2309,
           114.0777,
           110.5296,
           59.19355,
           42.47175,
           14.635979999999998,
           6.9440740000000005,
           6.944075,
           27.74936,
           0,
           0,
           0.09449376,
           0.07732264
          ],
          [
           9,
           12.827,
           69.20554,
           46.76293,
           13.96517,
           33.887440000000005,
           61.826130000000006,
           84.74799,
           121.12200000000001,
           145.2741,
           153.1797,
           204.78599999999997,
           227.9242,
           236.3038,
           228.3655,
           79.34425,
           25.934829999999998,
           6.9440740000000005,
           6.9440740000000005,
           6.944075,
           7.553681,
           0,
           0,
           0,
           0
          ],
          [
           10,
           0,
           68.66396,
           59.0435,
           33.357620000000004,
           47.45282,
           57.8355,
           78.91689000000001,
           107.8275,
           168.0053,
           130.9597,
           212.5541,
           165.8122,
           210.2429,
           181.1713,
           189.7617,
           137.3378,
           84.65395,
           8.677168,
           6.956575999999999,
           8.468093,
           0,
           0,
           0,
           0
          ],
          [
           11,
           0,
           95.17499000000001,
           80.03818000000001,
           59.898619999999994,
           39.584759999999996,
           50.28058,
           63.81641,
           80.61301999999999,
           66.37824,
           198.7651,
           244.3467,
           294.2474,
           264.3517,
           176.4082,
           60.21856999999999,
           77.41475,
           53.16981,
           56.16393000000001,
           6.949235000000001,
           7.531059,
           3.7801769999999997,
           0,
           0,
           0
          ],
          [
           12,
           0,
           134.9879,
           130.3696,
           96.86325,
           75.70494000000001,
           58.86466,
           57.20374,
           55.18836999999999,
           78.128,
           108.5582,
           154.3774,
           319.1686,
           372.8826,
           275.4655,
           130.2632,
           54.938219999999994,
           25.49719,
           8.047439,
           8.084392999999999,
           5.115252,
           5.678269,
           0,
           0,
           0
          ],
          [
           13,
           0,
           48.08919,
           142.5558,
           140.3777,
           154.7261,
           87.9361,
           58.11091999999999,
           52.83869,
           67.14822,
           83.66798,
           118.9242,
           150.0681,
           272.9709,
           341.1366,
           238.66400000000002,
           190.2,
           116.8943,
           91.48671999999999,
           14.0157,
           42.292770000000004,
           5.115252,
           0,
           0,
           0
          ],
          [
           14,
           0,
           54.1941,
           146.3839,
           99.48143,
           96.19411,
           102.9473,
           76.14089,
           57.7844,
           47.0402,
           64.36799,
           84.23767,
           162.7181,
           121.3275,
           213.1646,
           328.48199999999997,
           285.4489,
           283.8319,
           212.815,
           164.549,
           92.29630999999999,
           7.244014999999999,
           1.167,
           0,
           0
          ],
          [
           15,
           0,
           6.919658999999999,
           195.1709,
           132.5253,
           135.2341,
           89.85069,
           89.45549,
           60.29966999999999,
           50.33806,
           39.17583,
           59.068540000000006,
           74.52159,
           84.93401999999999,
           187.1219,
           123.9673,
           103.7027,
           128.986,
           165.1283,
           249.7054,
           95.39966,
           10.002839999999999,
           2.39255,
           0,
           0
          ],
          [
           16,
           0,
           21.73871,
           123.1339,
           176.7414,
           158.2698,
           137.235,
           105.3089,
           86.63255,
           53.11591,
           29.03865,
           30.40539,
           39.04902,
           49.23405,
           63.27853,
           111.4215,
           101.1956,
           40.00962,
           59.84565,
           74.51253,
           17.06316,
           2.435141,
           2.287471,
           -0.0003636982,
           0
          ],
          [
           17,
           0,
           0,
           62.04671999999999,
           136.3122,
           201.7952,
           168.1343,
           95.2046,
           58.906240000000004,
           46.940909999999995,
           49.27053,
           37.10416,
           17.970110000000002,
           30.936970000000002,
           33.39257,
           44.030770000000004,
           55.645419999999994,
           78.22423,
           14.42782,
           9.954997,
           7.768213,
           13.0254,
           21.73166,
           2.156372,
           0.5317867
          ],
          [
           18,
           0,
           0,
           79.62993,
           139.6978,
           173.167,
           192.8718,
           196.3499,
           144.6611,
           106.5424,
           57.16653,
           41.16107,
           32.12764,
           13.8566,
           10.91772,
           12.071769999999999,
           22.38254,
           24.72105,
           6.803666000000001,
           4.2008410000000005,
           16.46857,
           15.70744,
           33.96221,
           7.575688,
           -0.04880907
          ],
          [
           19,
           0,
           0,
           33.2664,
           57.53643,
           167.2241,
           196.4833,
           194.7966,
           182.1884,
           119.6961,
           73.02113,
           48.36549,
           33.746520000000004,
           26.2379,
           16.3578,
           6.811292999999999,
           6.63927,
           6.639271000000001,
           8.468093,
           6.194273,
           3.5912330000000003,
           3.81486,
           8.600739,
           5.21889,
           0
          ],
          [
           20,
           0,
           0,
           29.77937,
           54.97282,
           144.7995,
           207.4904,
           165.3432,
           171.4047,
           174.9216,
           100.2733,
           61.46441,
           50.19171,
           26.08209,
           17.18218,
           8.468093,
           6.63927,
           6.334467,
           6.334467,
           5.6666870000000005,
           4.272203,
           0,
           0,
           0,
           0
          ],
          [
           21,
           0,
           0,
           31.409000000000002,
           132.7418,
           185.5796,
           121.8299,
           185.3841,
           160.6566,
           116.1478,
           118.1078,
           141.7946,
           65.56351,
           48.84066,
           23.13864,
           18.12932,
           10.28531,
           6.029662999999999,
           6.044626999999999,
           5.694764,
           3.7390849999999998,
           3.896037,
           0,
           0,
           0
          ],
          [
           22,
           0,
           0,
           19.58994,
           42.30355,
           96.26777,
           187.1207,
           179.6626,
           221.3898,
           154.2617,
           142.1604,
           148.5737,
           67.17936999999999,
           40.69044,
           39.74512,
           26.10166,
           14.484689999999999,
           8.65873,
           3.896037,
           3.571392,
           3.896037,
           3.896037,
           3.896037,
           1.077756,
           0
          ],
          [
           23,
           0.001229679,
           3.008948,
           5.909858,
           33.50574,
           104.3341,
           152.2165,
           198.1988,
           191.84099999999998,
           228.7349,
           168.1041,
           144.2759,
           110.7436,
           57.65214,
           42.635040000000004,
           27.918909999999997,
           15.410520000000002,
           8.056102000000001,
           3.9028300000000002,
           3.879774,
           3.936718,
           3.9686339999999998,
           0.1236256,
           3.985531,
           -0.1835741
          ],
          [
           24,
           0,
           5.6261410000000005,
           7.6762559999999995,
           63.162259999999996,
           45.99762,
           79.56688,
           227.31099999999998,
           203.9287,
           172.5618,
           177.1462,
           140.4554,
           123.9905,
           110.346,
           65.12319000000001,
           34.318870000000004,
           24.5278,
           9.561069,
           3.3349910000000005,
           5.590495,
           5.487353,
           5.909498999999999,
           5.868994,
           5.833817,
           3.5681769999999995
          ]
         ]
        }
       ],
       "layout": {
        "autosize": false,
        "height": 500,
        "margin": {
         "b": 65,
         "l": 65,
         "r": 50,
         "t": 90
        },
        "scene": {
         "aspectmode": "auto",
         "aspectratio": {
          "x": 1,
          "y": 1,
          "z": 1
         },
         "camera": {
          "center": {
           "x": 0,
           "y": 0,
           "z": 0
          },
          "eye": {
           "x": 1.2500000000000002,
           "y": 1.25,
           "z": 1.2500000000000002
          },
          "projection": {
           "type": "perspective"
          },
          "up": {
           "x": 0,
           "y": 0,
           "z": 1
          }
         }
        },
        "template": {
         "data": {
          "bar": [
           {
            "error_x": {
             "color": "#2a3f5f"
            },
            "error_y": {
             "color": "#2a3f5f"
            },
            "marker": {
             "line": {
              "color": "#E5ECF6",
              "width": 0.5
             }
            },
            "type": "bar"
           }
          ],
          "barpolar": [
           {
            "marker": {
             "line": {
              "color": "#E5ECF6",
              "width": 0.5
             }
            },
            "type": "barpolar"
           }
          ],
          "carpet": [
           {
            "aaxis": {
             "endlinecolor": "#2a3f5f",
             "gridcolor": "white",
             "linecolor": "white",
             "minorgridcolor": "white",
             "startlinecolor": "#2a3f5f"
            },
            "baxis": {
             "endlinecolor": "#2a3f5f",
             "gridcolor": "white",
             "linecolor": "white",
             "minorgridcolor": "white",
             "startlinecolor": "#2a3f5f"
            },
            "type": "carpet"
           }
          ],
          "choropleth": [
           {
            "colorbar": {
             "outlinewidth": 0,
             "ticks": ""
            },
            "type": "choropleth"
           }
          ],
          "contour": [
           {
            "colorbar": {
             "outlinewidth": 0,
             "ticks": ""
            },
            "colorscale": [
             [
              0,
              "#0d0887"
             ],
             [
              0.1111111111111111,
              "#46039f"
             ],
             [
              0.2222222222222222,
              "#7201a8"
             ],
             [
              0.3333333333333333,
              "#9c179e"
             ],
             [
              0.4444444444444444,
              "#bd3786"
             ],
             [
              0.5555555555555556,
              "#d8576b"
             ],
             [
              0.6666666666666666,
              "#ed7953"
             ],
             [
              0.7777777777777778,
              "#fb9f3a"
             ],
             [
              0.8888888888888888,
              "#fdca26"
             ],
             [
              1,
              "#f0f921"
             ]
            ],
            "type": "contour"
           }
          ],
          "contourcarpet": [
           {
            "colorbar": {
             "outlinewidth": 0,
             "ticks": ""
            },
            "type": "contourcarpet"
           }
          ],
          "heatmap": [
           {
            "colorbar": {
             "outlinewidth": 0,
             "ticks": ""
            },
            "colorscale": [
             [
              0,
              "#0d0887"
             ],
             [
              0.1111111111111111,
              "#46039f"
             ],
             [
              0.2222222222222222,
              "#7201a8"
             ],
             [
              0.3333333333333333,
              "#9c179e"
             ],
             [
              0.4444444444444444,
              "#bd3786"
             ],
             [
              0.5555555555555556,
              "#d8576b"
             ],
             [
              0.6666666666666666,
              "#ed7953"
             ],
             [
              0.7777777777777778,
              "#fb9f3a"
             ],
             [
              0.8888888888888888,
              "#fdca26"
             ],
             [
              1,
              "#f0f921"
             ]
            ],
            "type": "heatmap"
           }
          ],
          "heatmapgl": [
           {
            "colorbar": {
             "outlinewidth": 0,
             "ticks": ""
            },
            "colorscale": [
             [
              0,
              "#0d0887"
             ],
             [
              0.1111111111111111,
              "#46039f"
             ],
             [
              0.2222222222222222,
              "#7201a8"
             ],
             [
              0.3333333333333333,
              "#9c179e"
             ],
             [
              0.4444444444444444,
              "#bd3786"
             ],
             [
              0.5555555555555556,
              "#d8576b"
             ],
             [
              0.6666666666666666,
              "#ed7953"
             ],
             [
              0.7777777777777778,
              "#fb9f3a"
             ],
             [
              0.8888888888888888,
              "#fdca26"
             ],
             [
              1,
              "#f0f921"
             ]
            ],
            "type": "heatmapgl"
           }
          ],
          "histogram": [
           {
            "marker": {
             "colorbar": {
              "outlinewidth": 0,
              "ticks": ""
             }
            },
            "type": "histogram"
           }
          ],
          "histogram2d": [
           {
            "colorbar": {
             "outlinewidth": 0,
             "ticks": ""
            },
            "colorscale": [
             [
              0,
              "#0d0887"
             ],
             [
              0.1111111111111111,
              "#46039f"
             ],
             [
              0.2222222222222222,
              "#7201a8"
             ],
             [
              0.3333333333333333,
              "#9c179e"
             ],
             [
              0.4444444444444444,
              "#bd3786"
             ],
             [
              0.5555555555555556,
              "#d8576b"
             ],
             [
              0.6666666666666666,
              "#ed7953"
             ],
             [
              0.7777777777777778,
              "#fb9f3a"
             ],
             [
              0.8888888888888888,
              "#fdca26"
             ],
             [
              1,
              "#f0f921"
             ]
            ],
            "type": "histogram2d"
           }
          ],
          "histogram2dcontour": [
           {
            "colorbar": {
             "outlinewidth": 0,
             "ticks": ""
            },
            "colorscale": [
             [
              0,
              "#0d0887"
             ],
             [
              0.1111111111111111,
              "#46039f"
             ],
             [
              0.2222222222222222,
              "#7201a8"
             ],
             [
              0.3333333333333333,
              "#9c179e"
             ],
             [
              0.4444444444444444,
              "#bd3786"
             ],
             [
              0.5555555555555556,
              "#d8576b"
             ],
             [
              0.6666666666666666,
              "#ed7953"
             ],
             [
              0.7777777777777778,
              "#fb9f3a"
             ],
             [
              0.8888888888888888,
              "#fdca26"
             ],
             [
              1,
              "#f0f921"
             ]
            ],
            "type": "histogram2dcontour"
           }
          ],
          "mesh3d": [
           {
            "colorbar": {
             "outlinewidth": 0,
             "ticks": ""
            },
            "type": "mesh3d"
           }
          ],
          "parcoords": [
           {
            "line": {
             "colorbar": {
              "outlinewidth": 0,
              "ticks": ""
             }
            },
            "type": "parcoords"
           }
          ],
          "pie": [
           {
            "automargin": true,
            "type": "pie"
           }
          ],
          "scatter": [
           {
            "marker": {
             "colorbar": {
              "outlinewidth": 0,
              "ticks": ""
             }
            },
            "type": "scatter"
           }
          ],
          "scatter3d": [
           {
            "line": {
             "colorbar": {
              "outlinewidth": 0,
              "ticks": ""
             }
            },
            "marker": {
             "colorbar": {
              "outlinewidth": 0,
              "ticks": ""
             }
            },
            "type": "scatter3d"
           }
          ],
          "scattercarpet": [
           {
            "marker": {
             "colorbar": {
              "outlinewidth": 0,
              "ticks": ""
             }
            },
            "type": "scattercarpet"
           }
          ],
          "scattergeo": [
           {
            "marker": {
             "colorbar": {
              "outlinewidth": 0,
              "ticks": ""
             }
            },
            "type": "scattergeo"
           }
          ],
          "scattergl": [
           {
            "marker": {
             "colorbar": {
              "outlinewidth": 0,
              "ticks": ""
             }
            },
            "type": "scattergl"
           }
          ],
          "scattermapbox": [
           {
            "marker": {
             "colorbar": {
              "outlinewidth": 0,
              "ticks": ""
             }
            },
            "type": "scattermapbox"
           }
          ],
          "scatterpolar": [
           {
            "marker": {
             "colorbar": {
              "outlinewidth": 0,
              "ticks": ""
             }
            },
            "type": "scatterpolar"
           }
          ],
          "scatterpolargl": [
           {
            "marker": {
             "colorbar": {
              "outlinewidth": 0,
              "ticks": ""
             }
            },
            "type": "scatterpolargl"
           }
          ],
          "scatterternary": [
           {
            "marker": {
             "colorbar": {
              "outlinewidth": 0,
              "ticks": ""
             }
            },
            "type": "scatterternary"
           }
          ],
          "surface": [
           {
            "colorbar": {
             "outlinewidth": 0,
             "ticks": ""
            },
            "colorscale": [
             [
              0,
              "#0d0887"
             ],
             [
              0.1111111111111111,
              "#46039f"
             ],
             [
              0.2222222222222222,
              "#7201a8"
             ],
             [
              0.3333333333333333,
              "#9c179e"
             ],
             [
              0.4444444444444444,
              "#bd3786"
             ],
             [
              0.5555555555555556,
              "#d8576b"
             ],
             [
              0.6666666666666666,
              "#ed7953"
             ],
             [
              0.7777777777777778,
              "#fb9f3a"
             ],
             [
              0.8888888888888888,
              "#fdca26"
             ],
             [
              1,
              "#f0f921"
             ]
            ],
            "type": "surface"
           }
          ],
          "table": [
           {
            "cells": {
             "fill": {
              "color": "#EBF0F8"
             },
             "line": {
              "color": "white"
             }
            },
            "header": {
             "fill": {
              "color": "#C8D4E3"
             },
             "line": {
              "color": "white"
             }
            },
            "type": "table"
           }
          ]
         },
         "layout": {
          "annotationdefaults": {
           "arrowcolor": "#2a3f5f",
           "arrowhead": 0,
           "arrowwidth": 1
          },
          "coloraxis": {
           "colorbar": {
            "outlinewidth": 0,
            "ticks": ""
           }
          },
          "colorscale": {
           "diverging": [
            [
             0,
             "#8e0152"
            ],
            [
             0.1,
             "#c51b7d"
            ],
            [
             0.2,
             "#de77ae"
            ],
            [
             0.3,
             "#f1b6da"
            ],
            [
             0.4,
             "#fde0ef"
            ],
            [
             0.5,
             "#f7f7f7"
            ],
            [
             0.6,
             "#e6f5d0"
            ],
            [
             0.7,
             "#b8e186"
            ],
            [
             0.8,
             "#7fbc41"
            ],
            [
             0.9,
             "#4d9221"
            ],
            [
             1,
             "#276419"
            ]
           ],
           "sequential": [
            [
             0,
             "#0d0887"
            ],
            [
             0.1111111111111111,
             "#46039f"
            ],
            [
             0.2222222222222222,
             "#7201a8"
            ],
            [
             0.3333333333333333,
             "#9c179e"
            ],
            [
             0.4444444444444444,
             "#bd3786"
            ],
            [
             0.5555555555555556,
             "#d8576b"
            ],
            [
             0.6666666666666666,
             "#ed7953"
            ],
            [
             0.7777777777777778,
             "#fb9f3a"
            ],
            [
             0.8888888888888888,
             "#fdca26"
            ],
            [
             1,
             "#f0f921"
            ]
           ],
           "sequentialminus": [
            [
             0,
             "#0d0887"
            ],
            [
             0.1111111111111111,
             "#46039f"
            ],
            [
             0.2222222222222222,
             "#7201a8"
            ],
            [
             0.3333333333333333,
             "#9c179e"
            ],
            [
             0.4444444444444444,
             "#bd3786"
            ],
            [
             0.5555555555555556,
             "#d8576b"
            ],
            [
             0.6666666666666666,
             "#ed7953"
            ],
            [
             0.7777777777777778,
             "#fb9f3a"
            ],
            [
             0.8888888888888888,
             "#fdca26"
            ],
            [
             1,
             "#f0f921"
            ]
           ]
          },
          "colorway": [
           "#636efa",
           "#EF553B",
           "#00cc96",
           "#ab63fa",
           "#FFA15A",
           "#19d3f3",
           "#FF6692",
           "#B6E880",
           "#FF97FF",
           "#FECB52"
          ],
          "font": {
           "color": "#2a3f5f"
          },
          "geo": {
           "bgcolor": "white",
           "lakecolor": "white",
           "landcolor": "#E5ECF6",
           "showlakes": true,
           "showland": true,
           "subunitcolor": "white"
          },
          "hoverlabel": {
           "align": "left"
          },
          "hovermode": "closest",
          "mapbox": {
           "style": "light"
          },
          "paper_bgcolor": "white",
          "plot_bgcolor": "#E5ECF6",
          "polar": {
           "angularaxis": {
            "gridcolor": "white",
            "linecolor": "white",
            "ticks": ""
           },
           "bgcolor": "#E5ECF6",
           "radialaxis": {
            "gridcolor": "white",
            "linecolor": "white",
            "ticks": ""
           }
          },
          "scene": {
           "xaxis": {
            "backgroundcolor": "#E5ECF6",
            "gridcolor": "white",
            "gridwidth": 2,
            "linecolor": "white",
            "showbackground": true,
            "ticks": "",
            "zerolinecolor": "white"
           },
           "yaxis": {
            "backgroundcolor": "#E5ECF6",
            "gridcolor": "white",
            "gridwidth": 2,
            "linecolor": "white",
            "showbackground": true,
            "ticks": "",
            "zerolinecolor": "white"
           },
           "zaxis": {
            "backgroundcolor": "#E5ECF6",
            "gridcolor": "white",
            "gridwidth": 2,
            "linecolor": "white",
            "showbackground": true,
            "ticks": "",
            "zerolinecolor": "white"
           }
          },
          "shapedefaults": {
           "line": {
            "color": "#2a3f5f"
           }
          },
          "ternary": {
           "aaxis": {
            "gridcolor": "white",
            "linecolor": "white",
            "ticks": ""
           },
           "baxis": {
            "gridcolor": "white",
            "linecolor": "white",
            "ticks": ""
           },
           "bgcolor": "#E5ECF6",
           "caxis": {
            "gridcolor": "white",
            "linecolor": "white",
            "ticks": ""
           }
          },
          "title": {
           "x": 0.05
          },
          "xaxis": {
           "automargin": true,
           "gridcolor": "white",
           "linecolor": "white",
           "ticks": "",
           "title": {
            "standoff": 15
           },
           "zerolinecolor": "white",
           "zerolinewidth": 2
          },
          "yaxis": {
           "automargin": true,
           "gridcolor": "white",
           "linecolor": "white",
           "ticks": "",
           "title": {
            "standoff": 15
           },
           "zerolinecolor": "white",
           "zerolinewidth": 2
          }
         }
        },
        "title": {
         "text": "Mt Bruno Elevation"
        },
        "width": 500
       }
      },
      "image/png": "[encoded data removed]",
      "text/html": [
       "<div>\n",
       "        \n",
       "        \n",
       "            <div id=\"535168ed-56ef-44e2-a514-2db72d55800e\" class=\"plotly-graph-div\" style=\"height:500px; width:500px;\"></div>\n",
       "            <script type=\"text/javascript\">\n",
       "                require([\"plotly\"], function(Plotly) {\n",
       "                    window.PLOTLYENV=window.PLOTLYENV || {};\n",
       "                    \n",
       "                if (document.getElementById(\"535168ed-56ef-44e2-a514-2db72d55800e\")) {\n",
       "                    Plotly.newPlot(\n",
       "                        '535168ed-56ef-44e2-a514-2db72d55800e',\n",
       "                        [{\"type\": \"surface\", \"x\": [0.0, 0.041666666666666664, 0.08333333333333333, 0.125, 0.16666666666666666, 0.20833333333333331, 0.25, 0.29166666666666663, 0.3333333333333333, 0.375, 0.41666666666666663, 0.4583333333333333, 0.5, 0.5416666666666666, 0.5833333333333333, 0.625, 0.6666666666666666, 0.7083333333333333, 0.75, 0.7916666666666666, 0.8333333333333333, 0.875, 0.9166666666666666, 0.9583333333333333, 1.0], \"y\": [0.0, 0.041666666666666664, 0.08333333333333333, 0.125, 0.16666666666666666, 0.20833333333333331, 0.25, 0.29166666666666663, 0.3333333333333333, 0.375, 0.41666666666666663, 0.4583333333333333, 0.5, 0.5416666666666666, 0.5833333333333333, 0.625, 0.6666666666666666, 0.7083333333333333, 0.75, 0.7916666666666666, 0.8333333333333333, 0.875, 0.9166666666666666, 0.9583333333333333, 1.0], \"z\": [[0.0, 27.80985, 49.61936, 83.08067, 116.6632, 130.414, 150.7206, 220.1871, 156.1536, 148.6416, 203.7845, 206.0386, 107.1618, 68.36975, 45.3359, 49.961420000000004, 21.892789999999998, 17.02552, 11.74317, 14.75226, 13.6671, 5.677561, 3.3123400000000003, 1.156517, -0.147662], [1.0, 27.719659999999998, 48.55022, 65.21374, 95.27665999999999, 116.9964, 133.9056, 152.3412, 151.934, 160.1139, 179.5327, 147.6184, 170.3943, 121.8194, 52.58537, 33.08871, 38.40972, 44.24843, 69.5786, 4.019351, 3.050024, 3.039719, 2.996142, 2.967954, 1.9995939999999999], [2.0, 30.4267, 33.47752, 44.80953, 62.47495, 77.43523, 104.2153, 102.7393, 137.0004, 186.0706, 219.3173, 181.7615, 120.9154, 143.1835, 82.40501, 48.47132, 74.71461, 60.0909, 7.073525, 6.089851, 6.53745, 6.6660960000000005, 7.306964999999999, 5.73684, 3.625628], [3.0, 16.66549, 30.1086, 39.96952, 44.12225, 59.57512, 77.56929000000001, 106.8925, 166.5539, 175.2381, 185.2815, 154.5056, 83.0433, 62.61731999999999, 62.331669999999995, 60.55916, 55.921240000000004, 15.172839999999999, 8.248324, 36.68087, 61.93413, 20.26867, 68.58819, 46.49812, 0.23600949999999998], [4.0, 8.815617, 18.3516, 8.658275, 27.5859, 48.626909999999995, 60.180130000000005, 91.3286, 145.7109, 116.0653, 106.2662, 68.69447, 53.105959999999996, 37.92797, 47.95942, 47.42691, 69.20730999999999, 44.954679999999996, 29.17197, 17.91674, 16.25515, 14.65559, 17.260479999999998, 31.22245, 46.717040000000004], [5.0, 6.628881, 10.41339, 24.81939, 26.08952, 30.1605, 52.30802, 64.71007, 76.30823000000001, 84.63686, 99.4324, 62.521319999999996, 46.81647, 55.766059999999996, 82.4099, 140.2647, 81.26501, 56.45756, 30.421640000000004, 17.28782, 8.302431, 2.981626, 2.6985360000000003, 5.886086, 5.268358], [6.0, 21.83975, 6.63927, 18.97085, 32.89204, 43.15014, 62.86014, 104.6657, 130.2294, 114.8494, 106.9873, 61.896469999999994, 55.556819999999995, 86.80986, 89.27802, 122.4221, 123.9698, 109.0952, 98.41956, 77.61374, 32.49031, 14.67344, 7.370775, 0.03711011, 0.6423392], [7.0, 53.343030000000006, 26.79797, 6.63927, 10.88787, 17.2044, 56.18116, 79.70141, 90.8453, 98.27675, 80.87243000000001, 74.7931, 75.54661, 73.4373, 74.11694, 68.1749, 46.240759999999995, 39.93857, 31.21653, 36.88335, 40.02525, 117.4297, 12.70328, 1.729771, 0.0], [8.0, 25.66785, 63.05716999999999, 22.1414, 17.074, 41.74483, 60.27226999999999, 81.42432, 114.444, 102.3234, 101.7878, 111.031, 119.2309, 114.0777, 110.5296, 59.19355, 42.47175, 14.635979999999998, 6.9440740000000005, 6.944075, 27.74936, 0.0, 0.0, 0.09449376, 0.07732264], [9.0, 12.827, 69.20554, 46.76293, 13.96517, 33.887440000000005, 61.826130000000006, 84.74799, 121.12200000000001, 145.2741, 153.1797, 204.78599999999997, 227.9242, 236.3038, 228.3655, 79.34425, 25.934829999999998, 6.9440740000000005, 6.9440740000000005, 6.944075, 7.553681, 0.0, 0.0, 0.0, 0.0], [10.0, 0.0, 68.66396, 59.0435, 33.357620000000004, 47.45282, 57.8355, 78.91689000000001, 107.8275, 168.0053, 130.9597, 212.5541, 165.8122, 210.2429, 181.1713, 189.7617, 137.3378, 84.65395, 8.677168, 6.956575999999999, 8.468093, 0.0, 0.0, 0.0, 0.0], [11.0, 0.0, 95.17499000000001, 80.03818000000001, 59.898619999999994, 39.584759999999996, 50.28058, 63.81641, 80.61301999999999, 66.37824, 198.7651, 244.3467, 294.2474, 264.3517, 176.4082, 60.21856999999999, 77.41475, 53.16981, 56.16393000000001, 6.949235000000001, 7.531059, 3.7801769999999997, 0.0, 0.0, 0.0], [12.0, 0.0, 134.9879, 130.3696, 96.86325, 75.70494000000001, 58.86466, 57.20374, 55.18836999999999, 78.128, 108.5582, 154.3774, 319.1686, 372.8826, 275.4655, 130.2632, 54.938219999999994, 25.49719, 8.047439, 8.084392999999999, 5.115252, 5.678269, 0.0, 0.0, 0.0], [13.0, 0.0, 48.08919, 142.5558, 140.3777, 154.7261, 87.9361, 58.11091999999999, 52.83869, 67.14822, 83.66798, 118.9242, 150.0681, 272.9709, 341.1366, 238.66400000000002, 190.2, 116.8943, 91.48671999999999, 14.0157, 42.292770000000004, 5.115252, 0.0, 0.0, 0.0], [14.0, 0.0, 54.1941, 146.3839, 99.48143, 96.19411, 102.9473, 76.14089, 57.7844, 47.0402, 64.36799, 84.23767, 162.7181, 121.3275, 213.1646, 328.48199999999997, 285.4489, 283.8319, 212.815, 164.549, 92.29630999999999, 7.244014999999999, 1.167, 0.0, 0.0], [15.0, 0.0, 6.919658999999999, 195.1709, 132.5253, 135.2341, 89.85069, 89.45549, 60.29966999999999, 50.33806, 39.17583, 59.068540000000006, 74.52159, 84.93401999999999, 187.1219, 123.9673, 103.7027, 128.986, 165.1283, 249.7054, 95.39966, 10.002839999999999, 2.39255, 0.0, 0.0], [16.0, 0.0, 21.73871, 123.1339, 176.7414, 158.2698, 137.235, 105.3089, 86.63255, 53.11591, 29.03865, 30.40539, 39.04902, 49.23405, 63.27853, 111.4215, 101.1956, 40.00962, 59.84565, 74.51253, 17.06316, 2.435141, 2.287471, -0.0003636982, 0.0], [17.0, 0.0, 0.0, 62.04671999999999, 136.3122, 201.7952, 168.1343, 95.2046, 58.906240000000004, 46.940909999999995, 49.27053, 37.10416, 17.970110000000002, 30.936970000000002, 33.39257, 44.030770000000004, 55.645419999999994, 78.22423, 14.42782, 9.954997, 7.768213, 13.0254, 21.73166, 2.156372, 0.5317867], [18.0, 0.0, 0.0, 79.62993, 139.6978, 173.167, 192.8718, 196.3499, 144.6611, 106.5424, 57.16653, 41.16107, 32.12764, 13.8566, 10.91772, 12.071769999999999, 22.38254, 24.72105, 6.803666000000001, 4.2008410000000005, 16.46857, 15.70744, 33.96221, 7.575688, -0.04880907], [19.0, 0.0, 0.0, 33.2664, 57.53643, 167.2241, 196.4833, 194.7966, 182.1884, 119.6961, 73.02113, 48.36549, 33.746520000000004, 26.2379, 16.3578, 6.811292999999999, 6.63927, 6.639271000000001, 8.468093, 6.194273, 3.5912330000000003, 3.81486, 8.600739, 5.21889, 0.0], [20.0, 0.0, 0.0, 29.77937, 54.97282, 144.7995, 207.4904, 165.3432, 171.4047, 174.9216, 100.2733, 61.46441, 50.19171, 26.08209, 17.18218, 8.468093, 6.63927, 6.334467, 6.334467, 5.6666870000000005, 4.272203, 0.0, 0.0, 0.0, 0.0], [21.0, 0.0, 0.0, 31.409000000000002, 132.7418, 185.5796, 121.8299, 185.3841, 160.6566, 116.1478, 118.1078, 141.7946, 65.56351, 48.84066, 23.13864, 18.12932, 10.28531, 6.029662999999999, 6.044626999999999, 5.694764, 3.7390849999999998, 3.896037, 0.0, 0.0, 0.0], [22.0, 0.0, 0.0, 19.58994, 42.30355, 96.26777, 187.1207, 179.6626, 221.3898, 154.2617, 142.1604, 148.5737, 67.17936999999999, 40.69044, 39.74512, 26.10166, 14.484689999999999, 8.65873, 3.896037, 3.571392, 3.896037, 3.896037, 3.896037, 1.077756, 0.0], [23.0, 0.001229679, 3.008948, 5.909858, 33.50574, 104.3341, 152.2165, 198.1988, 191.84099999999998, 228.7349, 168.1041, 144.2759, 110.7436, 57.65214, 42.635040000000004, 27.918909999999997, 15.410520000000002, 8.056102000000001, 3.9028300000000002, 3.879774, 3.936718, 3.9686339999999998, 0.1236256, 3.985531, -0.1835741], [24.0, 0.0, 5.6261410000000005, 7.6762559999999995, 63.162259999999996, 45.99762, 79.56688, 227.31099999999998, 203.9287, 172.5618, 177.1462, 140.4554, 123.9905, 110.346, 65.12319000000001, 34.318870000000004, 24.5278, 9.561069, 3.3349910000000005, 5.590495, 5.487353, 5.909498999999999, 5.868994, 5.833817, 3.5681769999999995]]}],\n",
       "                        {\"autosize\": false, \"height\": 500, \"margin\": {\"b\": 65, \"l\": 65, \"r\": 50, \"t\": 90}, \"template\": {\"data\": {\"bar\": [{\"error_x\": {\"color\": \"#2a3f5f\"}, \"error_y\": {\"color\": \"#2a3f5f\"}, \"marker\": {\"line\": {\"color\": \"#E5ECF6\", \"width\": 0.5}}, \"type\": \"bar\"}], \"barpolar\": [{\"marker\": {\"line\": {\"color\": \"#E5ECF6\", \"width\": 0.5}}, \"type\": \"barpolar\"}], \"carpet\": [{\"aaxis\": {\"endlinecolor\": \"#2a3f5f\", \"gridcolor\": \"white\", \"linecolor\": \"white\", \"minorgridcolor\": \"white\", \"startlinecolor\": \"#2a3f5f\"}, \"baxis\": {\"endlinecolor\": \"#2a3f5f\", \"gridcolor\": \"white\", \"linecolor\": \"white\", \"minorgridcolor\": \"white\", \"startlinecolor\": \"#2a3f5f\"}, \"type\": \"carpet\"}], \"choropleth\": [{\"colorbar\": {\"outlinewidth\": 0, \"ticks\": \"\"}, \"type\": \"choropleth\"}], \"contour\": [{\"colorbar\": {\"outlinewidth\": 0, \"ticks\": \"\"}, \"colorscale\": [[0.0, \"#0d0887\"], [0.1111111111111111, \"#46039f\"], [0.2222222222222222, \"#7201a8\"], [0.3333333333333333, \"#9c179e\"], [0.4444444444444444, \"#bd3786\"], [0.5555555555555556, \"#d8576b\"], [0.6666666666666666, \"#ed7953\"], [0.7777777777777778, \"#fb9f3a\"], [0.8888888888888888, \"#fdca26\"], [1.0, \"#f0f921\"]], \"type\": \"contour\"}], \"contourcarpet\": [{\"colorbar\": {\"outlinewidth\": 0, \"ticks\": \"\"}, \"type\": \"contourcarpet\"}], \"heatmap\": [{\"colorbar\": {\"outlinewidth\": 0, \"ticks\": \"\"}, \"colorscale\": [[0.0, \"#0d0887\"], [0.1111111111111111, \"#46039f\"], [0.2222222222222222, \"#7201a8\"], [0.3333333333333333, \"#9c179e\"], [0.4444444444444444, \"#bd3786\"], [0.5555555555555556, \"#d8576b\"], [0.6666666666666666, \"#ed7953\"], [0.7777777777777778, \"#fb9f3a\"], [0.8888888888888888, \"#fdca26\"], [1.0, \"#f0f921\"]], \"type\": \"heatmap\"}], \"heatmapgl\": [{\"colorbar\": {\"outlinewidth\": 0, \"ticks\": \"\"}, \"colorscale\": [[0.0, \"#0d0887\"], [0.1111111111111111, \"#46039f\"], [0.2222222222222222, \"#7201a8\"], [0.3333333333333333, \"#9c179e\"], [0.4444444444444444, \"#bd3786\"], [0.5555555555555556, \"#d8576b\"], [0.6666666666666666, \"#ed7953\"], [0.7777777777777778, \"#fb9f3a\"], [0.8888888888888888, \"#fdca26\"], [1.0, \"#f0f921\"]], \"type\": \"heatmapgl\"}], \"histogram\": [{\"marker\": {\"colorbar\": {\"outlinewidth\": 0, \"ticks\": \"\"}}, \"type\": \"histogram\"}], \"histogram2d\": [{\"colorbar\": {\"outlinewidth\": 0, \"ticks\": \"\"}, \"colorscale\": [[0.0, \"#0d0887\"], [0.1111111111111111, \"#46039f\"], [0.2222222222222222, \"#7201a8\"], [0.3333333333333333, \"#9c179e\"], [0.4444444444444444, \"#bd3786\"], [0.5555555555555556, \"#d8576b\"], [0.6666666666666666, \"#ed7953\"], [0.7777777777777778, \"#fb9f3a\"], [0.8888888888888888, \"#fdca26\"], [1.0, \"#f0f921\"]], \"type\": \"histogram2d\"}], \"histogram2dcontour\": [{\"colorbar\": {\"outlinewidth\": 0, \"ticks\": \"\"}, \"colorscale\": [[0.0, \"#0d0887\"], [0.1111111111111111, \"#46039f\"], [0.2222222222222222, \"#7201a8\"], [0.3333333333333333, \"#9c179e\"], [0.4444444444444444, \"#bd3786\"], [0.5555555555555556, \"#d8576b\"], [0.6666666666666666, \"#ed7953\"], [0.7777777777777778, \"#fb9f3a\"], [0.8888888888888888, \"#fdca26\"], [1.0, \"#f0f921\"]], \"type\": \"histogram2dcontour\"}], \"mesh3d\": [{\"colorbar\": {\"outlinewidth\": 0, \"ticks\": \"\"}, \"type\": \"mesh3d\"}], \"parcoords\": [{\"line\": {\"colorbar\": {\"outlinewidth\": 0, \"ticks\": \"\"}}, \"type\": \"parcoords\"}], \"pie\": [{\"automargin\": true, \"type\": \"pie\"}], \"scatter\": [{\"marker\": {\"colorbar\": {\"outlinewidth\": 0, \"ticks\": \"\"}}, \"type\": \"scatter\"}], \"scatter3d\": [{\"line\": {\"colorbar\": {\"outlinewidth\": 0, \"ticks\": \"\"}}, \"marker\": {\"colorbar\": {\"outlinewidth\": 0, \"ticks\": \"\"}}, \"type\": \"scatter3d\"}], \"scattercarpet\": [{\"marker\": {\"colorbar\": {\"outlinewidth\": 0, \"ticks\": \"\"}}, \"type\": \"scattercarpet\"}], \"scattergeo\": [{\"marker\": {\"colorbar\": {\"outlinewidth\": 0, \"ticks\": \"\"}}, \"type\": \"scattergeo\"}], \"scattergl\": [{\"marker\": {\"colorbar\": {\"outlinewidth\": 0, \"ticks\": \"\"}}, \"type\": \"scattergl\"}], \"scattermapbox\": [{\"marker\": {\"colorbar\": {\"outlinewidth\": 0, \"ticks\": \"\"}}, \"type\": \"scattermapbox\"}], \"scatterpolar\": [{\"marker\": {\"colorbar\": {\"outlinewidth\": 0, \"ticks\": \"\"}}, \"type\": \"scatterpolar\"}], \"scatterpolargl\": [{\"marker\": {\"colorbar\": {\"outlinewidth\": 0, \"ticks\": \"\"}}, \"type\": \"scatterpolargl\"}], \"scatterternary\": [{\"marker\": {\"colorbar\": {\"outlinewidth\": 0, \"ticks\": \"\"}}, \"type\": \"scatterternary\"}], \"surface\": [{\"colorbar\": {\"outlinewidth\": 0, \"ticks\": \"\"}, \"colorscale\": [[0.0, \"#0d0887\"], [0.1111111111111111, \"#46039f\"], [0.2222222222222222, \"#7201a8\"], [0.3333333333333333, \"#9c179e\"], [0.4444444444444444, \"#bd3786\"], [0.5555555555555556, \"#d8576b\"], [0.6666666666666666, \"#ed7953\"], [0.7777777777777778, \"#fb9f3a\"], [0.8888888888888888, \"#fdca26\"], [1.0, \"#f0f921\"]], \"type\": \"surface\"}], \"table\": [{\"cells\": {\"fill\": {\"color\": \"#EBF0F8\"}, \"line\": {\"color\": \"white\"}}, \"header\": {\"fill\": {\"color\": \"#C8D4E3\"}, \"line\": {\"color\": \"white\"}}, \"type\": \"table\"}]}, \"layout\": {\"annotationdefaults\": {\"arrowcolor\": \"#2a3f5f\", \"arrowhead\": 0, \"arrowwidth\": 1}, \"coloraxis\": {\"colorbar\": {\"outlinewidth\": 0, \"ticks\": \"\"}}, \"colorscale\": {\"diverging\": [[0, \"#8e0152\"], [0.1, \"#c51b7d\"], [0.2, \"#de77ae\"], [0.3, \"#f1b6da\"], [0.4, \"#fde0ef\"], [0.5, \"#f7f7f7\"], [0.6, \"#e6f5d0\"], [0.7, \"#b8e186\"], [0.8, \"#7fbc41\"], [0.9, \"#4d9221\"], [1, \"#276419\"]], \"sequential\": [[0.0, \"#0d0887\"], [0.1111111111111111, \"#46039f\"], [0.2222222222222222, \"#7201a8\"], [0.3333333333333333, \"#9c179e\"], [0.4444444444444444, \"#bd3786\"], [0.5555555555555556, \"#d8576b\"], [0.6666666666666666, \"#ed7953\"], [0.7777777777777778, \"#fb9f3a\"], [0.8888888888888888, \"#fdca26\"], [1.0, \"#f0f921\"]], \"sequentialminus\": [[0.0, \"#0d0887\"], [0.1111111111111111, \"#46039f\"], [0.2222222222222222, \"#7201a8\"], [0.3333333333333333, \"#9c179e\"], [0.4444444444444444, \"#bd3786\"], [0.5555555555555556, \"#d8576b\"], [0.6666666666666666, \"#ed7953\"], [0.7777777777777778, \"#fb9f3a\"], [0.8888888888888888, \"#fdca26\"], [1.0, \"#f0f921\"]]}, \"colorway\": [\"#636efa\", \"#EF553B\", \"#00cc96\", \"#ab63fa\", \"#FFA15A\", \"#19d3f3\", \"#FF6692\", \"#B6E880\", \"#FF97FF\", \"#FECB52\"], \"font\": {\"color\": \"#2a3f5f\"}, \"geo\": {\"bgcolor\": \"white\", \"lakecolor\": \"white\", \"landcolor\": \"#E5ECF6\", \"showlakes\": true, \"showland\": true, \"subunitcolor\": \"white\"}, \"hoverlabel\": {\"align\": \"left\"}, \"hovermode\": \"closest\", \"mapbox\": {\"style\": \"light\"}, \"paper_bgcolor\": \"white\", \"plot_bgcolor\": \"#E5ECF6\", \"polar\": {\"angularaxis\": {\"gridcolor\": \"white\", \"linecolor\": \"white\", \"ticks\": \"\"}, \"bgcolor\": \"#E5ECF6\", \"radialaxis\": {\"gridcolor\": \"white\", \"linecolor\": \"white\", \"ticks\": \"\"}}, \"scene\": {\"xaxis\": {\"backgroundcolor\": \"#E5ECF6\", \"gridcolor\": \"white\", \"gridwidth\": 2, \"linecolor\": \"white\", \"showbackground\": true, \"ticks\": \"\", \"zerolinecolor\": \"white\"}, \"yaxis\": {\"backgroundcolor\": \"#E5ECF6\", \"gridcolor\": \"white\", \"gridwidth\": 2, \"linecolor\": \"white\", \"showbackground\": true, \"ticks\": \"\", \"zerolinecolor\": \"white\"}, \"zaxis\": {\"backgroundcolor\": \"#E5ECF6\", \"gridcolor\": \"white\", \"gridwidth\": 2, \"linecolor\": \"white\", \"showbackground\": true, \"ticks\": \"\", \"zerolinecolor\": \"white\"}}, \"shapedefaults\": {\"line\": {\"color\": \"#2a3f5f\"}}, \"ternary\": {\"aaxis\": {\"gridcolor\": \"white\", \"linecolor\": \"white\", \"ticks\": \"\"}, \"baxis\": {\"gridcolor\": \"white\", \"linecolor\": \"white\", \"ticks\": \"\"}, \"bgcolor\": \"#E5ECF6\", \"caxis\": {\"gridcolor\": \"white\", \"linecolor\": \"white\", \"ticks\": \"\"}}, \"title\": {\"x\": 0.05}, \"xaxis\": {\"automargin\": true, \"gridcolor\": \"white\", \"linecolor\": \"white\", \"ticks\": \"\", \"title\": {\"standoff\": 15}, \"zerolinecolor\": \"white\", \"zerolinewidth\": 2}, \"yaxis\": {\"automargin\": true, \"gridcolor\": \"white\", \"linecolor\": \"white\", \"ticks\": \"\", \"title\": {\"standoff\": 15}, \"zerolinecolor\": \"white\", \"zerolinewidth\": 2}}}, \"title\": {\"text\": \"Mt Bruno Elevation\"}, \"width\": 500},\n",
       "                        {\"responsive\": true}\n",
       "                    ).then(function(){\n",
       "                            \n",
       "var gd = document.getElementById('535168ed-56ef-44e2-a514-2db72d55800e');\n",
       "var x = new MutationObserver(function (mutations, observer) {{\n",
       "        var display = window.getComputedStyle(gd).display;\n",
       "        if (!display || display === 'none') {{\n",
       "            console.log([gd, 'removed!']);\n",
       "            Plotly.purge(gd);\n",
       "            observer.disconnect();\n",
       "        }}\n",
       "}});\n",
       "\n",
       "// Listen for the removal of the full notebook cells\n",
       "var notebookContainer = gd.closest('#notebook-container');\n",
       "if (notebookContainer) {{\n",
       "    x.observe(notebookContainer, {childList: true});\n",
       "}}\n",
       "\n",
       "// Listen for the clearing of the current output cell\n",
       "var outputEl = gd.closest('.output');\n",
       "if (outputEl) {{\n",
       "    x.observe(outputEl, {childList: true});\n",
       "}}\n",
       "\n",
       "                        })\n",
       "                };\n",
       "                });\n",
       "            </script>\n",
       "        </div>"
      ]
     },
     "metadata": {},
     "output_type": "display_data"
    }
   ],
   "source": [
    "import plotly.graph_objects as go\n",
    "import pandas as pd\n",
    "import numpy as np\n",
    "# Read data from a csv\n",
    "z_data = pd.read_csv('https://raw.githubusercontent.com/plotly/datasets/master/api_docs/mt_bruno_elevation.csv')\n",
    "z = z_data.values\n",
    "sh_0, sh_1 = z.shape\n",
    "x, y = np.linspace(0, 1, sh_0), np.linspace(0, 1, sh_1)\n",
    "fig = go.Figure(data=[go.Surface(z=z, x=x, y=y)])\n",
    "fig.update_layout(title='Mt Bruno Elevation', autosize=False,\n",
    "                  width=500, height=500,\n",
    "                  margin=dict(l=65, r=50, b=65, t=90))\n",
    "fig.show()"
   ]
  }
 ],
 "metadata": {
  "kernelspec": {
   "display_name": "Python 3",
   "language": "python",
   "name": "python3"
  },
  "language_info": {
   "codemirror_mode": {
    "name": "ipython",
    "version": 3
   },
   "file_extension": ".py",
   "mimetype": "text/x-python",
   "name": "python",
   "nbconvert_exporter": "python",
   "pygments_lexer": "ipython3",
   "version": "3.7.2"
  }
 },
 "nbformat": 4,
 "nbformat_minor": 4
}
