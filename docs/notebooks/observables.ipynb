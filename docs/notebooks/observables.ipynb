{
 "cells": [
  {
   "cell_type": "code",
   "execution_count": 1,
   "metadata": {},
   "outputs": [],
   "source": [
    "%load_ext autoreload\n",
    "%autoreload 2"
   ]
  },
  {
   "cell_type": "code",
   "execution_count": 12,
   "metadata": {},
   "outputs": [],
   "source": [
    "import sys\n",
    "import os\n",
    "import xarray as xr\n",
    "import math\n",
    "import numpy as np\n",
    "import matplotlib.pyplot as plt\n",
    "\n",
    "sys.path.append('/home/cucchi/phd/devel/phd')\n",
    "\n",
    "import lab.simulation.observables as obs"
   ]
  },
  {
   "cell_type": "code",
   "execution_count": 7,
   "metadata": {},
   "outputs": [],
   "source": [
    "data = xr.open_dataarray('/home/cucchi/phd/data/sim/lorenz96/rk4/CF_8/sim_lorenz96_rk4_CF_8_one_00000.nc')"
   ]
  },
  {
   "cell_type": "code",
   "execution_count": 8,
   "metadata": {},
   "outputs": [
    {
     "data": {
      "text/plain": [
       "<xarray.DataArray 'var' (time_step: 10000, node: 1)>\n",
       "array([[ 7.969152],\n",
       "       [ 7.96748 ],\n",
       "       [ 7.965851],\n",
       "       ...,\n",
       "       [-5.581922],\n",
       "       [-5.352824],\n",
       "       [-5.106456]], dtype=float32)\n",
       "Coordinates:\n",
       "  * node       (node) int32 0\n",
       "  * time_step  (time_step) int32 0 1 2 3 4 5 6 ... 9994 9995 9996 9997 9998 9999\n",
       "Attributes:\n",
       "    system:              Lorenz 96\n",
       "    integration_method:  Runge-Kutta 4th order\n",
       "    integration_step:    0.01\n",
       "    forcing:             Constant Forcing (8)\n",
       "    created:             2019-05-08 10:52:21.517976\n",
       "    time_step_0_real:    0"
      ]
     },
     "execution_count": 8,
     "metadata": {},
     "output_type": "execute_result"
    }
   ],
   "source": [
    "data"
   ]
  },
  {
   "cell_type": "code",
   "execution_count": 13,
   "metadata": {},
   "outputs": [],
   "source": [
    "observable = obs.Energy()"
   ]
  },
  {
   "cell_type": "code",
   "execution_count": 15,
   "metadata": {},
   "outputs": [
    {
     "data": {
      "text/plain": [
       "'energy'"
      ]
     },
     "execution_count": 15,
     "metadata": {},
     "output_type": "execute_result"
    }
   ],
   "source": [
    "observable.short_name"
   ]
  }
 ],
 "metadata": {
  "kernelspec": {
   "display_name": "Python 3",
   "language": "python",
   "name": "python3"
  },
  "language_info": {
   "codemirror_mode": {
    "name": "ipython",
    "version": 3
   },
   "file_extension": ".py",
   "mimetype": "text/x-python",
   "name": "python",
   "nbconvert_exporter": "python",
   "pygments_lexer": "ipython3",
   "version": "3.7.2"
  }
 },
 "nbformat": 4,
 "nbformat_minor": 2
}
