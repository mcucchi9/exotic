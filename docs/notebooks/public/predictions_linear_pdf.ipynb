{
 "cells": [
  {
   "cell_type": "code",
   "execution_count": null,
   "metadata": {},
   "outputs": [],
   "source": [
    "%load_ext autoreload\n",
    "%autoreload 2\n",
    "\n",
    "import sys\n",
    "sys.path.append('../../exotic/')\n",
    "\n",
    "import os\n",
    "import math\n",
    "import glob\n",
    "\n",
    "import numpy as np\n",
    "import pandas as pd\n",
    "import xarray as xr\n",
    "import plotly.graph_objects as go\n",
    "import matplotlib.pyplot as plt\n",
    "from statsmodels.distributions.empirical_distribution import ECDF\n",
    "from IPython.display import display, HTML\n",
    "\n",
    "from lab import analysis\n",
    "from lab.simulation import forcings, observables\n",
    "\n",
    "REF_RESP_PATH = [\n",
    "    '/home/marco/phd/data/response/lorenz96/rk4/SF_8.0_1.0_0/',\n",
    "    '/home/marco/phd/data/response/lorenz96/rk4/SF_8.0_-1.0_0/'            \n",
    "]\n",
    "\n",
    "SAVE_FIG = False"
   ]
  },
  {
   "cell_type": "markdown",
   "metadata": {},
   "source": [
    "## Plot cumulative distribution approximation"
   ]
  }
 ],
 "metadata": {
  "kernelspec": {
   "display_name": "exotic",
   "language": "python",
   "name": "exotic"
  },
  "language_info": {
   "codemirror_mode": {
    "name": "ipython",
    "version": 3
   },
   "file_extension": ".py",
   "mimetype": "text/x-python",
   "name": "python",
   "nbconvert_exporter": "python",
   "pygments_lexer": "ipython3",
   "version": "3.7.6"
  }
 },
 "nbformat": 4,
 "nbformat_minor": 4
}
