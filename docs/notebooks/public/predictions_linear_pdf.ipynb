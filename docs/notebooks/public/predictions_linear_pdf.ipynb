{
 "cells": [
  {
   "cell_type": "code",
   "execution_count": null,
   "metadata": {},
   "outputs": [],
   "source": [
    "%load_ext autoreload\n",
    "%autoreload 2\n",
    "\n",
    "import sys\n",
    "sys.path.append('/home/marco/phd/devel/exotic/exotic/')\n",
    "\n",
    "import os\n",
    "import math\n",
    "import glob\n",
    "\n",
    "import numpy as np\n",
    "import pandas as pd\n",
    "import xarray as xr\n",
    "import plotly.graph_objects as go\n",
    "import matplotlib.pyplot as plt\n",
    "from statsmodels.distributions.empirical_distribution import ECDF\n",
    "from IPython.display import display, HTML\n",
    "\n",
    "from lab import analysis\n",
    "from lab.simulation import forcings, observables\n",
    "\n",
    "REF_RESP_PATH = [\n",
    "    '/home/marco/phd/data/response/lorenz96/rk4/SF_8.0_1.0_0/',\n",
    "    '/home/marco/phd/data/response/lorenz96/rk4/SF_8.0_-1.0_0/'            \n",
    "]\n",
    "\n",
    "SAVE_FIG = False"
   ]
  },
  {
   "cell_type": "markdown",
   "metadata": {},
   "source": [
    "## Plot cumulative distribution approximation"
   ]
  },
  {
   "cell_type": "code",
   "execution_count": null,
   "metadata": {},
   "outputs": [],
   "source": [
    "observable = 'energy'\n",
    "QUANTILES_PATH = f'/home/marco/phd/data/obs/lorenz96/rk4/CF_8.0/quantiles/obs_lorenz96_rk4_CF_8.0_quantiles_{observable}.nc'"
   ]
  },
  {
   "cell_type": "markdown",
   "metadata": {},
   "source": [
    "This is the cumulative distribution approximation for single node (local) energy."
   ]
  },
  {
   "cell_type": "code",
   "execution_count": null,
   "metadata": {},
   "outputs": [],
   "source": [
    "quantiles_da = xr.open_dataarray(QUANTILES_PATH)\n",
    "quantiles_df = pd.DataFrame(data={'order': quantiles_da.quantile_order, 'value': quantiles_da.values})\n",
    "display(plt.plot(quantiles_df.value, quantiles_df.order))"
   ]
  },
  {
   "cell_type": "markdown",
   "metadata": {},
   "source": [
    "Here the linear response to the a linear forcing (parameters specified below) is computed via LRT."
   ]
  },
  {
   "cell_type": "code",
   "execution_count": null,
   "metadata": {},
   "outputs": [],
   "source": [
    "force_linear_coefficient = 0.03\n",
    "deactivation_time = 100\n",
    "forcing = f'LF_8.0_{force_linear_coefficient}_0_{deactivation_time}'\n",
    "print(f'Forcing: {forcing}')"
   ]
  },
  {
   "cell_type": "code",
   "execution_count": null,
   "metadata": {},
   "outputs": [],
   "source": [
    "obs_all = [f\"{observable}_below_{format(np.round(quant, 2), '.2f')}q\" for quant in np.arange(0, 1.001, 0.01)]\n",
    "chi = {}\n",
    "for obs in obs_all:\n",
    "    response_p1 = xr.open_dataarray(os.path.join(\n",
    "        REF_RESP_PATH[0],\n",
    "        observable,\n",
    "        f'response_lorenz96_rk4_{obs}_SF_8.0_1.0_0.nc'\n",
    "    ))\n",
    "    chi[obs] = analysis.compute_susceptibility(response_p1.values.squeeze())\n",
    "resp_pred = {}\n",
    "for obs in obs_all:\n",
    "    resp_pred[obs] = analysis.compute_response(chi[obs], forcings.LinearForcing(\n",
    "        linear_coefficient=force_linear_coefficient,\n",
    "        deactivation_time = deactivation_time\n",
    "    ))"
   ]
  },
  {
   "cell_type": "markdown",
   "metadata": {},
   "source": [
    "#### Plot estimated CDF and PDF evolution"
   ]
  },
  {
   "cell_type": "markdown",
   "metadata": {},
   "source": [
    "Below, a 3D plot showing time evolution of the local energy CDF for the selected linear forcing is shown."
   ]
  },
  {
   "cell_type": "code",
   "execution_count": null,
   "metadata": {},
   "outputs": [],
   "source": [
    "# Quantiles orders\n",
    "quant_order_rest = np.array(quantiles_df.order)\n",
    "\n",
    "# Response: variation of frequency of events (local energy values) below each quantile values (at rest)\n",
    "resp = [resp_pred[obs][0:10000] for obs in obs_all]\n",
    "resp = np.array(resp)\n",
    "\n",
    "# Adding response to quantile orders at rest corresponding to selected quantile values, we obtain response\n",
    "# in terms of frequency (not variation of frequency) of events below those quantile values.\n",
    "for col in range(0, resp.shape[1]):\n",
    "    resp[:, col] = resp[:, col] + quant_order_rest\n",
    "\n",
    "z = resp\n",
    "y = quantiles_df.value.values\n",
    "x = np.arange(0, 100, 0.01)\n",
    "fig_cdf = go.Figure(data=[go.Surface(z=z, x=x, y=y)])\n",
    "fig_cdf.update_layout(\n",
    "    title='PDF evolution',\n",
    "    scene = dict(\n",
    "        xaxis_title='time',\n",
    "        yaxis_title='local energy',\n",
    "        zaxis_title='CDF'\n",
    "    ),\n",
    "    autosize=False, width=700, height=700\n",
    ")"
   ]
  },
  {
   "cell_type": "markdown",
   "metadata": {},
   "source": [
    "Plot PDF evolution"
   ]
  },
  {
   "cell_type": "code",
   "execution_count": null,
   "metadata": {},
   "outputs": [],
   "source": [
    "# Estimate PDF from CDF\n",
    "y_pdf = y[1:] - y[:-1]/2\n",
    "dy = y[1:] - y[:-1]\n",
    "dy_matrix = np.array([dy, ]*10000).transpose()\n",
    "z_pdf = (z[1:, :] - z[:-1, :])/dy_matrix\n",
    "# Time\n",
    "x = np.arange(0, 100, 0.01)"
   ]
  },
  {
   "cell_type": "code",
   "execution_count": null,
   "metadata": {},
   "outputs": [],
   "source": [
    "fig_pdf = go.Figure(data=[go.Surface(z=z_pdf, x=x, y=y_pdf)])\n",
    "fig_pdf.update_layout(\n",
    "    title='PDF evolution',\n",
    "    scene = dict(\n",
    "        xaxis_title='time',\n",
    "        yaxis_title='local energy',\n",
    "        zaxis_title='PDF'\n",
    "    ),\n",
    "    autosize=False, width=700, height=700\n",
    ")"
   ]
  },
  {
   "cell_type": "markdown",
   "metadata": {},
   "source": [
    "Import simulated data and compute ECDF"
   ]
  },
  {
   "cell_type": "code",
   "execution_count": null,
   "metadata": {},
   "outputs": [],
   "source": [
    "SIM_PATH = f'/home/marco/phd/data/sim/lorenz96/rk4/{forcing}/'\n",
    "da_sim = xr.open_mfdataset(glob.glob(os.path.join(SIM_PATH, '*tbr0.01*')), combine='nested', concat_dim='id')\n",
    "da_sim = da_sim.load()"
   ]
  },
  {
   "cell_type": "code",
   "execution_count": null,
   "metadata": {},
   "outputs": [],
   "source": [
    "energy_obs = observables.Energy()\n",
    "energy_sim = energy_obs(da_sim)\n",
    "energy_sim = energy_sim['var']\n",
    "energy_sim"
   ]
  },
  {
   "cell_type": "markdown",
   "metadata": {},
   "source": [
    "Let's bin over time axis (we don't need such a time resolution, and we can safely assume time evolution is slow enough)"
   ]
  },
  {
   "cell_type": "code",
   "execution_count": null,
   "metadata": {},
   "outputs": [],
   "source": [
    "def unstack_time_steps(da, bins: int):\n",
    "    number_of_timesteps = len(energy_sim['time_step'])\n",
    "    number_of_stacks = int(math.floor(number_of_timesteps/bins))\n",
    "    time_steps = list(energy_sim.time_step.values)\n",
    "    new_coords = time_steps[0::number_of_stacks]\n",
    "    unstacked_dataarrays = []\n",
    "    for i in range(0, number_of_stacks):\n",
    "        slice_time_steps = time_steps[i::number_of_stacks]\n",
    "        da_slice = da.sel(time_step=slice_time_steps)\n",
    "        da_slice = da_slice.assign_coords({'time_step': new_coords})\n",
    "        unstacked_dataarrays.append(da_slice)\n",
    "    return unstacked_dataarrays\n",
    "unstacked_da = unstack_time_steps(energy_sim, 1000)"
   ]
  },
  {
   "cell_type": "code",
   "execution_count": null,
   "metadata": {},
   "outputs": [],
   "source": [
    "da_concat = xr.concat(unstacked_da, dim='rep')"
   ]
  },
  {
   "cell_type": "markdown",
   "metadata": {},
   "source": [
    "#### ECDF"
   ]
  },
  {
   "cell_type": "code",
   "execution_count": null,
   "metadata": {},
   "outputs": [],
   "source": [
    "def my_ecdf(da):\n",
    "    values = da\n",
    "    print(values)\n",
    "    return (ECDF(values))\n",
    "ecdf = da_concat.sel(rep=0, node=0).reduce(func=my_ecdf, dim='time_step')"
   ]
  },
  {
   "cell_type": "code",
   "execution_count": null,
   "metadata": {},
   "outputs": [],
   "source": [
    "ecdf = ECDF(energy_sim.sel(time_step=9999, node=0).values)\n",
    "plt.plot(ecdf.x, ecdf.y)"
   ]
  },
  {
   "cell_type": "code",
   "execution_count": null,
   "metadata": {},
   "outputs": [],
   "source": [
    "fig_cdf.add_trace(go.Scatter3d(\n",
    "    x=np.repeat(99.99, len(ecdf.x)), y=ecdf.x, z=ecdf.y,\n",
    "    marker=dict(\n",
    "        color='darkblue',\n",
    "        size=1\n",
    "    ),\n",
    "    line=dict(\n",
    "        color='darkblue',\n",
    "        width=1\n",
    "    )\n",
    "))"
   ]
  }
 ],
 "metadata": {
  "kernelspec": {
   "display_name": "exotic",
   "language": "python",
   "name": "exotic"
  },
  "language_info": {
   "codemirror_mode": {
    "name": "ipython",
    "version": 3
   },
   "file_extension": ".py",
   "mimetype": "text/x-python",
   "name": "python",
   "nbconvert_exporter": "python",
   "pygments_lexer": "ipython3",
   "version": "3.7.6"
  }
 },
 "nbformat": 4,
 "nbformat_minor": 4
}
