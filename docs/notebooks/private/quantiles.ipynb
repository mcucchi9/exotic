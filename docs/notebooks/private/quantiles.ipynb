{
 "cells": [
  {
   "cell_type": "code",
   "execution_count": 1,
   "metadata": {},
   "outputs": [],
   "source": [
    "%load_ext autoreload\n",
    "%autoreload 2"
   ]
  },
  {
   "cell_type": "code",
   "execution_count": 2,
   "metadata": {},
   "outputs": [],
   "source": [
    "import sys\n",
    "import os\n",
    "import xarray as xr\n",
    "import math\n",
    "import numpy as np\n",
    "import matplotlib.pyplot as plt\n",
    "\n",
    "sys.path.append('/home/cucchi/phd/devel/phd')\n",
    "\n",
    "import lab.simulation.observables as obs"
   ]
  },
  {
   "cell_type": "code",
   "execution_count": 3,
   "metadata": {},
   "outputs": [],
   "source": [
    "sys.path.append('/home/cucchi/phd/devel/phd/')\n",
    "DATA_FORCING_PATH = '/home/cucchi/phd/data/sim/lorenz96/rk4/CF_8/'"
   ]
  },
  {
   "cell_type": "code",
   "execution_count": 4,
   "metadata": {},
   "outputs": [],
   "source": [
    "quantiles = []\n",
    "for i in range(0,1000):\n",
    "    file_name = os.path.join(\n",
    "        DATA_FORCING_PATH,\n",
    "        'sim_lorenz96_rk4_CF_8_one_{:05}.nc'.format(i)\n",
    "    )\n",
    "    data = xr.open_dataarray(file_name)\n",
    "    energy = 0.5*(data**2)\n",
    "    if i == 0:\n",
    "        energy_all = energy.values\n",
    "    else:\n",
    "        energy_all = np.append(energy_all, energy.values)\n",
    "    quantiles.append(np.quantile(energy_all, q=0.5))"
   ]
  },
  {
   "cell_type": "code",
   "execution_count": 5,
   "metadata": {},
   "outputs": [
    {
     "data": {
      "text/plain": [
       "[<matplotlib.lines.Line2D at 0x7f7f95e3be10>]"
      ]
     },
     "execution_count": 5,
     "metadata": {},
     "output_type": "execute_result"
    },
    {
     "data": {
      "image/png": "[encoded data removed]",
      "text/plain": [
       "<Figure size 432x288 with 1 Axes>"
      ]
     },
     "metadata": {
      "needs_background": "light"
     },
     "output_type": "display_data"
    }
   ],
   "source": [
    "plt.plot(quantiles)"
   ]
  },
  {
   "cell_type": "code",
   "execution_count": 12,
   "metadata": {},
   "outputs": [],
   "source": [
    "quantiles = []\n",
    "for i in range(1,1000):\n",
    "    file_name = os.path.join(\n",
    "        DATA_FORCING_PATH,\n",
    "        'sim_lorenz96_rk4_CF_8_one_{:05}.nc'.format(i)\n",
    "    )\n",
    "    data = xr.open_dataarray(file_name)\n",
    "    energy = 0.5*(data**2)\n",
    "    quantiles.append(np.quantile(energy.values, q=0.5))"
   ]
  },
  {
   "cell_type": "code",
   "execution_count": 14,
   "metadata": {},
   "outputs": [
    {
     "data": {
      "text/plain": [
       "(array([  7.,  30., 123., 219., 227., 196., 115.,  54.,  21.,   7.]),\n",
       " array([2.72210217, 3.08779407, 3.45348597, 3.81917787, 4.18486977,\n",
       "        4.55056167, 4.91625357, 5.28194547, 5.64763737, 6.01332927,\n",
       "        6.37902117]),\n",
       " <a list of 10 Patch objects>)"
      ]
     },
     "execution_count": 14,
     "metadata": {},
     "output_type": "execute_result"
    },
    {
     "data": {
      "image/png": "[encoded data removed]",
      "text/plain": [
       "<Figure size 432x288 with 1 Axes>"
      ]
     },
     "metadata": {
      "needs_background": "light"
     },
     "output_type": "display_data"
    }
   ],
   "source": [
    "plt.hist(quantiles)"
   ]
  },
  {
   "cell_type": "code",
   "execution_count": 15,
   "metadata": {},
   "outputs": [],
   "source": [
    "quantiles = []\n",
    "for i in range(1,1000):\n",
    "    file_name = os.path.join(\n",
    "        DATA_FORCING_PATH,\n",
    "        'sim_lorenz96_rk4_CF_8_one_{:05}.nc'.format(i)\n",
    "    )\n",
    "    data = xr.open_dataarray(file_name)\n",
    "    energy = 0.5*(data**2)\n",
    "    quantiles.append(np.quantile(energy.values, q=0.9))"
   ]
  },
  {
   "cell_type": "code",
   "execution_count": 16,
   "metadata": {},
   "outputs": [
    {
     "data": {
      "text/plain": [
       "(array([  7.,  25., 100., 199., 241., 215., 129.,  58.,  18.,   7.]),\n",
       " array([18.64877491, 20.285996  , 21.92321709, 23.56043818, 25.19765926,\n",
       "        26.83488035, 28.47210144, 30.10932253, 31.74654362, 33.38376471,\n",
       "        35.02098579]),\n",
       " <a list of 10 Patch objects>)"
      ]
     },
     "execution_count": 16,
     "metadata": {},
     "output_type": "execute_result"
    },
    {
     "data": {
      "image/png": "[encoded data removed]",
      "text/plain": [
       "<Figure size 432x288 with 1 Axes>"
      ]
     },
     "metadata": {
      "needs_background": "light"
     },
     "output_type": "display_data"
    }
   ],
   "source": [
    "plt.hist(quantiles)"
   ]
  },
  {
   "cell_type": "code",
   "execution_count": 19,
   "metadata": {},
   "outputs": [],
   "source": [
    "for i in range(1,1000):\n",
    "    file_name = os.path.join(\n",
    "        DATA_FORCING_PATH,\n",
    "        'sim_lorenz96_rk4_CF_8_one_{:05}.nc'.format(i)\n",
    "    )\n",
    "    data = xr.open_dataarray(file_name)\n",
    "    energy = 0.5*(data**2)\n",
    "    if i == 0:\n",
    "        energy_all = energy.values\n",
    "    else:\n",
    "        energy_all = np.append(energy_all, energy.values)\n",
    "quantile = np.quantile(energy_all, q=0.9)"
   ]
  },
  {
   "cell_type": "code",
   "execution_count": 20,
   "metadata": {},
   "outputs": [
    {
     "data": {
      "text/plain": [
       "26.41764259338379"
      ]
     },
     "execution_count": 20,
     "metadata": {},
     "output_type": "execute_result"
    }
   ],
   "source": [
    "quantile"
   ]
  },
  {
   "cell_type": "code",
   "execution_count": null,
   "metadata": {},
   "outputs": [],
   "source": []
  }
 ],
 "metadata": {
  "kernelspec": {
   "display_name": "Python 2",
   "language": "python",
   "name": "python2"
  },
  "language_info": {
   "codemirror_mode": {
    "name": "ipython",
    "version": 3
   },
   "file_extension": ".py",
   "mimetype": "text/x-python",
   "name": "python",
   "nbconvert_exporter": "python",
   "pygments_lexer": "ipython3",
   "version": "3.7.2"
  }
 },
 "nbformat": 4,
 "nbformat_minor": 2
}
