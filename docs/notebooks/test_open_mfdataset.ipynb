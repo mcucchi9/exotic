{
 "cells": [
  {
   "cell_type": "code",
   "execution_count": null,
   "metadata": {},
   "outputs": [],
   "source": [
    "import os\n",
    "import sys\n",
    "import glob\n",
    "\n",
    "import xarray as xr"
   ]
  },
  {
   "cell_type": "code",
   "execution_count": null,
   "metadata": {},
   "outputs": [],
   "source": [
    "ds_series = xr.open_dataset('/home/marco/phd/data/response/lorenz96/rk4/LF_8.0_0.3_0_10/position/response_lorenz96_rk4_position_exceed_0.1q_LF_8.0_0.3_0_10_series.nc')\n",
    "ds_parall = xr.open_dataset('/home/marco/phd/data/response/lorenz96/rk4/LF_8.0_0.3_0_10/position/response_lorenz96_rk4_position_exceed_0.1q_LF_8.0_0.3_0_10_parall.nc')"
   ]
  },
  {
   "cell_type": "code",
   "execution_count": null,
   "metadata": {},
   "outputs": [],
   "source": [
    "ds_series"
   ]
  },
  {
   "cell_type": "code",
   "execution_count": null,
   "metadata": {},
   "outputs": [],
   "source": [
    "ds_parall"
   ]
  },
  {
   "cell_type": "code",
   "execution_count": null,
   "metadata": {},
   "outputs": [],
   "source": [
    "ds_series['var']"
   ]
  },
  {
   "cell_type": "code",
   "execution_count": null,
   "metadata": {},
   "outputs": [],
   "source": [
    "ds_parall['var']"
   ]
  },
  {
   "cell_type": "code",
   "execution_count": null,
   "metadata": {},
   "outputs": [],
   "source": [
    "xr.testing.assert_allclose(ds_series['var'], ds_parall['var'])"
   ]
  }
 ],
 "metadata": {
  "kernelspec": {
   "display_name": "exotic",
   "language": "python",
   "name": "exotic"
  },
  "language_info": {
   "codemirror_mode": {
    "name": "ipython",
    "version": 3
   },
   "file_extension": ".py",
   "mimetype": "text/x-python",
   "name": "python",
   "nbconvert_exporter": "python",
   "pygments_lexer": "ipython3",
   "version": "3.7.6"
  }
 },
 "nbformat": 4,
 "nbformat_minor": 4
}
