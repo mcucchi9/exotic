{
 "cells": [
  {
   "cell_type": "code",
   "execution_count": 21,
   "metadata": {},
   "outputs": [],
   "source": [
    "from sim import simulation as sim\n",
    "import numpy as np\n",
    "import xarray as xr\n",
    "import matplotlib.pyplot as plt\n",
    "import dask.array as da"
   ]
  },
  {
   "cell_type": "code",
   "execution_count": 22,
   "metadata": {},
   "outputs": [
    {
     "data": {
      "text/plain": [
       "coordinates: [7.96915195 8.01221088 7.99377277 8.02853586 8.02799758 7.97725926\n",
       " 7.97764643 8.03018722 8.04581394 8.03759326 7.98578173 8.00009951\n",
       " 8.01834629 8.0212702  7.98702508 8.00611962 8.00030832 7.95137684\n",
       " 8.02728266 8.03826412 7.9864886  8.01153962 7.95753812 7.9868824\n",
       " 8.04331401 8.01513781 7.98972026 8.02887301 7.98168361 8.00680987\n",
       " 8.03691274 7.99361734]\n",
       "time: 0"
      ]
     },
     "execution_count": 22,
     "metadata": {},
     "output_type": "execute_result"
    }
   ],
   "source": [
    "point = sim.SystemState([8 for _ in np.arange(0,32)], 0)\n",
    "point.perturbate()\n",
    "point"
   ]
  },
  {
   "cell_type": "code",
   "execution_count": 23,
   "metadata": {},
   "outputs": [],
   "source": [
    "simulator = sim.Simulator(system_state=point, forcing=8)"
   ]
  },
  {
   "cell_type": "code",
   "execution_count": 24,
   "metadata": {},
   "outputs": [],
   "source": [
    "runner = sim.SimulationRunner(simulator, integration_time = 1, chunk_length=100, out_file='/home/cucchi/phd/prova.nc')"
   ]
  },
  {
   "cell_type": "code",
   "execution_count": 25,
   "metadata": {},
   "outputs": [],
   "source": [
    "runner.run()"
   ]
  },
  {
   "cell_type": "code",
   "execution_count": 26,
   "metadata": {},
   "outputs": [],
   "source": [
    "data = xr.open_dataarray('/home/cucchi/phd/prova.nc', chunks={'time': 500})"
   ]
  },
  {
   "cell_type": "code",
   "execution_count": 27,
   "metadata": {},
   "outputs": [
    {
     "data": {
      "text/plain": [
       "<xarray.DataArray 'var' (time: 100, node: 32)>\n",
       "dask.array<shape=(100, 32), dtype=float32, chunksize=(100, 32)>\n",
       "Coordinates:\n",
       "  * time     (time) float64 0.0 0.01 0.02 0.03 0.04 ... 0.95 0.96 0.97 0.98 0.99\n",
       "  * node     (node) int32 0 1 2 3 4 5 6 7 8 9 ... 22 23 24 25 26 27 28 29 30 31"
      ]
     },
     "execution_count": 27,
     "metadata": {},
     "output_type": "execute_result"
    }
   ],
   "source": [
    "data"
   ]
  },
  {
   "cell_type": "markdown",
   "metadata": {},
   "source": [
    "This works"
   ]
  },
  {
   "cell_type": "code",
   "execution_count": 48,
   "metadata": {},
   "outputs": [
    {
     "data": {
      "text/plain": [
       "<xarray.DataArray 'var' (node: 32)>\n",
       "array([14.254335, 11.498712,  9.559041,  8.796019, 10.503936, 13.95398 ,\n",
       "       11.817201, 10.448256,  9.46945 ,  8.774399, 12.446248, 13.265309,\n",
       "       11.529604,  9.876963,  8.827155, 10.007007, 14.742959, 11.882041,\n",
       "        9.487473,  8.53127 , 12.224711, 14.835166, 10.401242,  9.297627,\n",
       "        9.265089, 12.565587, 12.02324 , 12.031843, 11.348159,  9.785212,\n",
       "        8.750388, 10.712037])\n",
       "Coordinates:\n",
       "  * node     (node) int32 0 1 2 3 4 5 6 7 8 9 ... 22 23 24 25 26 27 28 29 30 31"
      ]
     },
     "execution_count": 48,
     "metadata": {},
     "output_type": "execute_result"
    }
   ],
   "source": [
    "xr.apply_ufunc(np.percentile, data, dask='allowed', input_core_dims=[['time']], vectorize=True, kwargs={'q':95})"
   ]
  },
  {
   "cell_type": "markdown",
   "metadata": {},
   "source": [
    "This works, but does it load data before?"
   ]
  },
  {
   "cell_type": "code",
   "execution_count": 49,
   "metadata": {},
   "outputs": [
    {
     "data": {
      "text/plain": [
       "<xarray.DataArray 'var' (node: 32)>\n",
       "array([14.254335, 11.498712,  9.559041,  8.796019, 10.503936, 13.95398 ,\n",
       "       11.817201, 10.448256,  9.46945 ,  8.774399, 12.446248, 13.265309,\n",
       "       11.529604,  9.876963,  8.827155, 10.007007, 14.742959, 11.882041,\n",
       "        9.487473,  8.53127 , 12.224711, 14.835166, 10.401242,  9.297627,\n",
       "        9.265089, 12.565587, 12.02324 , 12.031843, 11.348159,  9.785212,\n",
       "        8.750388, 10.712037])\n",
       "Coordinates:\n",
       "  * node     (node) int32 0 1 2 3 4 5 6 7 8 9 ... 22 23 24 25 26 27 28 29 30 31"
      ]
     },
     "execution_count": 49,
     "metadata": {},
     "output_type": "execute_result"
    }
   ],
   "source": [
    "data.reduce(np.percentile, dim='time', q=95)"
   ]
  },
  {
   "cell_type": "markdown",
   "metadata": {},
   "source": [
    "This works, but maybe is not needed (I can load time-series from just 1 noded without memory issues)."
   ]
  },
  {
   "cell_type": "code",
   "execution_count": 17,
   "metadata": {},
   "outputs": [],
   "source": [
    "data1d = data.sel(node=0)\n",
    "data1d = data1d.drop('node')"
   ]
  },
  {
   "cell_type": "code",
   "execution_count": 18,
   "metadata": {},
   "outputs": [
    {
     "data": {
      "text/plain": [
       "dask.array<getitem, shape=(100,), dtype=float32, chunksize=(100,)>"
      ]
     },
     "execution_count": 18,
     "metadata": {},
     "output_type": "execute_result"
    }
   ],
   "source": [
    "data1d.data"
   ]
  },
  {
   "cell_type": "code",
   "execution_count": 20,
   "metadata": {},
   "outputs": [
    {
     "data": {
      "text/plain": [
       "array([14.25433464])"
      ]
     },
     "execution_count": 20,
     "metadata": {},
     "output_type": "execute_result"
    }
   ],
   "source": [
    "da.percentile(data1d.data, 95).compute()"
   ]
  },
  {
   "cell_type": "code",
   "execution_count": null,
   "metadata": {},
   "outputs": [],
   "source": [
    "data1d.plot()"
   ]
  }
 ],
 "metadata": {
  "kernelspec": {
   "display_name": "Python 3",
   "language": "python",
   "name": "python3"
  },
  "language_info": {
   "codemirror_mode": {
    "name": "ipython",
    "version": 3
   },
   "file_extension": ".py",
   "mimetype": "text/x-python",
   "name": "python",
   "nbconvert_exporter": "python",
   "pygments_lexer": "ipython3",
   "version": "3.7.2"
  }
 },
 "nbformat": 4,
 "nbformat_minor": 2
}
