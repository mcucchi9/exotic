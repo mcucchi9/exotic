{
 "cells": [
  {
   "cell_type": "code",
   "execution_count": 6,
   "metadata": {},
   "outputs": [
    {
     "name": "stdout",
     "output_type": "stream",
     "text": [
      "The autoreload extension is already loaded. To reload it, use:\n",
      "  %reload_ext autoreload\n"
     ]
    }
   ],
   "source": [
    "%load_ext autoreload\n",
    "%autoreload 2"
   ]
  },
  {
   "cell_type": "code",
   "execution_count": 7,
   "metadata": {},
   "outputs": [],
   "source": [
    "import sys\n",
    "import os\n",
    "import xarray as xr\n",
    "sys.path.append('/home/cucchi/phd/devel/phd/')"
   ]
  },
  {
   "cell_type": "code",
   "execution_count": 8,
   "metadata": {},
   "outputs": [],
   "source": [
    "DATA_FORCING_PATH = '/home/cucchi/phd/data/sim/lorenz96/rk4/DF_8_0.5_0/'"
   ]
  },
  {
   "cell_type": "code",
   "execution_count": 9,
   "metadata": {},
   "outputs": [],
   "source": [
    "data_noforcing = xr.open_dataarray('/home/cucchi/phd/data/sim/lorenz96/rk4/CF_8/sim_lorenz96_rk4_CF_8_one_00000.nc')"
   ]
  },
  {
   "cell_type": "code",
   "execution_count": 10,
   "metadata": {},
   "outputs": [],
   "source": [
    "data_forcing = []\n",
    "for i in range(0, 10):\n",
    "    data_forcing.append(xr.open_dataarray(\n",
    "        os.path.join(DATA_FORCING_PATH,'sim_lorenz96_rk4_DF_8_0.5_0_one_{:05}.nc'.format(i))\n",
    "    ))"
   ]
  },
  {
   "cell_type": "code",
   "execution_count": 13,
   "metadata": {},
   "outputs": [
    {
     "data": {
      "text/plain": [
       "<xarray.DataArray 'var' (time_step: 10000, node: 1)>\n",
       "array([[-4.846027],\n",
       "       [-4.569461],\n",
       "       [-4.289452],\n",
       "       ...,\n",
       "       [ 1.242367],\n",
       "       [ 1.358312],\n",
       "       [ 1.486794]], dtype=float32)\n",
       "Coordinates:\n",
       "  * node       (node) int32 0\n",
       "  * time_step  (time_step) int32 0 1 2 3 4 5 6 ... 9994 9995 9996 9997 9998 9999\n",
       "Attributes:\n",
       "    system:              Lorenz 96\n",
       "    integration_method:  Runge-Kutta 4th order\n",
       "    integration_step:    0.01\n",
       "    forcing:             Delta Forcing (8+0.5 at t=0)\n",
       "    created:             2019-05-03 15:51:52.205829\n",
       "    time_step_0_real:    10000"
      ]
     },
     "execution_count": 13,
     "metadata": {},
     "output_type": "execute_result"
    }
   ],
   "source": [
    "data_forcing[1]"
   ]
  },
  {
   "cell_type": "code",
   "execution_count": null,
   "metadata": {},
   "outputs": [],
   "source": []
  }
 ],
 "metadata": {
  "kernelspec": {
   "display_name": "Python 3",
   "language": "python",
   "name": "python3"
  },
  "language_info": {
   "codemirror_mode": {
    "name": "ipython",
    "version": 3
   },
   "file_extension": ".py",
   "mimetype": "text/x-python",
   "name": "python",
   "nbconvert_exporter": "python",
   "pygments_lexer": "ipython3",
   "version": "3.7.2"
  }
 },
 "nbformat": 4,
 "nbformat_minor": 2
}
