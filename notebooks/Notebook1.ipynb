{
 "cells": [
  {
   "cell_type": "code",
   "execution_count": null,
   "metadata": {},
   "outputs": [],
   "source": [
    "import sys\n",
    "sys.path.append('/home/cucchi/phd/devel/l96')"
   ]
  },
  {
   "cell_type": "code",
   "execution_count": null,
   "metadata": {},
   "outputs": [],
   "source": [
    "import lab.simulation as sim\n",
    "import xarray as xr\n",
    "import math\n",
    "import numpy as np"
   ]
  },
  {
   "cell_type": "code",
   "execution_count": null,
   "metadata": {},
   "outputs": [],
   "source": [
    "DATA_PATH = '/home/cucchi/phd/data/'"
   ]
  },
  {
   "cell_type": "markdown",
   "metadata": {},
   "source": [
    "Run simulation with constant forcing. In this case, I keep all dimensions since I will use values as initial conditions for simulations with other forcings."
   ]
  },
  {
   "cell_type": "code",
   "execution_count": null,
   "metadata": {},
   "outputs": [],
   "source": [
    "out_path_const = '{}sim_const_F8.nc'.format(DATA_PATH)\n",
    "\n",
    "point_const = sim.SystemState(coords=[8]*32)\n",
    "point_const.perturbate()\n",
    "constant_force = sim.ConstantForcing()\n",
    "simulator_const = sim.Simulator(system_state=point_const, forcing=constant_force)\n",
    "\n",
    "runner = sim.SimulationRunner(\n",
    "    simulator=simulator_const, \n",
    ")\n",
    "runner.run(\n",
    "    out_file=out_path_const,\n",
    "    integration_time = 10000,\n",
    "    chunk_length = 10000,\n",
    "    write_all = True\n",
    ")"
   ]
  },
  {
   "cell_type": "markdown",
   "metadata": {},
   "source": [
    "Load simulation"
   ]
  },
  {
   "cell_type": "code",
   "execution_count": null,
   "metadata": {},
   "outputs": [],
   "source": [
    "data_const = xr.open_dataarray(out_path_const)"
   ]
  },
  {
   "cell_type": "markdown",
   "metadata": {},
   "source": [
    "Select initial conditions for other simulations at times multiples of 100"
   ]
  },
  {
   "cell_type": "code",
   "execution_count": null,
   "metadata": {},
   "outputs": [],
   "source": [
    "single_experiment_time_length=100\n",
    "inits = data_const.where((data_const.time%single_experiment_time_length)==0, drop=True)"
   ]
  },
  {
   "cell_type": "markdown",
   "metadata": {},
   "source": [
    "Use inits to start new simulations with delta forcing"
   ]
  },
  {
   "cell_type": "code",
   "execution_count": null,
   "metadata": {},
   "outputs": [],
   "source": [
    "for i in np.arange(0, len(inits.time)):\n",
    "    out_path_delta = '{}delta_{}.nc'.format(DATA_PATH, str(i).zfill(3))\n",
    "    point_delta = sim.SystemState(coords=inits.isel(time=i).values, time=float(inits.time[i].values))\n",
    "    delta_force = sim.DeltaForcing(activation_time=float(inits.time[i].values))\n",
    "    simulator_delta = sim.Simulator(system_state=point_delta, forcing=delta_force)\n",
    "    runner = sim.SimulationRunner(\n",
    "        simulator=simulator_delta, \n",
    "    )\n",
    "    runner.run(\n",
    "        out_file=out_path_delta,\n",
    "        integration_time = single_experiment_time_length,\n",
    "        chunk_length = 10000,\n",
    "        write_all = False\n",
    "    )"
   ]
  },
  {
   "cell_type": "markdown",
   "metadata": {},
   "source": [
    "Load all and concat"
   ]
  },
  {
   "cell_type": "code",
   "execution_count": null,
   "metadata": {},
   "outputs": [],
   "source": [
    "dataarrays = []\n",
    "for i in np.arange(0, len(inits.time)):\n",
    "    in_path_delta = '{}delta_{}.nc'.format(DATA_PATH, str(i).zfill(2))\n",
    "    dataarrays.append(xr.open_dataarray(in_path_delta))\n",
    "data_delta = xr.concat(dataarrays, dim='time')"
   ]
  },
  {
   "cell_type": "markdown",
   "metadata": {},
   "source": [
    "Compute energies and keep only node 0"
   ]
  },
  {
   "cell_type": "code",
   "execution_count": null,
   "metadata": {},
   "outputs": [],
   "source": [
    "energy_const = 0.5*(data_const.sel(node=0)**2)\n",
    "energy_delta = 0.5*(data_delta**2)"
   ]
  },
  {
   "cell_type": "markdown",
   "metadata": {},
   "source": [
    "Compute average response among each simulation"
   ]
  },
  {
   "cell_type": "code",
   "execution_count": null,
   "metadata": {},
   "outputs": [],
   "source": [
    "response = energy_delta - energy_const\n",
    "original_times = response.time\n",
    "time_indices = (np.arange(0, len(response.time))).astype(int) % int(single_experiment_time_length/0.01)\n",
    "response = response.assign_coords(time=time_indices)\n",
    "response_mean = response.groupby('time').apply(np.mean)\n",
    "response_mean.plot()"
   ]
  },
  {
   "cell_type": "markdown",
   "metadata": {},
   "source": [
    "Do the same as before, but with step forcing"
   ]
  },
  {
   "cell_type": "code",
   "execution_count": null,
   "metadata": {},
   "outputs": [],
   "source": [
    "for i in np.arange(0, len(inits.time)):\n",
    "    out_path_step = '{}step_{}.nc'.format(DATA_PATH, str(i).zfill(2))\n",
    "    point_step = sim.SystemState(coords=inits.isel(time=i).values, time=float(inits.time[i].values))\n",
    "    step_force = sim.StepForcing(activation_time=float(inits.time[i].values))\n",
    "    simulator_step = sim.Simulator(system_state=point_step, forcing=step_force)\n",
    "    runner = sim.SimulationRunner(\n",
    "        simulator=simulator_step, \n",
    "    )\n",
    "    runner.run(\n",
    "        out_file=out_path_step,\n",
    "        integration_time = single_experiment_time_length,\n",
    "        chunk_length = 10000,\n",
    "        write_all = False\n",
    "    )\n",
    "\n",
    "dataarrays = []\n",
    "for i in np.arange(0, len(inits.time)):\n",
    "    in_path_step = '{}step_{}.nc'.format(DATA_PATH, str(i).zfill(2))\n",
    "    dataarrays.append(xr.open_dataarray(in_path_step))\n",
    "data_step = xr.concat(dataarrays, dim='time')\n",
    "\n",
    "energy_step = 0.5*(data_step**2)\n",
    "\n",
    "response = energy_step - energy_const\n",
    "original_times = response.time\n",
    "time_indices = (np.arange(0, len(response.time))).astype(int) % int(single_experiment_time_length/0.01)\n",
    "response = response.assign_coords(time=time_indices)\n",
    "response_mean_step = response.groupby('time').apply(np.mean)\n",
    "response_mean_step.plot()"
   ]
  }
 ],
 "metadata": {
  "kernelspec": {
   "display_name": "Python 3",
   "language": "python",
   "name": "python3"
  },
  "language_info": {
   "codemirror_mode": {
    "name": "ipython",
    "version": 3
   },
   "file_extension": ".py",
   "mimetype": "text/x-python",
   "name": "python",
   "nbconvert_exporter": "python",
   "pygments_lexer": "ipython3",
   "version": "3.7.2"
  }
 },
 "nbformat": 4,
 "nbformat_minor": 2
}
