{
 "cells": [
  {
   "cell_type": "code",
   "execution_count": null,
   "metadata": {},
   "outputs": [],
   "source": [
    "%load_ext autoreload\n",
    "%autoreload 2"
   ]
  },
  {
   "cell_type": "code",
   "execution_count": 2,
   "metadata": {},
   "outputs": [],
   "source": [
    "import xarray as xr\n",
    "import sys\n",
    "sys.path.append('../')"
   ]
  },
  {
   "cell_type": "code",
   "execution_count": null,
   "metadata": {},
   "outputs": [],
   "source": [
    "import xarray as xr\n",
    "import math\n",
    "import numpy as np\n",
    "\n",
    "import lab.simulation.simulation as sim\n",
    "import lab.simulation.forcings as forcings\n",
    "import lab.simulation.systems as systems\n",
    "import lab.simulation.integrators as integrators"
   ]
  },
  {
   "cell_type": "code",
   "execution_count": null,
   "metadata": {},
   "outputs": [],
   "source": [
    "DATA_PATH = '../../../data'"
   ]
  },
  {
   "cell_type": "markdown",
   "metadata": {},
   "source": [
    "Run simulation with constant forcing. In this case, I keep all dimensions since I will use values as initial conditions for simulations with other forcings."
   ]
  },
  {
   "cell_type": "code",
   "execution_count": null,
   "metadata": {
    "scrolled": true
   },
   "outputs": [],
   "source": [
    "point_const = sim.SystemState(coords=[8]*32)\n",
    "point_const.perturbate()\n",
    "constant_force = forcings.ConstantForcing()\n",
    "system = systems.Lorenz96()\n",
    "int_method = integrators.RungeKutta4()"
   ]
  },
  {
   "cell_type": "code",
   "execution_count": null,
   "metadata": {},
   "outputs": [],
   "source": [
    "simulator_const = sim.Simulator(\n",
    "    system_state=point_const, \n",
    "    forcing=constant_force,\n",
    "    int_method=int_method,\n",
    "    system=system    \n",
    ")"
   ]
  },
  {
   "cell_type": "code",
   "execution_count": null,
   "metadata": {},
   "outputs": [],
   "source": [
    "runner = sim.SimulationRunner(\n",
    "    simulator=simulator_const, \n",
    "    integration_time=1100,\n",
    "    chunk_length_time=100,\n",
    "    write_all_every=10,\n",
    "    write_one_every=0\n",
    ")"
   ]
  },
  {
   "cell_type": "code",
   "execution_count": null,
   "metadata": {},
   "outputs": [],
   "source": [
    "runner.run(\n",
    "    data_base_path=DATA_PATH,\n",
    "    custom_suffix='init'\n",
    ")"
   ]
  },
  {
   "cell_type": "code",
   "execution_count": 3,
   "metadata": {},
   "outputs": [],
   "source": [
    "da = xr.open_dataarray('/home/marco/phd/data/sim/lorenz96/rk4/CF_8/t_1_00/sim_lorenz96_rk4_CF_8_all_init.nc')"
   ]
  },
  {
   "cell_type": "code",
   "execution_count": 4,
   "metadata": {},
   "outputs": [
    {
     "data": {
      "text/plain": [
       "<xarray.DataArray 'var' (time_step: 110, node: 32)>\n",
       "array([[ 7.969152,  8.012211,  7.993773, ...,  8.00681 ,  8.036913,  7.993618],\n",
       "       [ 3.271801,  2.370463,  5.733596, ...,  5.670289, -1.304385,  5.04478 ],\n",
       "       [ 3.890619, -1.705726,  1.537649, ..., -0.214598, -1.686082,  7.406761],\n",
       "       ...,\n",
       "       [ 1.094873,  3.53863 ,  3.38919 , ...,  7.946651,  7.011621,  3.299908],\n",
       "       [-2.961333,  0.809806,  8.619315, ...,  1.79571 ,  4.653325,  3.27843 ],\n",
       "       [ 1.05072 ,  1.875285,  6.886776, ...,  1.006004, -2.621922,  0.632341]],\n",
       "      dtype=float32)\n",
       "Coordinates:\n",
       "  * node       (node) int32 0 1 2 3 4 5 6 7 8 9 ... 23 24 25 26 27 28 29 30 31\n",
       "  * time_step  (time_step) int32 0 1000 2000 3000 ... 107000 108000 109000\n",
       "Attributes:\n",
       "    system:              Lorenz 96\n",
       "    integration_method:  Runge-Kutta 4th order\n",
       "    integration_step:    0.01\n",
       "    forcing:             Constant Forcing (8)\n",
       "    created:             2019-09-14 15:51:47.417619"
      ]
     },
     "execution_count": 4,
     "metadata": {},
     "output_type": "execute_result"
    }
   ],
   "source": [
    "da"
   ]
  }
 ],
 "metadata": {
  "kernelspec": {
   "display_name": "Python 3",
   "language": "python",
   "name": "python3"
  },
  "language_info": {
   "codemirror_mode": {
    "name": "ipython",
    "version": 3
   },
   "file_extension": ".py",
   "mimetype": "text/x-python",
   "name": "python",
   "nbconvert_exporter": "python",
   "pygments_lexer": "ipython3",
   "version": "3.7.2"
  }
 },
 "nbformat": 4,
 "nbformat_minor": 2
}
