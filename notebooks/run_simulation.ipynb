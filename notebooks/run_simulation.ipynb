{
 "cells": [
  {
   "cell_type": "code",
   "execution_count": 27,
   "metadata": {},
   "outputs": [
    {
     "name": "stdout",
     "output_type": "stream",
     "text": [
      "The autoreload extension is already loaded. To reload it, use:\n",
      "  %reload_ext autoreload\n"
     ]
    }
   ],
   "source": [
    "%load_ext autoreload\n",
    "%autoreload 2"
   ]
  },
  {
   "cell_type": "code",
   "execution_count": 28,
   "metadata": {},
   "outputs": [],
   "source": [
    "import xarray as xr\n",
    "import sys\n",
    "sys.path.append('../')"
   ]
  },
  {
   "cell_type": "code",
   "execution_count": 29,
   "metadata": {},
   "outputs": [],
   "source": [
    "import xarray as xr\n",
    "import math\n",
    "import numpy as np\n",
    "\n",
    "import lab.simulation.simulation as sim\n",
    "import lab.simulation.forcings as forcings\n",
    "import lab.simulation.systems as systems\n",
    "import lab.simulation.integrators as integrators"
   ]
  },
  {
   "cell_type": "code",
   "execution_count": 30,
   "metadata": {},
   "outputs": [],
   "source": [
    "DATA_PATH = '../../data/'"
   ]
  },
  {
   "cell_type": "markdown",
   "metadata": {},
   "source": [
    "Run simulation with constant forcing. In this case, I keep all dimensions since I will use values as initial conditions for simulations with other forcings."
   ]
  },
  {
   "cell_type": "code",
   "execution_count": 31,
   "metadata": {
    "scrolled": true
   },
   "outputs": [],
   "source": [
    "point_const = sim.SystemState(coords=[8]*32)\n",
    "point_const.perturbate()\n",
    "constant_force = forcings.ConstantForcing()\n",
    "system = systems.Lorenz96()\n",
    "int_method = integrators.RungeKutta4()"
   ]
  },
  {
   "cell_type": "code",
   "execution_count": 32,
   "metadata": {},
   "outputs": [],
   "source": [
    "simulator_const = sim.Simulator(\n",
    "    system_state=point_const, \n",
    "    forcing=constant_force,\n",
    "    int_method=int_method,\n",
    "    system=system    \n",
    ")"
   ]
  },
  {
   "cell_type": "code",
   "execution_count": 33,
   "metadata": {},
   "outputs": [],
   "source": [
    "runner = sim.SimulationRunner(\n",
    "    simulator=simulator_const, \n",
    ")"
   ]
  },
  {
   "cell_type": "code",
   "execution_count": 34,
   "metadata": {},
   "outputs": [],
   "source": [
    "runner.run(\n",
    "    integration_time = 100,\n",
    "    chunk_length = 10000,\n",
    "    write_all_every = 1000,\n",
    "    data_base_path=DATA_PATH\n",
    ")"
   ]
  }
 ],
 "metadata": {
  "kernelspec": {
   "display_name": "Python 3",
   "language": "python",
   "name": "python3"
  },
  "language_info": {
   "codemirror_mode": {
    "name": "ipython",
    "version": 3
   },
   "file_extension": ".py",
   "mimetype": "text/x-python",
   "name": "python",
   "nbconvert_exporter": "python",
   "pygments_lexer": "ipython3",
   "version": "3.7.2"
  }
 },
 "nbformat": 4,
 "nbformat_minor": 2
}
