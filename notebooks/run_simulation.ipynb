{
 "cells": [
  {
   "cell_type": "code",
   "execution_count": null,
   "metadata": {},
   "outputs": [],
   "source": [
    "%load_ext autoreload\n",
    "%autoreload 2"
   ]
  },
  {
   "cell_type": "code",
   "execution_count": null,
   "metadata": {},
   "outputs": [],
   "source": [
    "import xarray as xr\n",
    "import sys\n",
    "sys.path.append('../')"
   ]
  },
  {
   "cell_type": "code",
   "execution_count": null,
   "metadata": {},
   "outputs": [],
   "source": [
    "import xarray as xr\n",
    "import math\n",
    "import numpy as np\n",
    "\n",
    "import lab.simulation.simulation as sim\n",
    "import lab.simulation.forcings as forcings\n",
    "import lab.simulation.systems as systems\n",
    "import lab.simulation.integrators as integrators"
   ]
  },
  {
   "cell_type": "code",
   "execution_count": null,
   "metadata": {},
   "outputs": [],
   "source": [
    "DATA_PATH = '../../../data'"
   ]
  },
  {
   "cell_type": "markdown",
   "metadata": {},
   "source": [
    "Run simulation with constant forcing. In this case, I keep all dimensions since I will use values as initial conditions for simulations with other forcings."
   ]
  },
  {
   "cell_type": "code",
   "execution_count": null,
   "metadata": {},
   "outputs": [],
   "source": [
    "point_const = sim.SystemState(coords=[8]*32)\n",
    "point_const.perturbate()\n",
    "constant_force = forcings.ConstantForcing()\n",
    "system = systems.Lorenz96()\n",
    "int_method = integrators.RungeKutta4()"
   ]
  },
  {
   "cell_type": "code",
   "execution_count": null,
   "metadata": {},
   "outputs": [],
   "source": [
    "simulator_const = sim.Simulator(\n",
    "    system_state=point_const, \n",
    "    forcing=constant_force,\n",
    "    int_method=int_method,\n",
    "    system=system    \n",
    ")"
   ]
  },
  {
   "cell_type": "code",
   "execution_count": null,
   "metadata": {},
   "outputs": [],
   "source": [
    "runner = sim.SimulationRunner(\n",
    "    simulator=simulator_const, \n",
    "    integration_time=10,\n",
    "    chunk_length_time=100,\n",
    "    write_all_every=0,\n",
    "    write_one_every=0\n",
    ")"
   ]
  },
  {
   "cell_type": "code",
   "execution_count": null,
   "metadata": {},
   "outputs": [],
   "source": [
    "runner.run(\n",
    "    data_base_path=DATA_PATH,\n",
    "    custom_suffix='00000'\n",
    ")"
   ]
  },
  {
   "cell_type": "code",
   "execution_count": null,
   "metadata": {},
   "outputs": [],
   "source": [
    "simulator_const"
   ]
  },
  {
   "cell_type": "code",
   "execution_count": null,
   "metadata": {},
   "outputs": [],
   "source": [
    "da0 = xr.open_dataarray('/home/marco/phd/data/sim/lorenz96/rk4/t_1_00/CF_8/sim_lorenz96_rk4_CF_8_all_00000.nc')\n",
    "da0.sel(time_step=1000).values[1]"
   ]
  },
  {
   "cell_type": "code",
   "execution_count": null,
   "metadata": {},
   "outputs": [],
   "source": [
    "point_const = sim.SystemState(coords=da0.sel(time_step=1000).values)\n",
    "constant_force = forcings.ConstantForcing()\n",
    "system = systems.Lorenz96()\n",
    "int_method = integrators.RungeKutta4()\n",
    "point_const"
   ]
  },
  {
   "cell_type": "code",
   "execution_count": null,
   "metadata": {},
   "outputs": [],
   "source": [
    "simulator_const = sim.Simulator(\n",
    "    system_state=point_const, \n",
    "    forcing=constant_force,\n",
    "    int_method=int_method,\n",
    "    system=system    \n",
    ")\n",
    "simulator_const"
   ]
  },
  {
   "cell_type": "code",
   "execution_count": null,
   "metadata": {},
   "outputs": [],
   "source": [
    "runner = sim.SimulationRunner(\n",
    "    simulator=simulator_const, \n",
    "    integration_time=1100,\n",
    "    chunk_length_time=100,\n",
    "    write_all_every=0.01,\n",
    "    write_one_every=0\n",
    ")"
   ]
  },
  {
   "cell_type": "code",
   "execution_count": null,
   "metadata": {},
   "outputs": [],
   "source": [
    "runner.run(\n",
    "    data_base_path=DATA_PATH,\n",
    "    custom_suffix='00001'\n",
    ")"
   ]
  },
  {
   "cell_type": "code",
   "execution_count": null,
   "metadata": {},
   "outputs": [],
   "source": [
    "da1 = xr.open_dataarray('/home/marco/phd/data/sim/lorenz96/rk4/t_1_00/CF_8/sim_lorenz96_rk4_CF_8_all_00001.nc')\n",
    "da1"
   ]
  },
  {
   "cell_type": "code",
   "execution_count": null,
   "metadata": {},
   "outputs": [],
   "source": [
    "da0.sel(time_step=1001)"
   ]
  },
  {
   "cell_type": "code",
   "execution_count": null,
   "metadata": {},
   "outputs": [],
   "source": [
    "da1.sel(time_step=1)"
   ]
  },
  {
   "cell_type": "code",
   "execution_count": null,
   "metadata": {},
   "outputs": [],
   "source": [
    "point_const = sim.SystemState(coords=da0.sel(time_step=1000).values)\n",
    "constant_force = forcings.ConstantForcing()\n",
    "system = systems.Lorenz96()\n",
    "int_method = integrators.RungeKutta4()\n",
    "point_const"
   ]
  },
  {
   "cell_type": "code",
   "execution_count": null,
   "metadata": {},
   "outputs": [],
   "source": [
    "simulator_const = sim.Simulator(\n",
    "    system_state=point_const, \n",
    "    forcing=constant_force,\n",
    "    int_method=int_method,\n",
    "    system=system    \n",
    ")\n",
    "simulator_const"
   ]
  },
  {
   "cell_type": "code",
   "execution_count": null,
   "metadata": {},
   "outputs": [],
   "source": [
    "simulator_const.integrate_one_step()\n",
    "simulator_const"
   ]
  },
  {
   "cell_type": "code",
   "execution_count": null,
   "metadata": {},
   "outputs": [],
   "source": [
    "point_const = sim.SystemState(coords=da0.sel(time_step=1000).values, time=1000)\n",
    "constant_force = forcings.ConstantForcing()\n",
    "system = systems.Lorenz96()\n",
    "int_method = integrators.RungeKutta4()\n",
    "point_const"
   ]
  },
  {
   "cell_type": "code",
   "execution_count": null,
   "metadata": {},
   "outputs": [],
   "source": [
    "simulator_const = sim.Simulator(\n",
    "    system_state=point_const, \n",
    "    forcing=constant_force,\n",
    "    int_method=int_method,\n",
    "    system=system    \n",
    ")\n",
    "simulator_const"
   ]
  }
 ],
 "metadata": {
  "kernelspec": {
   "display_name": "Python 3",
   "language": "python",
   "name": "python3"
  },
  "language_info": {
   "codemirror_mode": {
    "name": "ipython",
    "version": 3
   },
   "file_extension": ".py",
   "mimetype": "text/x-python",
   "name": "python",
   "nbconvert_exporter": "python",
   "pygments_lexer": "ipython3",
   "version": "3.7.2"
  }
 },
 "nbformat": 4,
 "nbformat_minor": 2
}
