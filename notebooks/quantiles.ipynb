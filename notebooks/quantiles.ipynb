{
 "cells": [
  {
   "cell_type": "code",
   "execution_count": null,
   "metadata": {},
   "outputs": [],
   "source": [
    "%load_ext autoreload\n",
    "%autoreload 2"
   ]
  },
  {
   "cell_type": "code",
   "execution_count": null,
   "metadata": {},
   "outputs": [],
   "source": [
    "import sys\n",
    "import os\n",
    "import xarray as xr\n",
    "import math\n",
    "import numpy as np\n",
    "import matplotlib.pyplot as plt\n",
    "\n",
    "sys.path.append('/home/cucchi/phd/devel/phd')\n",
    "\n",
    "import lab.simulation.observables as obs"
   ]
  },
  {
   "cell_type": "code",
   "execution_count": null,
   "metadata": {},
   "outputs": [],
   "source": [
    "sys.path.append('/home/cucchi/phd/devel/phd/')\n",
    "DATA_FORCING_PATH = '/home/cucchi/phd/data/sim/lorenz96/rk4/CF_8/'"
   ]
  },
  {
   "cell_type": "code",
   "execution_count": null,
   "metadata": {},
   "outputs": [],
   "source": [
    "quantiles = []\n",
    "for i in range(0,1000):\n",
    "    file_name = os.path.join(\n",
    "        DATA_FORCING_PATH,\n",
    "        'sim_lorenz96_rk4_CF_8_one_{:05}.nc'.format(i)\n",
    "    )\n",
    "    data = xr.open_dataarray(file_name)\n",
    "    energy = 0.5*(data**2)\n",
    "    if i == 0:\n",
    "        energy_all = energy.values\n",
    "    else:\n",
    "        energy_all = np.append(energy_all, energy.values)\n",
    "    quantiles.append(np.quantile(energy_all, q=0.5))"
   ]
  },
  {
   "cell_type": "code",
   "execution_count": null,
   "metadata": {},
   "outputs": [],
   "source": [
    "plt.plot(quantiles)"
   ]
  },
  {
   "cell_type": "code",
   "execution_count": null,
   "metadata": {},
   "outputs": [],
   "source": [
    "quantiles = []\n",
    "for i in range(1,1000):\n",
    "    file_name = os.path.join(\n",
    "        DATA_FORCING_PATH,\n",
    "        'sim_lorenz96_rk4_CF_8_one_{:05}.nc'.format(i)\n",
    "    )\n",
    "    data = xr.open_dataarray(file_name)\n",
    "    energy = 0.5*(data**2)\n",
    "    quantiles.append(np.quantile(energy.values, q=0.5))"
   ]
  },
  {
   "cell_type": "code",
   "execution_count": null,
   "metadata": {},
   "outputs": [],
   "source": [
    "plt.hist(quantiles)"
   ]
  },
  {
   "cell_type": "code",
   "execution_count": null,
   "metadata": {},
   "outputs": [],
   "source": [
    "quantiles = []\n",
    "for i in range(1,1000):\n",
    "    file_name = os.path.join(\n",
    "        DATA_FORCING_PATH,\n",
    "        'sim_lorenz96_rk4_CF_8_one_{:05}.nc'.format(i)\n",
    "    )\n",
    "    data = xr.open_dataarray(file_name)\n",
    "    energy = 0.5*(data**2)\n",
    "    quantiles.append(np.quantile(energy.values, q=0.9))"
   ]
  },
  {
   "cell_type": "code",
   "execution_count": null,
   "metadata": {},
   "outputs": [],
   "source": [
    "plt.hist(quantiles)"
   ]
  },
  {
   "cell_type": "code",
   "execution_count": null,
   "metadata": {},
   "outputs": [],
   "source": [
    "for i in range(1,1000):\n",
    "    file_name = os.path.join(\n",
    "        DATA_FORCING_PATH,\n",
    "        'sim_lorenz96_rk4_CF_8_one_{:05}.nc'.format(i)\n",
    "    )\n",
    "    data = xr.open_dataarray(file_name)\n",
    "    energy = 0.5*(data**2)\n",
    "    if i == 0:\n",
    "        energy_all = energy.values\n",
    "    else:\n",
    "        energy_all = np.append(energy_all, energy.values)\n",
    "quantile = np.quantile(energy_all, q=0.9)"
   ]
  },
  {
   "cell_type": "code",
   "execution_count": null,
   "metadata": {},
   "outputs": [],
   "source": [
    "quantile"
   ]
  },
  {
   "cell_type": "code",
   "execution_count": null,
   "metadata": {},
   "outputs": [],
   "source": []
  }
 ],
 "metadata": {
  "kernelspec": {
   "display_name": "Python 2",
   "language": "python",
   "name": "python2"
  },
  "language_info": {
   "codemirror_mode": {
    "name": "ipython",
    "version": 3
   },
   "file_extension": ".py",
   "mimetype": "text/x-python",
   "name": "python",
   "nbconvert_exporter": "python",
   "pygments_lexer": "ipython3",
   "version": "3.7.2"
  }
 },
 "nbformat": 4,
 "nbformat_minor": 2
}
