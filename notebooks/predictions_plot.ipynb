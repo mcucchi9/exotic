{
 "cells": [
  {
   "cell_type": "code",
   "execution_count": null,
   "metadata": {},
   "outputs": [],
   "source": [
    "%load_ext autoreload\n",
    "%autoreload 2\n",
    "\n",
    "import sys\n",
    "sys.path.append('/home/cucchi/phd/devel/phd/')\n",
    "\n",
    "import os\n",
    "import xarray as xr\n",
    "import math\n",
    "import numpy as np\n",
    "import matplotlib.pyplot as plt\n",
    "\n",
    "from lab import analysis\n",
    "from lab.simulation import forcings\n",
    "\n",
    "REF_RESP_PATH = [\n",
    "    '/home/cucchi/phd/data/response/lorenz96/rk4/SF_8_1.0_0/',\n",
    "    '/home/cucchi/phd/data/response/lorenz96/rk4/SF_8_-1.0_0/'            \n",
    "]\n",
    "\n",
    "SAVE_PLOT = True"
   ]
  },
  {
   "cell_type": "markdown",
   "metadata": {},
   "source": [
    "### Observation"
   ]
  },
  {
   "cell_type": "code",
   "execution_count": null,
   "metadata": {},
   "outputs": [],
   "source": [
    "observation = 'position'\n",
    "\n",
    "QUANTILES_PATH = '/home/cucchi/phd/data/obs/lorenz96/rk4/CF_8/quantiles/obs_lorenz96_rk4_CF_8_quantiles_{}.nc'.format(\n",
    "    observation\n",
    ")"
   ]
  },
  {
   "cell_type": "markdown",
   "metadata": {},
   "source": [
    "### Linear Forcing"
   ]
  },
  {
   "cell_type": "code",
   "execution_count": null,
   "metadata": {},
   "outputs": [],
   "source": [
    "force_linear_coefficient = 0.01\n",
    "deactivation_time = 100\n",
    "\n",
    "forcing = 'LF_8_{}_0_{}'.format(force_linear_coefficient, deactivation_time)\n",
    "forcing_obj = forcings.LinearForcing(\n",
    "    linear_coefficient=force_linear_coefficient,\n",
    "    deactivation_time=deactivation_time\n",
    ")"
   ]
  },
  {
   "cell_type": "markdown",
   "metadata": {},
   "source": [
    "### Step Forcing"
   ]
  },
  {
   "cell_type": "code",
   "execution_count": null,
   "metadata": {},
   "outputs": [],
   "source": [
    "force_intensity_delta = 1.0\n",
    "\n",
    "forcing = 'SF_8_{}_0'.format(force_intensity_delta)\n",
    "forcing_obj = forcings.StepForcing(\n",
    "    force_intensity_delta=force_intensity_delta\n",
    ")"
   ]
  },
  {
   "cell_type": "markdown",
   "metadata": {},
   "source": [
    "### Sinusoidal Forcing"
   ]
  },
  {
   "cell_type": "code",
   "execution_count": null,
   "metadata": {},
   "outputs": [],
   "source": [
    "epsilon = 1.0\n",
    "omega = 0.1\n",
    "deactivation_time = 100\n",
    "\n",
    "forcing = 'SinF_8_{}_{}_0_{}'.format(epsilon, omega, deactivation_time)\n",
    "forcing_obj = forcings.SinusoidalForcing(\n",
    "    epsilon=epsilon,\n",
    "    omega=omega,\n",
    "    deactivation_time=deactivation_time\n",
    ")"
   ]
  },
  {
   "cell_type": "markdown",
   "metadata": {},
   "source": [
    "## Multiple Plots"
   ]
  },
  {
   "cell_type": "markdown",
   "metadata": {},
   "source": [
    "### Bins"
   ]
  },
  {
   "cell_type": "code",
   "execution_count": null,
   "metadata": {},
   "outputs": [],
   "source": [
    "obs_all = ['{}_bin_{}q_{}q'.format(observation, \n",
    "                                   str(np.round(quant, 1)), \n",
    "                                   str(np.round(quant + 0.1, 1))) for quant in np.arange(0, 0.9, 0.1)]\n",
    "obs_all.append('{}_exceed_0.9q'.format(observation))"
   ]
  },
  {
   "cell_type": "markdown",
   "metadata": {},
   "source": [
    "Compute **susceptibilities**"
   ]
  },
  {
   "cell_type": "code",
   "execution_count": null,
   "metadata": {},
   "outputs": [],
   "source": [
    "chi_semidiff = {}\n",
    "chi_normal = {}\n",
    "for obs in obs_all:\n",
    "    response_p1 = xr.open_dataarray(os.path.join(REF_RESP_PATH[0], 'response_lorenz96_rk4_{}_SF_8_1.0_0.nc'.format(obs)))\n",
    "    response_m1 = xr.open_dataarray(os.path.join(REF_RESP_PATH[1], 'response_lorenz96_rk4_{}_SF_8_-1.0_0.nc'.format(obs)))\n",
    "    response_semidiff = (response_p1 - response_m1)/2\n",
    "    chi_semidiff[obs] = analysis.compute_susceptibility(response_semidiff.values.squeeze())\n",
    "    chi_normal[obs] = analysis.compute_susceptibility(response_p1.values.squeeze())"
   ]
  },
  {
   "cell_type": "markdown",
   "metadata": {},
   "source": [
    "Compute **predicted responses**"
   ]
  },
  {
   "cell_type": "code",
   "execution_count": null,
   "metadata": {},
   "outputs": [],
   "source": [
    "resp_real = {}\n",
    "resp_pred_semidiff = {}\n",
    "resp_pred_normal = {}\n",
    "for obs in obs_all:\n",
    "    resp_real[obs] = xr.open_dataarray(\n",
    "        '/home/cucchi/phd/data/response/lorenz96/rk4/{f}/response_lorenz96_rk4_{o}_{f}.nc'.format(\n",
    "            o=obs,\n",
    "            f=forcing\n",
    "        )\n",
    "    )\n",
    "    resp_pred_semidiff[obs] = analysis.compute_response(chi_semidiff[obs], forcing_obj)\n",
    "    resp_pred_normal[obs] = analysis.compute_response(chi_normal[obs], forcing_obj)"
   ]
  },
  {
   "cell_type": "code",
   "execution_count": null,
   "metadata": {},
   "outputs": [],
   "source": [
    "fig, ax = plt.subplots(5, 2, sharex='all', sharey=False, figsize=(15, 20))\n",
    "\n",
    "titles = [\n",
    "    'freq. of {} val. below 10th perc.'.format(observation),\n",
    "    'freq. of {} val. between 10th and 20th perc.'.format(observation),\n",
    "    'freq. of {} val. between 20th and 30th perc.'.format(observation),\n",
    "    'freq. of {} val. between 30th and 40th perc.'.format(observation),\n",
    "    'freq. of {} val. between 40th and 50th perc.'.format(observation),\n",
    "    'freq. of {} val. between 50th and 60th perc.'.format(observation),\n",
    "    'freq. of {} val. between 60th and 70th perc.'.format(observation),\n",
    "    'freq. of {} val. between 70th and 80th perc.'.format(observation),\n",
    "    'freq. of {} val. between 80th and 90th perc.'.format(observation),\n",
    "    'freq. of {} val. above 90th percentile'.format(observation),\n",
    "]\n",
    "\n",
    "k = 0\n",
    "for i in range(5):\n",
    "    for j in range(2):\n",
    "        l1, = ax[i, j].plot(np.arange(0, 100, 0.01), resp_real[obs_all[k]].values, alpha=0.5)\n",
    "        l2, = ax[i, j].plot(np.arange(0, 100, 0.01), resp_pred_semidiff[obs_all[k]][0:10000], linewidth=2)\n",
    "        l3, = ax[i, j].plot(np.arange(0, 100, 0.01), resp_pred_normal[obs_all[k]][0:10000], linewidth=2, color='m')\n",
    "        ax[i, j].set_title(titles[k], size=17)\n",
    "        ax[i, j].set_ylim([-0.15, 0.15])\n",
    "        ax[i, j].tick_params(labelsize='x-large')\n",
    "        std_real = resp_real[obs_all[k]].std().values\n",
    "        avg_real = resp_real[obs_all[k]].mean().values\n",
    "        sig_digit_real = -math.floor(math.log10(std_real))\n",
    "        std_pred_normal = resp_pred_normal[obs_all[k]][0:10000].std()\n",
    "        avg_pred_normal = resp_pred_normal[obs_all[k]][0:10000].mean()\n",
    "        sig_digit_pred_normal = -math.floor(math.log10(std_pred_normal))\n",
    "        std_pred_semidiff = resp_pred_semidiff[obs_all[k]][0:10000].std()\n",
    "        avg_pred_semidiff = resp_pred_semidiff[obs_all[k]][0:10000].mean()\n",
    "        sig_digit_pred_semidiff = -math.floor(math.log10(std_pred_semidiff))\n",
    "\n",
    "        if k==1:\n",
    "            ax[i, j].legend((l1, l2, l3), ('real', 'predicted (semidiff)', 'predicted (normal)'), loc='upper right', shadow=True, fontsize='x-large')\n",
    "        if not j%2:\n",
    "            ax[i, j].set_ylabel('frequency', size=15)\n",
    "        if i==4:\n",
    "            ax[i, j].set_xlabel('time', size=15)\n",
    "            \n",
    "        k += 1\n",
    "        \n",
    "plt.tight_layout()\n",
    "\n",
    "if SAVE_PLOT:\n",
    "    plt.savefig('/home/cucchi/phd/devel/phd/logbook/fig/pred_bin_L_{}_{}.png'.format(\n",
    "        str(force_linear_coefficient).replace('.',''),\n",
    "        str(deactivation_time)\n",
    "    ))"
   ]
  },
  {
   "cell_type": "markdown",
   "metadata": {},
   "source": [
    "### Below"
   ]
  },
  {
   "cell_type": "code",
   "execution_count": null,
   "metadata": {},
   "outputs": [],
   "source": [
    "obs_all = ['{}_below_{}q'.format(observation,\n",
    "                                 str(np.round(quant + 0.1, 1))) for quant in np.arange(0, 0.9, 0.1)]\n",
    "obs_all.append('{}_exceed_0.9q'.format(observation))"
   ]
  },
  {
   "cell_type": "markdown",
   "metadata": {},
   "source": [
    "Compute **susceptibilities**"
   ]
  },
  {
   "cell_type": "code",
   "execution_count": null,
   "metadata": {},
   "outputs": [],
   "source": [
    "chi_semidiff = {}\n",
    "chi_normal = {}\n",
    "for obs in obs_all:\n",
    "    response_p1 = xr.open_dataarray(os.path.join(REF_RESP_PATH[0], 'response_lorenz96_rk4_{}_SF_8_1.0_0.nc'.format(obs)))\n",
    "    response_m1 = xr.open_dataarray(os.path.join(REF_RESP_PATH[1], 'response_lorenz96_rk4_{}_SF_8_-1.0_0.nc'.format(obs)))\n",
    "    response_semidiff = (response_p1 - response_m1)/2\n",
    "    chi_semidiff[obs] = analysis.compute_susceptibility(response_semidiff.values.squeeze())\n",
    "    chi_normal[obs] = analysis.compute_susceptibility(response_p1.values.squeeze())"
   ]
  },
  {
   "cell_type": "markdown",
   "metadata": {},
   "source": [
    "Compute **predicted responses**"
   ]
  },
  {
   "cell_type": "code",
   "execution_count": null,
   "metadata": {},
   "outputs": [],
   "source": [
    "resp_real = {}\n",
    "resp_pred_semidiff = {}\n",
    "resp_pred_normal = {}\n",
    "for obs in obs_all:\n",
    "    resp_real[obs] = xr.open_dataarray(\n",
    "        '/home/cucchi/phd/data/response/lorenz96/rk4/{f}/response_lorenz96_rk4_{o}_{f}.nc'.format(\n",
    "            o=obs,\n",
    "            f=forcing\n",
    "        )\n",
    "    )\n",
    "    resp_pred_semidiff[obs] = analysis.compute_response(chi_semidiff[obs], forcing_obj)\n",
    "    resp_pred_normal[obs] = analysis.compute_response(chi_normal[obs], forcing_obj)"
   ]
  },
  {
   "cell_type": "code",
   "execution_count": null,
   "metadata": {},
   "outputs": [],
   "source": [
    "fig, ax = plt.subplots(5, 2, sharex='all', sharey=False, figsize=(15, 20))\n",
    "\n",
    "titles = [\n",
    "    'freq. of {} val. below 10th perc.'.format(observation),\n",
    "    'freq. of {} val. below 20th perc.'.format(observation),\n",
    "    'freq. of {} val. below 30th perc.'.format(observation),\n",
    "    'freq. of {} val. below 40th perc.'.format(observation),\n",
    "    'freq. of {} val. below 50th perc.'.format(observation),\n",
    "    'freq. of {} val. below 60th perc.'.format(observation),\n",
    "    'freq. of {} val. below 70th perc.'.format(observation),\n",
    "    'freq. of {} val. below 80th perc.'.format(observation),\n",
    "    'freq. of {} val. below 90th perc.'.format(observation),\n",
    "    'freq. of {} val. above 90th perc.'.format(observation),\n",
    "]\n",
    "\n",
    "k = 0\n",
    "for i in range(5):\n",
    "    for j in range(2):\n",
    "        l1, = ax[i, j].plot(np.arange(0, 100, 0.01), resp_real[obs_all[k]].values, alpha=0.5)\n",
    "        l2, = ax[i, j].plot(np.arange(0, 100, 0.01), resp_pred_semidiff[obs_all[k]][0:10000], linewidth=2)\n",
    "        l3, = ax[i, j].plot(np.arange(0, 100, 0.01), resp_pred_normal[obs_all[k]][0:10000], linewidth=2, color='m')\n",
    "        ax[i, j].set_title(titles[k], size=17)\n",
    "        \n",
    "        ax[i, j].set_ylim([-0.09, 0.09])\n",
    "        \n",
    "        ax[i, j].tick_params(labelsize='x-large')\n",
    "        std_real = resp_real[obs_all[k]].std().values\n",
    "        avg_real = resp_real[obs_all[k]].mean().values\n",
    "        sig_digit_real = -math.floor(math.log10(std_real))\n",
    "        std_pred_normal = resp_pred_normal[obs_all[k]][0:10000].std()\n",
    "        avg_pred_normal = resp_pred_normal[obs_all[k]][0:10000].mean()\n",
    "        sig_digit_pred_normal = -math.floor(math.log10(std_pred_normal))\n",
    "        std_pred_semidiff = resp_pred_semidiff[obs_all[k]][0:10000].std()\n",
    "        avg_pred_semidiff = resp_pred_semidiff[obs_all[k]][0:10000].mean()\n",
    "        sig_digit_pred_semidiff = -math.floor(math.log10(std_pred_semidiff))\n",
    "\n",
    "        if k==1:\n",
    "            ax[i, j].legend((l1, l2, l3), ('real', 'predicted (semidiff)', 'predicted (normal)'), loc='lower right', shadow=True, fontsize='x-large')\n",
    "        if not j%2:\n",
    "            ax[i, j].set_ylabel('frequency', size=15)\n",
    "        if i==4:\n",
    "            ax[i, j].set_xlabel('time', size=15)\n",
    "            \n",
    "        k += 1\n",
    "\n",
    "plt.tight_layout()\n",
    "\n",
    "if SAVE_PLOT:\n",
    "    plt.savefig('/home/cucchi/phd/devel/phd/logbook/fig/pred_{}_below_{}.png'.format(\n",
    "        observation,\n",
    "        str(forcing).replace('.',''),\n",
    "    ))"
   ]
  },
  {
   "cell_type": "markdown",
   "metadata": {},
   "source": [
    "## Single Plot"
   ]
  },
  {
   "cell_type": "code",
   "execution_count": null,
   "metadata": {},
   "outputs": [],
   "source": [
    "obs = 'position_exceed_0.99q'"
   ]
  },
  {
   "cell_type": "code",
   "execution_count": null,
   "metadata": {},
   "outputs": [],
   "source": [
    "response_p1 = xr.open_dataarray(os.path.join(REF_RESP_PATH[0], 'response_lorenz96_rk4_{}_SF_8_1.0_0.nc'.format(obs)))\n",
    "response_m1 = xr.open_dataarray(os.path.join(REF_RESP_PATH[1], 'response_lorenz96_rk4_{}_SF_8_-1.0_0.nc'.format(obs)))\n",
    "response_semidiff = (response_p1 - response_m1)/2\n",
    "chi_semidiff = analysis.compute_susceptibility(response_semidiff.values.squeeze())\n",
    "chi_normal = analysis.compute_susceptibility(response_p1.values.squeeze())\n",
    "\n",
    "resp_real = xr.open_dataarray(\n",
    "    '/home/cucchi/phd/data/response/lorenz96/rk4/{f}/response_lorenz96_rk4_{o}_{f}.nc'.format(\n",
    "        o=obs,\n",
    "        f=forcing\n",
    "    )\n",
    ")\n",
    "resp_pred_semidiff = analysis.compute_response(chi_semidiff, forcing_obj)\n",
    "resp_pred_normal = analysis.compute_response(chi_normal , forcing_obj)"
   ]
  },
  {
   "cell_type": "markdown",
   "metadata": {},
   "source": [
    "### Plot"
   ]
  },
  {
   "cell_type": "code",
   "execution_count": null,
   "metadata": {},
   "outputs": [],
   "source": [
    "l1, = plt.plot(np.arange(0, 100, 0.01), resp_real.values, alpha=0.5)\n",
    "l2, = plt.plot(np.arange(0, 100, 0.01), resp_pred_semidiff[0:10000], linewidth=2)\n",
    "l3, = plt.plot(np.arange(0, 100, 0.01), resp_pred_normal[0:10000], linewidth=2, color='m')\n",
    "#plt.set_title(titles[k], size=17)\n",
    "\n",
    "plt.ylim(-0.03, 0.03)\n",
    "\n",
    "#plt.tick_params(labelsize='x-normal')\n",
    "std_real = resp_real.std().values\n",
    "avg_real = resp_real.mean().values\n",
    "sig_digit_real = -math.floor(math.log10(std_real))\n",
    "std_pred_normal = resp_pred_normal[0:10000].std()\n",
    "avg_pred_normal = resp_pred_normal[0:10000].mean()\n",
    "sig_digit_pred_normal = -math.floor(math.log10(std_pred_normal))\n",
    "std_pred_semidiff = resp_pred_semidiff[0:10000].std()\n",
    "avg_pred_semidiff = resp_pred_semidiff[0:10000].mean()\n",
    "sig_digit_pred_semidiff = -math.floor(math.log10(std_pred_semidiff))\n",
    "#plt.legend((l1, l2, l3), ('real', 'predicted (semidiff)', 'predicted (normal)'), loc='lower right', shadow=True)\n",
    "plt.title('frequency of energy val. above 99th perc.')\n",
    "plt.ylabel('frequency')\n",
    "plt.xlabel('time')\n",
    "\n",
    "if SAVE_PLOT:\n",
    "    plt.savefig('/home/cucchi/phd/devel/phd/logbook/fig/pred_{}_L_{}_{}.png'.format(\n",
    "        obs.replace('.', ''), str(force_linear_coefficient).replace('.', ''), str(deactivation_time)\n",
    "    ))"
   ]
  },
  {
   "cell_type": "markdown",
   "metadata": {},
   "source": [
    "### Plot cumulative distribution approximation"
   ]
  },
  {
   "cell_type": "code",
   "execution_count": null,
   "metadata": {},
   "outputs": [],
   "source": [
    "observation = 'position'"
   ]
  },
  {
   "cell_type": "code",
   "execution_count": null,
   "metadata": {},
   "outputs": [],
   "source": [
    "quantiles = xr.open_dataarray(QUANTILES_PATH)\n",
    "x = quantiles.values[0:]\n",
    "y = quantiles.quantile_order[0:]\n",
    "plt.plot(x, y)"
   ]
  },
  {
   "cell_type": "code",
   "execution_count": null,
   "metadata": {},
   "outputs": [],
   "source": [
    "obs_all = ['{}_below_{}q'.format(observation, str(np.round(quant, 2))) for quant in np.arange(0, 1.01, 0.01)]\n",
    "chi_normal = {}\n",
    "for obs in obs_all:\n",
    "    response_p1 = xr.open_dataarray(os.path.join(REF_RESP_PATH[0], 'response_lorenz96_rk4_{}_SF_8_1.0_0.nc'.format(obs)))\n",
    "    chi_normal[obs] = analysis.compute_susceptibility(response_p1.values.squeeze())\n",
    "resp_pred_normal = {}\n",
    "for obs in obs_all:\n",
    "    resp_pred_normal[obs] = analysis.compute_response(chi_normal[obs], forcing_obj)"
   ]
  },
  {
   "cell_type": "code",
   "execution_count": null,
   "metadata": {},
   "outputs": [],
   "source": [
    "resp_pred_normal_t50 = [resp_pred_normal[obs][5000] for obs in obs_all]\n",
    "y_pred_t50 = y + resp_pred_normal_t50\n",
    "resp_pred_normal_t100 = [resp_pred_normal[obs][9999] for obs in obs_all]\n",
    "y_pred_t100 = y + resp_pred_normal_t100"
   ]
  },
  {
   "cell_type": "markdown",
   "metadata": {},
   "source": [
    "#### Plot CDF"
   ]
  },
  {
   "cell_type": "code",
   "execution_count": null,
   "metadata": {},
   "outputs": [],
   "source": [
    "plt.plot(x, y, label='unperturbed')\n",
    "plt.plot(x, y_pred_t50, label='pert. t=50')\n",
    "plt.plot(x, y_pred_t100, label='pert. t=100')\n",
    "plt.title('Predicted CDF evolution')\n",
    "plt.legend()\n",
    "\n",
    "if SAVE_PLOT:\n",
    "    plt.savefig('/home/cucchi/phd/devel/phd/logbook/fig/pred_cdf_{}_{}.png'.format(\n",
    "        obs.replace('.', ''), str(forcing).replace('.', '')\n",
    "    ))"
   ]
  },
  {
   "cell_type": "markdown",
   "metadata": {},
   "source": [
    "#### Plot PDF"
   ]
  },
  {
   "cell_type": "code",
   "execution_count": null,
   "metadata": {},
   "outputs": [],
   "source": [
    "x_pdf_orig = np.diff(x)/2 + x[:-1]\n",
    "y_pdf_orig = np.diff(y)/np.diff(x)\n",
    "y_pdf_t_100 = np.diff(y + resp_pred_normal_t100)/np.diff(x)\n",
    "y_pdf_t_50 = np.diff(y + resp_pred_normal_t50)/np.diff(x)"
   ]
  },
  {
   "cell_type": "code",
   "execution_count": null,
   "metadata": {},
   "outputs": [],
   "source": [
    "plt.plot(x_pdf_orig, y_pdf_orig, label='unperturbed')\n",
    "plt.plot(x_pdf_orig, y_pdf_t_50, label='pert. t=50')\n",
    "plt.plot(x_pdf_orig, y_pdf_t_100, label='pert. t=100')\n",
    "plt.title('Predicted PDF evolution')\n",
    "plt.legend()\n",
    "\n",
    "if SAVE_PLOT:\n",
    "    plt.savefig('/home/cucchi/phd/devel/phd/logbook/fig/pred_pdf_{}_{}.png'.format(\n",
    "        obs.replace('.', ''), str(forcing).replace('.', '')\n",
    "    ))"
   ]
  },
  {
   "cell_type": "markdown",
   "metadata": {},
   "source": [
    "A zoom"
   ]
  },
  {
   "cell_type": "code",
   "execution_count": null,
   "metadata": {},
   "outputs": [],
   "source": [
    "plt.plot(x_pdf_orig, y_pdf_orig, label='unperturbed')\n",
    "plt.plot(x_pdf_orig, y_pdf_t_50, label='pert. t=50')\n",
    "plt.plot(x_pdf_orig, y_pdf_t_100, label='pert. t=100')\n",
    "plt.title('Predicted PDF evolution - Zoom')\n",
    "plt.legend()\n",
    "plt.xlim(0,0.1)\n",
    "\n",
    "if SAVE_PLOT:\n",
    "    plt.savefig('/home/cucchi/phd/devel/phd/logbook/fig/pred_pdf_zoom_{}_{}.png'.format(\n",
    "        obs.replace('.', ''), str(forcing).replace('.', '')\n",
    "    ))"
   ]
  },
  {
   "cell_type": "code",
   "execution_count": null,
   "metadata": {},
   "outputs": [],
   "source": []
  }
 ],
 "metadata": {
  "kernelspec": {
   "display_name": "Python 3",
   "language": "python",
   "name": "python3"
  },
  "language_info": {
   "codemirror_mode": {
    "name": "ipython",
    "version": 3
   },
   "file_extension": ".py",
   "mimetype": "text/x-python",
   "name": "python",
   "nbconvert_exporter": "python",
   "pygments_lexer": "ipython3",
   "version": "3.6.8"
  }
 },
 "nbformat": 4,
 "nbformat_minor": 2
}
