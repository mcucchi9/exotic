{
 "cells": [
  {
   "cell_type": "code",
   "execution_count": 36,
   "metadata": {},
   "outputs": [
    {
     "name": "stdout",
     "output_type": "stream",
     "text": [
      "The autoreload extension is already loaded. To reload it, use:\n",
      "  %reload_ext autoreload\n"
     ]
    }
   ],
   "source": [
    "%load_ext autoreload\n",
    "%autoreload 2"
   ]
  },
  {
   "cell_type": "code",
   "execution_count": 37,
   "metadata": {},
   "outputs": [],
   "source": [
    "import sys\n",
    "import os\n",
    "import xarray as xr\n",
    "import math\n",
    "import numpy as np\n",
    "import matplotlib.pyplot as plt\n",
    "\n",
    "sys.path.append('/home/cucchi/phd/devel/phd')\n",
    "\n",
    "import lab.simulation.observables as obs"
   ]
  },
  {
   "cell_type": "code",
   "execution_count": 38,
   "metadata": {},
   "outputs": [],
   "source": [
    "obs_energy = obs.Energy()"
   ]
  },
  {
   "cell_type": "code",
   "execution_count": 39,
   "metadata": {},
   "outputs": [],
   "source": [
    "quantiles = xr.open_dataarray('/home/cucchi/phd/data/obs/lorenz96/rk4/CF_8/quantiles/obs_lorenz96_rk4_CF_8_quantiles.nc')"
   ]
  },
  {
   "cell_type": "code",
   "execution_count": 52,
   "metadata": {},
   "outputs": [],
   "source": [
    "obs_bin = obs.Bin([quantiles.sel(quantile_order=0.8).values, quantiles.sel(quantile_order=0.9).values], [0.8, 0.9], obs.Energy())\n",
    "#obs_bin = obs.Bin([quantiles.sel(quantile_order=0.8).values], [0.8], obs.Energy())"
   ]
  },
  {
   "cell_type": "code",
   "execution_count": 53,
   "metadata": {},
   "outputs": [
    {
     "data": {
      "text/plain": [
       "[array(15.97026176), array(26.26972313)]"
      ]
     },
     "execution_count": 53,
     "metadata": {},
     "output_type": "execute_result"
    }
   ],
   "source": [
    "obs_bin.threshold"
   ]
  },
  {
   "cell_type": "code",
   "execution_count": 54,
   "metadata": {},
   "outputs": [],
   "source": [
    "counter = 0\n",
    "for i in np.arange(1, 1001):\n",
    "    data = xr.open_dataarray('/home/cucchi/phd/data/sim/lorenz96/rk4/CF_8/sim_lorenz96_rk4_CF_8_one_{:05}.nc'.format(i))\n",
    "    if counter == 0:\n",
    "        frequency = obs_bin(data)\n",
    "    else:\n",
    "        frequency = frequency + obs_bin(data)\n",
    "    counter += 1"
   ]
  },
  {
   "cell_type": "code",
   "execution_count": 55,
   "metadata": {},
   "outputs": [],
   "source": [
    "frequency = frequency/counter"
   ]
  },
  {
   "cell_type": "code",
   "execution_count": 56,
   "metadata": {},
   "outputs": [
    {
     "name": "stdout",
     "output_type": "stream",
     "text": [
      "predicted: 0.104 +/- 0.01\n"
     ]
    }
   ],
   "source": [
    "std = frequency.values.squeeze().std()\n",
    "sig_digit = -math.floor(math.log10(std))\n",
    "print('predicted: {} +/- {}'.format(\n",
    "    str(np.round(frequency.values.squeeze().mean(), sig_digit)), \n",
    "    str(np.round(frequency.values.squeeze().std(), sig_digit))\n",
    "))"
   ]
  },
  {
   "cell_type": "code",
   "execution_count": 27,
   "metadata": {},
   "outputs": [
    {
     "data": {
      "text/plain": [
       "<xarray.DataArray 'var' (time_step: 10000, node: 1)>\n",
       "array([[0.38 ],\n",
       "       [0.382],\n",
       "       [0.388],\n",
       "       ...,\n",
       "       [0.377],\n",
       "       [0.378],\n",
       "       [0.376]], dtype=float32)\n",
       "Coordinates:\n",
       "  * node       (node) int32 0\n",
       "  * time_step  (time_step) int32 0 1 2 3 4 5 6 ... 9994 9995 9996 9997 9998 9999"
      ]
     },
     "execution_count": 27,
     "metadata": {},
     "output_type": "execute_result"
    }
   ],
   "source": [
    "frequency"
   ]
  },
  {
   "cell_type": "code",
   "execution_count": null,
   "metadata": {},
   "outputs": [],
   "source": []
  }
 ],
 "metadata": {
  "kernelspec": {
   "display_name": "Python 3",
   "language": "python",
   "name": "python3"
  },
  "language_info": {
   "codemirror_mode": {
    "name": "ipython",
    "version": 3
   },
   "file_extension": ".py",
   "mimetype": "text/x-python",
   "name": "python",
   "nbconvert_exporter": "python",
   "pygments_lexer": "ipython3",
   "version": "3.7.2"
  }
 },
 "nbformat": 4,
 "nbformat_minor": 2
}
