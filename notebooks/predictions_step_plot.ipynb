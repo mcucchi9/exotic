{
 "cells": [
  {
   "cell_type": "code",
   "execution_count": null,
   "metadata": {},
   "outputs": [],
   "source": [
    "%load_ext autoreload\n",
    "%autoreload 2"
   ]
  },
  {
   "cell_type": "code",
   "execution_count": null,
   "metadata": {},
   "outputs": [],
   "source": [
    "import sys\n",
    "sys.path.append('/home/cucchi/phd/devel/phd/')"
   ]
  },
  {
   "cell_type": "code",
   "execution_count": null,
   "metadata": {},
   "outputs": [],
   "source": [
    "import os\n",
    "import xarray as xr\n",
    "import math\n",
    "import numpy as np\n",
    "import matplotlib.pyplot as plt\n",
    "\n",
    "from lab import analysis\n",
    "from lab.simulation import forcings"
   ]
  },
  {
   "cell_type": "code",
   "execution_count": null,
   "metadata": {},
   "outputs": [],
   "source": [
    "REF_RESP_PATH = [\n",
    "    '/home/cucchi/phd/data/response/lorenz96/rk4/SF_8_1.0_0/',\n",
    "    '/home/cucchi/phd/data/response/lorenz96/rk4/SF_8_-1.0_0/'            \n",
    "]"
   ]
  },
  {
   "cell_type": "markdown",
   "metadata": {},
   "source": [
    "## Multiple Plots "
   ]
  },
  {
   "cell_type": "code",
   "execution_count": null,
   "metadata": {},
   "outputs": [],
   "source": [
    "force_intensity_delta = 3.0\n",
    "forcing = 'SF_8_{}_0'.format(force_intensity_delta)"
   ]
  },
  {
   "cell_type": "markdown",
   "metadata": {},
   "source": [
    "### Bins"
   ]
  },
  {
   "cell_type": "code",
   "execution_count": null,
   "metadata": {},
   "outputs": [],
   "source": [
    "obs_all = ['energy_bin_{}q_{}q'.format(str(np.round(quant, 1)), str(np.round(quant + 0.1, 1))) for quant in np.arange(0, 0.9, 0.1)]\n",
    "obs_all.append('energy_exceed_0.9q')"
   ]
  },
  {
   "cell_type": "markdown",
   "metadata": {},
   "source": [
    "Compute **susceptibilities**"
   ]
  },
  {
   "cell_type": "code",
   "execution_count": null,
   "metadata": {},
   "outputs": [],
   "source": [
    "chi_semidiff = {}\n",
    "chi_normal = {}\n",
    "for obs in obs_all:\n",
    "    response_p1 = xr.open_dataarray(os.path.join(REF_RESP_PATH[0], 'response_lorenz96_rk4_{}_SF_8_1.0_0.nc'.format(obs)))\n",
    "    response_m1 = xr.open_dataarray(os.path.join(REF_RESP_PATH[1], 'response_lorenz96_rk4_{}_SF_8_-1.0_0.nc'.format(obs)))\n",
    "    response_semidiff = (response_p1 - response_m1)/2\n",
    "    chi_semidiff[obs] = analysis.compute_susceptibility(response_semidiff.values.squeeze())\n",
    "    chi_normal[obs] = analysis.compute_susceptibility(response_p1.values.squeeze())"
   ]
  },
  {
   "cell_type": "markdown",
   "metadata": {},
   "source": [
    "Compute **predicted responses**"
   ]
  },
  {
   "cell_type": "code",
   "execution_count": null,
   "metadata": {},
   "outputs": [],
   "source": [
    "resp_real = {}\n",
    "resp_pred_semidiff = {}\n",
    "resp_pred_normal = {}\n",
    "for obs in obs_all:\n",
    "    resp_real[obs] = xr.open_dataarray(\n",
    "        '/home/cucchi/phd/data/response/lorenz96/rk4/{f}/response_lorenz96_rk4_{o}_{f}.nc'.format(\n",
    "            o=obs,\n",
    "            f=forcing\n",
    "        )\n",
    "    )\n",
    "    resp_pred_semidiff[obs] = analysis.compute_response(chi_semidiff[obs], forcings.StepForcing(\n",
    "        force_intensity_delta=force_intensity_delta\n",
    "    ))\n",
    "    resp_pred_normal[obs] = analysis.compute_response(chi_normal[obs], forcings.StepForcing(\n",
    "        force_intensity_delta=force_intensity_delta\n",
    "    ))"
   ]
  },
  {
   "cell_type": "code",
   "execution_count": null,
   "metadata": {},
   "outputs": [],
   "source": [
    "fig, ax = plt.subplots(5, 2, sharex='all', sharey='all', figsize=(15, 20))\n",
    "\n",
    "titles = [\n",
    "    'freq. of energy val. below 10th perc.',\n",
    "    'freq. of energy val. between 10th and 20th perc.',\n",
    "    'freq. of energy val. between 20th and 30th perc.',\n",
    "    'freq. of energy val. between 30th and 40th perc.',\n",
    "    'freq. of energy val. between 40th and 50th perc.',\n",
    "    'freq. of energy val. between 50th and 60th perc.',\n",
    "    'freq. of energy val. between 60th and 70th perc.',\n",
    "    'freq. of energy val. between 70th and 80th perc.',\n",
    "    'freq. of energy val. between 80th and 90th perc.',\n",
    "    'freq. of energy val. above 90th percentile',\n",
    "]\n",
    "\n",
    "k = 0\n",
    "for i in range(5):\n",
    "    for j in range(2):\n",
    "        l1, = ax[i, j].plot(np.arange(0, 100, 0.01), resp_real[obs_all[k]].values, alpha=0.5)\n",
    "        l3, = ax[i, j].plot(np.arange(0, 100, 0.01), resp_pred_normal[obs_all[k]][0:10000], alpha=0.8, color='m')\n",
    "        l2, = ax[i, j].plot(np.arange(0, 100, 0.01), resp_pred_semidiff[obs_all[k]][0:10000], alpha=0.8)\n",
    "        ax[i, j].set_title(titles[k], size=17)\n",
    "        ax[i, j].set_ylim([-0.15, 0.15])\n",
    "        ax[i, j].tick_params(labelsize='x-large')\n",
    "        std_real = resp_real[obs_all[k]].std().values\n",
    "        avg_real = resp_real[obs_all[k]].mean().values\n",
    "        sig_digit_real = -math.floor(math.log10(std_real))\n",
    "        std_pred_normal = resp_pred_normal[obs_all[k]][0:10000].std()\n",
    "        avg_pred_normal = resp_pred_normal[obs_all[k]][0:10000].mean()\n",
    "        sig_digit_pred_normal = -math.floor(math.log10(std_pred_normal))\n",
    "        std_pred_semidiff = resp_pred_semidiff[obs_all[k]][0:10000].std()\n",
    "        avg_pred_semidiff = resp_pred_semidiff[obs_all[k]][0:10000].mean()\n",
    "        sig_digit_pred_semidiff = -math.floor(math.log10(std_pred_semidiff))\n",
    "        \n",
    "        ax[i, j].text(48, -0.13, \n",
    "                      'Averages:\\nreal:              {} +/- {}\\npred semid:  {} +/- {}\\npred normal: {} +/- {}'.format(\n",
    "                          round(float(avg_real), sig_digit_real),\n",
    "                          round(float(std_real), sig_digit_real),\n",
    "                          round(float(avg_pred_semidiff), sig_digit_pred_semidiff),\n",
    "                          round(float(std_pred_semidiff), sig_digit_pred_semidiff),\n",
    "                          round(float(avg_pred_normal), sig_digit_pred_normal),\n",
    "                          round(float(std_pred_normal), sig_digit_pred_normal),\n",
    "                      ), \n",
    "                      size = 15,\n",
    "                      bbox={'facecolor':'white', 'pad':5, 'alpha':0.5}\n",
    "                     )\n",
    "        \n",
    "        if k==1:\n",
    "            ax[i, j].legend((l1, l2, l3), ('real', 'predicted (semidiff)', 'predicted (normal)'), loc='upper right', shadow=True, fontsize='x-large')\n",
    "        if not j%2:\n",
    "            ax[i, j].set_ylabel('frequency', size=15)\n",
    "        if i==4:\n",
    "            ax[i, j].set_xlabel('time', size=15)\n",
    "            \n",
    "        k += 1\n",
    "        \n",
    "plt.tight_layout()\n",
    "plt.savefig('/home/cucchi/phd/devel/phd/logbook/fig/pred_bin_S_{}.png'.format(\n",
    "    str(force_intensity_delta).replace('.','')\n",
    "))"
   ]
  },
  {
   "cell_type": "markdown",
   "metadata": {},
   "source": [
    "### Below"
   ]
  },
  {
   "cell_type": "code",
   "execution_count": null,
   "metadata": {},
   "outputs": [],
   "source": [
    "obs_all = ['energy_bin_0.0q_{}q'.format(str(np.round(quant + 0.1, 1))) for quant in np.arange(0, 0.9, 0.1)]\n",
    "obs_all.append('energy_exceed_0.9q')"
   ]
  },
  {
   "cell_type": "markdown",
   "metadata": {},
   "source": [
    "Compute **susceptibilities**"
   ]
  },
  {
   "cell_type": "code",
   "execution_count": null,
   "metadata": {},
   "outputs": [],
   "source": [
    "chi_semidiff = {}\n",
    "chi_normal = {}\n",
    "for obs in obs_all:\n",
    "    response_p1 = xr.open_dataarray(os.path.join(REF_RESP_PATH[0], 'response_lorenz96_rk4_{}_SF_8_1.0_0.nc'.format(obs)))\n",
    "    response_m1 = xr.open_dataarray(os.path.join(REF_RESP_PATH[1], 'response_lorenz96_rk4_{}_SF_8_-1.0_0.nc'.format(obs)))\n",
    "    response_semidiff = (response_p1 - response_m1)/2\n",
    "    chi_semidiff[obs] = analysis.compute_susceptibility(response_semidiff.values.squeeze())\n",
    "    chi_normal[obs] = analysis.compute_susceptibility(response_p1.values.squeeze())"
   ]
  },
  {
   "cell_type": "markdown",
   "metadata": {},
   "source": [
    "Compute **predicted responses**"
   ]
  },
  {
   "cell_type": "code",
   "execution_count": null,
   "metadata": {},
   "outputs": [],
   "source": [
    "resp_real = {}\n",
    "resp_pred_semidiff = {}\n",
    "resp_pred_normal = {}\n",
    "for obs in obs_all:\n",
    "    resp_real[obs] = xr.open_dataarray(\n",
    "        '/home/cucchi/phd/data/response/lorenz96/rk4/{f}/response_lorenz96_rk4_{o}_{f}.nc'.format(\n",
    "            o=obs,\n",
    "            f=forcing\n",
    "        )\n",
    "    )\n",
    "    resp_pred_semidiff[obs] = analysis.compute_response(chi_semidiff[obs], forcings.StepForcing(\n",
    "        force_intensity_delta=force_intensity_delta\n",
    "    ))\n",
    "    resp_pred_normal[obs] = analysis.compute_response(chi_normal[obs], forcings.StepForcing(\n",
    "        force_intensity_delta=force_intensity_delta\n",
    "    ))"
   ]
  },
  {
   "cell_type": "code",
   "execution_count": null,
   "metadata": {},
   "outputs": [],
   "source": [
    "fig, ax = plt.subplots(5, 2, sharex='all', sharey='all', figsize=(15, 20))\n",
    "\n",
    "titles = [\n",
    "    'freq. of energy val. below 10th perc.',\n",
    "    'freq. of energy val. below 20th perc.',\n",
    "    'freq. of energy val. below 30th perc.',\n",
    "    'freq. of energy val. below 40th perc.',\n",
    "    'freq. of energy val. below 50th perc.',\n",
    "    'freq. of energy val. below 60th perc.',\n",
    "    'freq. of energy val. below 70th perc.',\n",
    "    'freq. of energy val. below 80th perc.',\n",
    "    'freq. of energy val. below 90th perc.',\n",
    "    'freq. of energy val. above 90th perc.',\n",
    "]\n",
    "k = 0\n",
    "for i in range(5):\n",
    "    for j in range(2):\n",
    "        l1, = ax[i, j].plot(np.arange(0, 100, 0.01), resp_real[obs_all[k]].values, alpha=0.5)\n",
    "        l3, = ax[i, j].plot(np.arange(0, 100, 0.01), resp_pred_normal[obs_all[k]][0:10000], alpha=0.8, color='m')\n",
    "        l2, = ax[i, j].plot(np.arange(0, 100, 0.01), resp_pred_semidiff[obs_all[k]][0:10000], alpha=0.8)\n",
    "        ax[i, j].set_title(titles[k], size=17)\n",
    "        ax[i, j].set_ylim([-0.18, 0.18])\n",
    "        ax[i, j].tick_params(labelsize='x-large')\n",
    "        std_real = resp_real[obs_all[k]].std().values\n",
    "        avg_real = resp_real[obs_all[k]].mean().values\n",
    "        sig_digit_real = -math.floor(math.log10(std_real))\n",
    "        std_pred_normal = resp_pred_normal[obs_all[k]][0:10000].std()\n",
    "        avg_pred_normal = resp_pred_normal[obs_all[k]][0:10000].mean()\n",
    "        sig_digit_pred_normal = -math.floor(math.log10(std_pred_normal))\n",
    "        std_pred_semidiff = resp_pred_semidiff[obs_all[k]][0:10000].std()\n",
    "        avg_pred_semidiff = resp_pred_semidiff[obs_all[k]][0:10000].mean()\n",
    "        sig_digit_pred_semidiff = -math.floor(math.log10(std_pred_semidiff))\n",
    "        \"\"\"\n",
    "        ax[i, j].text(48, -0.13, \n",
    "                      'Averages:\\nreal:              {} +/- {}\\npred semid:  {} +/- {}\\npred normal: {} +/- {}'.format(\n",
    "                          round(float(avg_real), sig_digit_real),\n",
    "                          round(float(std_real), sig_digit_real),\n",
    "                          round(float(avg_pred_semidiff), sig_digit_pred_semidiff),\n",
    "                          round(float(std_pred_semidiff), sig_digit_pred_semidiff),\n",
    "                          round(float(avg_pred_normal), sig_digit_pred_normal),\n",
    "                          round(float(std_pred_normal), sig_digit_pred_normal),\n",
    "                      ), \n",
    "                      size = 15,\n",
    "                      bbox={'facecolor':'white', 'pad':5, 'alpha':0.5}\n",
    "                     )\n",
    "        \"\"\"\n",
    "        if k==1:\n",
    "            ax[i, j].legend((l1, l2, l3), ('real', 'predicted (semidiff)', 'predicted (normal)'), loc='upper right', shadow=True, fontsize='x-large')\n",
    "        if not j%2:\n",
    "            ax[i, j].set_ylabel('frequency', size=15)\n",
    "        if i==4:\n",
    "            ax[i, j].set_xlabel('time', size=15)\n",
    "            \n",
    "        k += 1\n",
    "        \n",
    "plt.tight_layout()\n",
    "plt.savefig('/home/cucchi/phd/devel/phd/logbook/fig/pred_below_S_{}.png'.format(\n",
    "    str(force_intensity_delta).replace('.','')\n",
    "))"
   ]
  },
  {
   "cell_type": "markdown",
   "metadata": {},
   "source": [
    "## Single Plot"
   ]
  },
  {
   "cell_type": "code",
   "execution_count": null,
   "metadata": {},
   "outputs": [],
   "source": [
    "force_intensity_delta = 3.0\n",
    "forcing = 'SF_8_{}_0'.format(force_intensity_delta)\n",
    "obs = 'energy_exceed_0.99q'"
   ]
  },
  {
   "cell_type": "code",
   "execution_count": null,
   "metadata": {},
   "outputs": [],
   "source": [
    "response_p1 = xr.open_dataarray(os.path.join(REF_RESP_PATH[0], 'response_lorenz96_rk4_{}_SF_8_1.0_0.nc'.format(obs)))\n",
    "response_m1 = xr.open_dataarray(os.path.join(REF_RESP_PATH[1], 'response_lorenz96_rk4_{}_SF_8_-1.0_0.nc'.format(obs)))\n",
    "response_semidiff = (response_p1 - response_m1)/2\n",
    "chi_semidiff = analysis.compute_susceptibility(response_semidiff.values.squeeze())\n",
    "chi_normal = analysis.compute_susceptibility(response_p1.values.squeeze())\n",
    "\n",
    "resp_real = xr.open_dataarray(\n",
    "    '/home/cucchi/phd/data/response/lorenz96/rk4/{f}/response_lorenz96_rk4_{o}_{f}.nc'.format(\n",
    "        o=obs,\n",
    "        f=forcing\n",
    "    )\n",
    ")\n",
    "resp_pred_semidiff = analysis.compute_response(chi_semidiff, forcings.StepForcing(\n",
    "    force_intensity_delta=force_intensity_delta,\n",
    "))\n",
    "resp_pred_normal = analysis.compute_response(chi_normal , forcings.StepForcing(\n",
    "    force_intensity_delta=force_intensity_delta,\n",
    "))"
   ]
  },
  {
   "cell_type": "markdown",
   "metadata": {},
   "source": [
    "### Plot"
   ]
  },
  {
   "cell_type": "code",
   "execution_count": null,
   "metadata": {},
   "outputs": [],
   "source": [
    "l1, = plt.plot(np.arange(0, 100, 0.01), resp_real.values, alpha=0.5)\n",
    "l2, = plt.plot(np.arange(0, 100, 0.01), resp_pred_semidiff[0:10000], alpha=0.7)\n",
    "l3, = plt.plot(np.arange(0, 100, 0.01), resp_pred_normal[0:10000], color='m', alpha=0.7)\n",
    "#plt.set_title(titles[k], size=17)\n",
    "plt.ylim(-0.10, 0.10)\n",
    "#plt.tick_params(labelsize='x-normal')\n",
    "std_real = resp_real.std().values\n",
    "avg_real = resp_real.mean().values\n",
    "sig_digit_real = -math.floor(math.log10(std_real))\n",
    "std_pred_normal = resp_pred_normal[0:10000].std()\n",
    "avg_pred_normal = resp_pred_normal[0:10000].mean()\n",
    "sig_digit_pred_normal = -math.floor(math.log10(std_pred_normal))\n",
    "std_pred_semidiff = resp_pred_semidiff[0:10000].std()\n",
    "avg_pred_semidiff = resp_pred_semidiff[0:10000].mean()\n",
    "sig_digit_pred_semidiff = -math.floor(math.log10(std_pred_semidiff))\n",
    "plt.legend((l1, l2, l3), ('real', 'predicted (semidiff)', 'predicted (normal)'), loc='lower right', shadow=True)\n",
    "plt.title('frequency of energy val. above 99th perc.')\n",
    "plt.ylabel('frequency')\n",
    "plt.xlabel('time')\n",
    "plt.savefig('/home/cucchi/phd/devel/phd/logbook/fig/pred_{}_S_{}.png'.format(\n",
    "    obs.replace('.', ''), str(force_intensity_delta).replace('.', '')\n",
    "))"
   ]
  }
 ],
 "metadata": {
  "kernelspec": {
   "display_name": "Python 3",
   "language": "python",
   "name": "python3"
  },
  "language_info": {
   "codemirror_mode": {
    "name": "ipython",
    "version": 3
   },
   "file_extension": ".py",
   "mimetype": "text/x-python",
   "name": "python",
   "nbconvert_exporter": "python",
   "pygments_lexer": "ipython3",
   "version": "3.6.8"
  }
 },
 "nbformat": 4,
 "nbformat_minor": 2
}
