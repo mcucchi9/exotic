{
 "cells": [
  {
   "cell_type": "code",
   "execution_count": null,
   "metadata": {},
   "outputs": [],
   "source": [
    "%load_ext autoreload\n",
    "%autoreload 2"
   ]
  },
  {
   "cell_type": "code",
   "execution_count": null,
   "metadata": {},
   "outputs": [],
   "source": [
    "import sys\n",
    "import os\n",
    "import xarray as xr\n",
    "import math\n",
    "import numpy as np\n",
    "import matplotlib.pyplot as plt"
   ]
  },
  {
   "cell_type": "code",
   "execution_count": null,
   "metadata": {},
   "outputs": [],
   "source": [
    "sys.path.append('/home/cucchi/phd/devel/phd/')\n",
    "RESP_PATH = '/home/cucchi/phd/data/response/lorenz96/rk4/SF_8_1.0_0/'\n",
    "obs = 'energy_bin_0.98q_0.99q'\n",
    "linear_coefficient = 0.01\n",
    "activation_time = 0\n",
    "deactivation_time = 100\n",
    "forcing = 'LF_8_{}_{}_{}'.format(\n",
    "    linear_coefficient,\n",
    "    activation_time,\n",
    "    deactivation_time\n",
    ")"
   ]
  },
  {
   "cell_type": "code",
   "execution_count": null,
   "metadata": {},
   "outputs": [],
   "source": [
    "from lab import analysis\n",
    "from lab.simulation import forcings"
   ]
  },
  {
   "cell_type": "markdown",
   "metadata": {},
   "source": [
    "Average response"
   ]
  },
  {
   "cell_type": "code",
   "execution_count": null,
   "metadata": {},
   "outputs": [],
   "source": [
    "response_p1 = xr.open_dataarray(os.path.join(RESP_PATH, 'response_lorenz96_rk4_{}_SF_8_1.0_0.nc'.format(obs)))\n",
    "plt.plot(response_p1)"
   ]
  },
  {
   "cell_type": "markdown",
   "metadata": {},
   "source": [
    "Susceptibility"
   ]
  },
  {
   "cell_type": "code",
   "execution_count": null,
   "metadata": {},
   "outputs": [],
   "source": [
    "chi = analysis.compute_susceptibility(response_p1.values.squeeze())\n",
    "plt.plot(chi)"
   ]
  },
  {
   "cell_type": "markdown",
   "metadata": {},
   "source": [
    "Predicted Response"
   ]
  },
  {
   "cell_type": "code",
   "execution_count": null,
   "metadata": {},
   "outputs": [],
   "source": [
    "resp_pred = analysis.compute_response(chi, forcings.LinearForcing(\n",
    "    linear_coefficient=linear_coefficient,\n",
    "    activation_time=activation_time,\n",
    "    deactivation_time=deactivation_time\n",
    "))\n",
    "plt.plot(resp_pred[0:10000])"
   ]
  },
  {
   "cell_type": "markdown",
   "metadata": {},
   "source": [
    "Real Response"
   ]
  },
  {
   "cell_type": "code",
   "execution_count": null,
   "metadata": {},
   "outputs": [],
   "source": [
    "resp_real = xr.open_dataarray('/home/cucchi/phd/data/response/lorenz96/rk4/{f}/response_lorenz96_rk4_{o}_{f}.nc'.format(\n",
    "    o=obs,\n",
    "    f=forcing\n",
    "))\n",
    "resp_real.plot()"
   ]
  },
  {
   "cell_type": "markdown",
   "metadata": {},
   "source": [
    "Comparison"
   ]
  },
  {
   "cell_type": "code",
   "execution_count": null,
   "metadata": {},
   "outputs": [],
   "source": [
    "plt.plot(resp_real[0:10000])\n",
    "plt.plot(resp_pred[0:10000])"
   ]
  },
  {
   "cell_type": "markdown",
   "metadata": {},
   "source": [
    "### Average"
   ]
  },
  {
   "cell_type": "code",
   "execution_count": null,
   "metadata": {},
   "outputs": [],
   "source": [
    "std_pred = resp_pred[0:10000].std()\n",
    "sig_digit_pred = -math.floor(math.log10(std_pred))\n",
    "print('predicted: {} +/- {}'.format(\n",
    "    round(resp_pred[0:10000].mean(), sig_digit_pred), \n",
    "    round(resp_pred[0:10000].std(),sig_digit_pred)\n",
    "))\n",
    "std_real = resp_real.std().values\n",
    "sig_digit_real = -math.floor(math.log10(std_real))\n",
    "print('real:      {} +/- {}'.format(\n",
    "    round(float(resp_real.mean().values), sig_digit_real), \n",
    "    round(float(resp_real.std().values), sig_digit_real)\n",
    "))"
   ]
  },
  {
   "cell_type": "markdown",
   "metadata": {},
   "source": [
    "### Block-Average"
   ]
  },
  {
   "cell_type": "code",
   "execution_count": null,
   "metadata": {},
   "outputs": [],
   "source": [
    "resp_real.rolling(time_step=1000, center=True).mean().plot()\n",
    "plt.plot(resp_pred[0:10000])"
   ]
  },
  {
   "cell_type": "code",
   "execution_count": null,
   "metadata": {},
   "outputs": [],
   "source": [
    "resp_real.rolling(time_step=100, center=True).mean().plot()\n",
    "plt.plot(resp_pred[0:10000])"
   ]
  },
  {
   "cell_type": "code",
   "execution_count": null,
   "metadata": {},
   "outputs": [],
   "source": [
    "resp_real.rolling(time_step=10, center=True).mean().plot()\n",
    "plt.plot(resp_pred[0:10000])"
   ]
  },
  {
   "cell_type": "markdown",
   "metadata": {},
   "source": [
    "## Semi-Difference"
   ]
  },
  {
   "cell_type": "code",
   "execution_count": null,
   "metadata": {},
   "outputs": [],
   "source": [
    "RESP_PATH = '/home/cucchi/phd/data/response/lorenz96/rk4/SF_8_-1.0_0/'\n",
    "response_m1 = xr.open_dataarray(os.path.join(RESP_PATH, 'response_lorenz96_rk4_{}_SF_8_-1.0_0.nc'.format(obs)))\n",
    "response = (response_p1 - response_m1)/2\n",
    "chi = analysis.compute_susceptibility(response.values.squeeze())\n",
    "resp_pred = analysis.compute_response(chi, forcings.LinearForcing(\n",
    "    linear_coefficient=linear_coefficient,\n",
    "    activation_time=activation_time,\n",
    "    deactivation_time=deactivation_time\n",
    "))\n",
    "plt.plot(resp_pred[0:10000])"
   ]
  },
  {
   "cell_type": "code",
   "execution_count": null,
   "metadata": {},
   "outputs": [],
   "source": [
    "plt.plot(resp_real[0:10000])\n",
    "plt.plot(resp_pred[0:10000])"
   ]
  },
  {
   "cell_type": "markdown",
   "metadata": {},
   "source": [
    "### Average"
   ]
  },
  {
   "cell_type": "code",
   "execution_count": null,
   "metadata": {},
   "outputs": [],
   "source": [
    "std_pred = resp_pred[0:10000].std()\n",
    "sig_digit_pred = -math.floor(math.log10(std_pred))\n",
    "print('predicted: {} +/- {}'.format(\n",
    "    round(resp_pred[0:10000].mean(), sig_digit_pred), \n",
    "    round(resp_pred[0:10000].std(),sig_digit_pred)\n",
    "))\n",
    "std_real = resp_real.std().values\n",
    "sig_digit_real = -math.floor(math.log10(std_real))\n",
    "print('real:      {} +/- {}'.format(\n",
    "    round(float(resp_real.mean().values), sig_digit_real), \n",
    "    round(float(resp_real.std().values), sig_digit_real)\n",
    "))"
   ]
  },
  {
   "cell_type": "markdown",
   "metadata": {},
   "source": [
    "### Block-Average"
   ]
  },
  {
   "cell_type": "code",
   "execution_count": null,
   "metadata": {},
   "outputs": [],
   "source": [
    "resp_real.rolling(time_step=1000, center=True).mean().plot()\n",
    "plt.plot(resp_pred[0:10000])"
   ]
  },
  {
   "cell_type": "code",
   "execution_count": null,
   "metadata": {},
   "outputs": [],
   "source": [
    "resp_real.rolling(time_step=100, center=True).mean().plot()\n",
    "plt.plot(resp_pred[0:10000])"
   ]
  },
  {
   "cell_type": "code",
   "execution_count": null,
   "metadata": {},
   "outputs": [],
   "source": [
    "resp_real.rolling(time_step=10, center=True).mean().plot()\n",
    "plt.plot(resp_pred[0:10000])"
   ]
  },
  {
   "cell_type": "code",
   "execution_count": null,
   "metadata": {},
   "outputs": [],
   "source": []
  }
 ],
 "metadata": {
  "kernelspec": {
   "display_name": "Python 2",
   "language": "python",
   "name": "python2"
  },
  "language_info": {
   "codemirror_mode": {
    "name": "ipython",
    "version": 3
   },
   "file_extension": ".py",
   "mimetype": "text/x-python",
   "name": "python",
   "nbconvert_exporter": "python",
   "pygments_lexer": "ipython3",
   "version": "3.7.2"
  }
 },
 "nbformat": 4,
 "nbformat_minor": 2
}
