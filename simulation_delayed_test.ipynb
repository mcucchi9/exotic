{
 "cells": [
  {
   "cell_type": "code",
   "execution_count": 13,
   "metadata": {},
   "outputs": [],
   "source": [
    "from sim import simulation as sim\n",
    "import dask\n",
    "import numpy as np\n",
    "import xarray as xr\n",
    "from netCDF4 import Dataset"
   ]
  },
  {
   "cell_type": "code",
   "execution_count": 14,
   "metadata": {},
   "outputs": [],
   "source": [
    "point = sim.SystemState([1,2,3,4,5,6], 0)\n",
    "traj = sim.Simulator(system_state=point)"
   ]
  },
  {
   "cell_type": "code",
   "execution_count": 15,
   "metadata": {},
   "outputs": [
    {
     "data": {
      "text/plain": [
       "\n",
       "system model: <function lorenz_96 at 0x7f75c1382620>\n",
       "integration method: <function runge_kutta_4 at 0x7f75d03da1e0>\n",
       "time increment: 0.01\n",
       "forcing: 0\n",
       "\n",
       "--- system state ---\n",
       "coordinates: [1, 2, 3, 4, 5, 6]\n",
       "time: 0"
      ]
     },
     "execution_count": 15,
     "metadata": {},
     "output_type": "execute_result"
    }
   ],
   "source": [
    "traj"
   ]
  },
  {
   "cell_type": "code",
   "execution_count": 16,
   "metadata": {},
   "outputs": [],
   "source": [
    "integration_time = 2\n",
    "integration_steps = int(integration_time/traj.increment)\n",
    "chunk_steps = 100\n",
    "chunks = int(integration_steps/chunk_steps)"
   ]
  },
  {
   "cell_type": "code",
   "execution_count": 17,
   "metadata": {},
   "outputs": [
    {
     "data": {
      "text/plain": [
       "2"
      ]
     },
     "execution_count": 17,
     "metadata": {},
     "output_type": "execute_result"
    }
   ],
   "source": [
    "chunks"
   ]
  },
  {
   "cell_type": "code",
   "execution_count": 18,
   "metadata": {},
   "outputs": [],
   "source": [
    "#last_coords = point.coords\n",
    "#last_time = point.time\n",
    "#last_coords"
   ]
  },
  {
   "cell_type": "code",
   "execution_count": 19,
   "metadata": {},
   "outputs": [],
   "source": [
    "#data_array = xr.DataArray(last_coords, dims=('time', 'node'), coords={'time': 0, 'node': [0, 1, 2, 3, 4, 5]})\n",
    "#dim = len(point.coords)\n",
    "#np.empty((chunk_steps, dim))"
   ]
  },
  {
   "cell_type": "code",
   "execution_count": 20,
   "metadata": {},
   "outputs": [
    {
     "data": {
      "text/plain": [
       "<class 'netCDF4._netCDF4.Dataset'>\n",
       "root group (NETCDF4_CLASSIC data model, file format HDF5):\n",
       "    dimensions(sizes): \n",
       "    variables(dimensions): \n",
       "    groups: "
      ]
     },
     "execution_count": 20,
     "metadata": {},
     "output_type": "execute_result"
    }
   ],
   "source": [
    "Dataset('/home/cucchi/phd/prova.nc', 'w',  format='NETCDF4_CLASSIC')"
   ]
  },
  {
   "cell_type": "code",
   "execution_count": 21,
   "metadata": {},
   "outputs": [
    {
     "name": "stdout",
     "output_type": "stream",
     "text": [
      "0\n",
      "<xarray.DataArray (time: 100, node: 6)>\n",
      "array([[ 1.      ,  2.      ,  3.      ,  4.      ,  5.      ,  6.      ],\n",
      "       [ 0.810812,  1.954149,  3.031507,  4.051934,  5.065492,  5.783991],\n",
      "       [ 0.624461,  1.915952,  3.066053,  4.107472,  5.121518,  5.555994],\n",
      "       ...,\n",
      "       [ 0.714564, -0.128924,  2.340752, -1.022269, -2.317817,  0.808338],\n",
      "       [ 0.724428, -0.116571,  2.319613, -1.062538, -2.278715,  0.759999],\n",
      "       [ 0.732952, -0.104002,  2.298519, -1.101331, -2.239102,  0.711736]])\n",
      "Coordinates:\n",
      "  * time     (time) float64 0.0 0.01 0.02 0.03 0.04 ... 0.95 0.96 0.97 0.98 0.99\n",
      "  * node     (node) int64 0 1 2 3 4 5\n",
      "1\n",
      "<xarray.DataArray (time: 100, node: 6)>\n",
      "array([[ 0.740176, -0.091237,  2.277452, -1.138669, -2.198985,  0.663657],\n",
      "       [ 0.74614 , -0.078294,  2.256393, -1.17457 , -2.158375,  0.615865],\n",
      "       [ 0.750889, -0.065197,  2.235327, -1.209053, -2.117284,  0.568459],\n",
      "       ...,\n",
      "       [ 0.233941,  0.374419,  0.505399, -1.043299,  0.453022, -0.160437],\n",
      "       [ 0.231739,  0.372216,  0.49565 , -1.032515,  0.455303, -0.153098],\n",
      "       [ 0.22956 ,  0.369982,  0.486074, -1.021825,  0.457316, -0.145864]])\n",
      "Coordinates:\n",
      "  * time     (time) float64 1.0 1.01 1.02 1.03 1.04 ... 1.95 1.96 1.97 1.98 1.99\n",
      "  * node     (node) int64 0 1 2 3 4 5\n"
     ]
    }
   ],
   "source": [
    "dim = len(point.coords)\n",
    "\n",
    "for chunk in np.arange(0, chunks):\n",
    "    # initialize chunk numpy array\n",
    "    print(chunk)\n",
    "    t = []\n",
    "    data_nparray = np.empty((chunk_steps, dim))\n",
    "    for i in np.arange(0, chunk_steps):\n",
    "        data_nparray[i,:] = point.coords\n",
    "        t.append(point.time)\n",
    "        traj.integrate()\n",
    "    data_array = xr.DataArray(data_nparray, dims=('time', 'node'), coords={'time': t, 'node': [0, 1, 2, 3, 4, 5]})\n",
    "    print(data_array)\n",
    "    data_array.to_netcdf('/home/cucchi/phd/prova.nc', mode='a')"
   ]
  },
  {
   "cell_type": "code",
   "execution_count": 22,
   "metadata": {},
   "outputs": [
    {
     "data": {
      "text/plain": [
       "\n",
       "system model: <function lorenz_96 at 0x7f75c1382620>\n",
       "integration method: <function runge_kutta_4 at 0x7f75d03da1e0>\n",
       "time increment: 0.01\n",
       "forcing: 0\n",
       "\n",
       "--- system state ---\n",
       "coordinates: [ 0.2274022   0.36771829  0.47666793 -1.01122999  0.45907396 -0.13873612]\n",
       "time: 2.0000000000000013"
      ]
     },
     "execution_count": 22,
     "metadata": {},
     "output_type": "execute_result"
    }
   ],
   "source": [
    "traj"
   ]
  },
  {
   "cell_type": "code",
   "execution_count": 23,
   "metadata": {},
   "outputs": [],
   "source": [
    "data = xr.open_dataarray('/home/cucchi/phd/prova.nc')"
   ]
  },
  {
   "cell_type": "code",
   "execution_count": 24,
   "metadata": {},
   "outputs": [
    {
     "data": {
      "text/plain": [
       "<xarray.DataArray (time: 100, node: 6)>\n",
       "array([[ 1.      ,  2.      ,  3.      ,  4.      ,  5.      ,  6.      ],\n",
       "       [ 0.810812,  1.954149,  3.031507,  4.051934,  5.065492,  5.783991],\n",
       "       [ 0.624461,  1.915952,  3.066053,  4.107472,  5.121518,  5.555994],\n",
       "       ...,\n",
       "       [ 0.714564, -0.128924,  2.340752, -1.022269, -2.317817,  0.808338],\n",
       "       [ 0.724428, -0.116571,  2.319613, -1.062538, -2.278715,  0.759999],\n",
       "       [ 0.732952, -0.104002,  2.298519, -1.101331, -2.239102,  0.711736]])\n",
       "Coordinates:\n",
       "  * time     (time) float64 0.0 0.01 0.02 0.03 0.04 ... 0.95 0.96 0.97 0.98 0.99\n",
       "  * node     (node) int64 0 1 2 3 4 5"
      ]
     },
     "execution_count": 24,
     "metadata": {},
     "output_type": "execute_result"
    }
   ],
   "source": [
    "data"
   ]
  },
  {
   "cell_type": "code",
   "execution_count": null,
   "metadata": {},
   "outputs": [],
   "source": [
    "%time sim.lorenz_96([1,2,3,4], 1)"
   ]
  },
  {
   "cell_type": "code",
   "execution_count": null,
   "metadata": {},
   "outputs": [],
   "source": [
    "@dask.delayed\n",
    "def _add(a, b):\n",
    "    return a + b\n",
    "\n",
    "@dask.delayed\n",
    "def _multiply(a, b):\n",
    "    return a * b\n",
    "\n",
    "@dask.delayed\n",
    "def _square(a):\n",
    "    return a**2\n",
    "\n",
    "def _lorenz_96_1d(x: list, i: int, n:int, f:float) -> list:\n",
    "    \n",
    "    d = (x[(i+1) % n] - x[i-2]) * x[i-1] - x[i] + f\n",
    "    \n",
    "    return d\n",
    "\n",
    "def lorenz_96_delayed(x, forcing):\n",
    "\n",
    "    \"\"\"\n",
    "    This method implement Lorenz-96 first-order differential equations system.\n",
    "    :param x: coordinates at time t0\n",
    "    :param forcing: (constant) forcing term\n",
    "    :return: state derivatives at time t0\n",
    "    \"\"\"\n",
    "    n = len(x)\n",
    "\n",
    "    d = []\n",
    "\n",
    "    for i in range(0, n):\n",
    "        dx = _lorenz_96_1d(x, i, n, forcing)\n",
    "        d.append(dx)\n",
    "\n",
    "    return d"
   ]
  },
  {
   "cell_type": "code",
   "execution_count": null,
   "metadata": {},
   "outputs": [],
   "source": [
    "a = []\n",
    "d = []\n",
    "x = [i for i in range(1,10)]\n",
    "n = len(x)\n",
    "forcing = 1\n",
    "\n",
    "for t in range(0, 5):\n",
    "    x1 = []\n",
    "    for i in range(0,n):\n",
    "        dx = dask.delayed(_lorenz_96_1d)(x, i, n, forcing)\n",
    "        x_new = _add(x[i], dx)\n",
    "        #a = _square(i)\n",
    "        x1.append(x_new)\n",
    "    a.append(dask.delayed(sum)(x1))\n",
    "    x = x1\n",
    "    \n",
    "d = dask.delayed(sum)(a)"
   ]
  },
  {
   "cell_type": "code",
   "execution_count": null,
   "metadata": {},
   "outputs": [],
   "source": [
    "%time d.compute()"
   ]
  },
  {
   "cell_type": "code",
   "execution_count": null,
   "metadata": {},
   "outputs": [],
   "source": [
    "a = []\n",
    "d = []\n",
    "x = [i for i in range(1,10)]\n",
    "n = len(x)\n",
    "forcing = 1\n",
    "\n",
    "for t in range(0, 5):\n",
    "    x1 = []\n",
    "    for i in range(0,n):\n",
    "        dx = _lorenz_96_1d(x, i, n, forcing)\n",
    "        x_new = x[i] + dx\n",
    "        #a = _square(i)\n",
    "        x1.append(x_new)\n",
    "    a.append(sum(x1))\n",
    "    x = x1\n",
    "    \n",
    "%time d = sum(a)"
   ]
  },
  {
   "cell_type": "code",
   "execution_count": null,
   "metadata": {},
   "outputs": [],
   "source": [
    "d"
   ]
  },
  {
   "cell_type": "code",
   "execution_count": null,
   "metadata": {},
   "outputs": [],
   "source": [
    "def inc(x):\n",
    "    return x + 1\n",
    "\n",
    "def double(x):\n",
    "    return x + 2\n",
    "\n",
    "def add(x, y):\n",
    "    return x + y\n",
    "\n",
    "data = [1, 2, 3, 4, 5]\n",
    "\n",
    "output = []\n",
    "for x in data:\n",
    "    a = dask.delayed(inc)(x)\n",
    "    b = dask.delayed(double)(x)\n",
    "    c = dask.delayed(add)(a, b)\n",
    "    output.append(c)\n",
    "\n",
    "total = dask.delayed(sum)(output)"
   ]
  },
  {
   "cell_type": "code",
   "execution_count": null,
   "metadata": {},
   "outputs": [],
   "source": []
  },
  {
   "cell_type": "code",
   "execution_count": null,
   "metadata": {},
   "outputs": [],
   "source": [
    "total.visualize()"
   ]
  },
  {
   "cell_type": "code",
   "execution_count": null,
   "metadata": {},
   "outputs": [],
   "source": [
    "def inc(x):\n",
    "    return x + 1\n",
    "\n",
    "def double(x):\n",
    "    return x + 2\n",
    "\n",
    "def add(x, y):\n",
    "    return x + y\n",
    "\n",
    "data = [1, 2, 3, 4, 5]\n",
    "\n",
    "output = []\n",
    "for x in data:\n",
    "    a = inc(x)\n",
    "    b = double(x)\n",
    "    c = add(a, b)\n",
    "    output.append(c)\n",
    "\n",
    "%time total = sum(output)"
   ]
  },
  {
   "cell_type": "code",
   "execution_count": null,
   "metadata": {},
   "outputs": [],
   "source": [
    "output = []\n",
    "for x in data:\n",
    "    a = dask.delayed(inc)(x)\n",
    "    b = dask.delayed(double)(x)\n",
    "    c = dask.delayed(add)(a, b)\n",
    "    output.append(c)\n",
    "\n",
    "total = dask.delayed(sum)(output)\n",
    "\n",
    "%time total.compute()"
   ]
  },
  {
   "cell_type": "code",
   "execution_count": null,
   "metadata": {},
   "outputs": [],
   "source": []
  }
 ],
 "metadata": {
  "kernelspec": {
   "display_name": "Python 3",
   "language": "python",
   "name": "python3"
  },
  "language_info": {
   "codemirror_mode": {
    "name": "ipython",
    "version": 3
   },
   "file_extension": ".py",
   "mimetype": "text/x-python",
   "name": "python",
   "nbconvert_exporter": "python",
   "pygments_lexer": "ipython3",
   "version": "3.7.2"
  }
 },
 "nbformat": 4,
 "nbformat_minor": 2
}
