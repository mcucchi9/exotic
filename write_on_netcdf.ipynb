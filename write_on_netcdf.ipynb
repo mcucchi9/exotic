{
 "cells": [
  {
   "cell_type": "code",
   "execution_count": 1,
   "metadata": {},
   "outputs": [],
   "source": [
    "import os\n",
    "import sys\n",
    "from sim import simulation as sim\n",
    "import numpy as np\n",
    "from netCDF4 import Dataset\n",
    "import xarray as xr"
   ]
  },
  {
   "cell_type": "code",
   "execution_count": 2,
   "metadata": {},
   "outputs": [],
   "source": [
    "point = sim.SystemState([1, 2, 3, 4, 5, 6], 0)\n",
    "traj = sim.Simulator(system_state=point)"
   ]
  },
  {
   "cell_type": "code",
   "execution_count": 3,
   "metadata": {},
   "outputs": [],
   "source": [
    "integration_time = 1000\n",
    "integration_steps = int(integration_time/traj.increment)\n",
    "chunk_steps = 100\n",
    "chunks = int(integration_steps/chunk_steps)"
   ]
  },
  {
   "cell_type": "code",
   "execution_count": 4,
   "metadata": {},
   "outputs": [],
   "source": [
    "file_path = '/home/cucchi/phd/prova.nc'"
   ]
  },
  {
   "cell_type": "code",
   "execution_count": 5,
   "metadata": {},
   "outputs": [
    {
     "data": {
      "text/plain": [
       "\"\\ndataset = Dataset(file_path, 'w')\\n\\nnode = dataset.createDimension('node', len(point.coords))\\ntime = dataset.createDimension('time', None)\\n\\ntimes = dataset.createVariable('time', np.float64, ('time',))\\nnodes = dataset.createVariable('node', np.int32, ('node',))\\n\\nvar = dataset.createVariable('var', np.float32, ('time', 'node'))\\nnodes[:] = np.arange(0, len(point.coords))\\n\""
      ]
     },
     "execution_count": 5,
     "metadata": {},
     "output_type": "execute_result"
    }
   ],
   "source": [
    "if os.path.exists(file_path):\n",
    "    os.remove(file_path)\n",
    "\n",
    "# create netcdf file\n",
    "\"\"\"\n",
    "dataset = Dataset(file_path, 'w')\n",
    "\n",
    "node = dataset.createDimension('node', len(point.coords))\n",
    "time = dataset.createDimension('time', None)\n",
    "\n",
    "times = dataset.createVariable('time', np.float64, ('time',))\n",
    "nodes = dataset.createVariable('node', np.int32, ('node',))\n",
    "\n",
    "var = dataset.createVariable('var', np.float32, ('time', 'node'))\n",
    "nodes[:] = np.arange(0, len(point.coords))\n",
    "\"\"\""
   ]
  },
  {
   "cell_type": "code",
   "execution_count": 6,
   "metadata": {},
   "outputs": [
    {
     "data": {
      "text/plain": [
       "0"
      ]
     },
     "execution_count": 6,
     "metadata": {},
     "output_type": "execute_result"
    }
   ],
   "source": [
    "point.time"
   ]
  },
  {
   "cell_type": "code",
   "execution_count": 7,
   "metadata": {},
   "outputs": [],
   "source": [
    "with Dataset(file_path, 'w') as dataset:\n",
    "\n",
    "    node = dataset.createDimension('node', len(point.coords))\n",
    "    time = dataset.createDimension('time', None)\n",
    "\n",
    "    times = dataset.createVariable('time', np.float64, ('time',))\n",
    "    nodes = dataset.createVariable('node', np.int32, ('node',))\n",
    "\n",
    "    var = dataset.createVariable('var', np.float32, ('time', 'node'))\n",
    "    nodes[:] = np.arange(0, len(point.coords))\n",
    "\n",
    "    dim = len(point.coords)\n",
    "\n",
    "    for chunk in np.arange(0, chunks):\n",
    "        # initialize chunk numpy array\n",
    "        t = []\n",
    "        data_array = np.empty((chunk_steps, dim))\n",
    "        for i in np.arange(0, chunk_steps):\n",
    "            data_array[i, :] = point.coords\n",
    "            t.append(point.time)\n",
    "            traj.integrate()\n",
    "        var[(chunk_steps * chunk):(chunk_steps * (chunk + 1)),:] = data_array\n",
    "        times[(chunk_steps * chunk):(chunk_steps * (chunk + 1))] = t "
   ]
  },
  {
   "cell_type": "code",
   "execution_count": 10,
   "metadata": {},
   "outputs": [
    {
     "data": {
      "text/plain": [
       "4912"
      ]
     },
     "execution_count": 10,
     "metadata": {},
     "output_type": "execute_result"
    }
   ],
   "source": [
    "sys.getsizeof(data_array)"
   ]
  },
  {
   "cell_type": "code",
   "execution_count": 12,
   "metadata": {},
   "outputs": [],
   "source": [
    "#dataset.close()"
   ]
  },
  {
   "cell_type": "code",
   "execution_count": 8,
   "metadata": {},
   "outputs": [],
   "source": [
    "data = xr.open_dataarray(file_path)"
   ]
  },
  {
   "cell_type": "code",
   "execution_count": 9,
   "metadata": {},
   "outputs": [
    {
     "data": {
      "text/plain": [
       "<xarray.DataArray 'var' (time: 100000, node: 6)>\n",
       "[600000 values with dtype=float32]\n",
       "Coordinates:\n",
       "  * time     (time) float64 0.0 0.01 0.02 0.03 0.04 ... 1e+03 1e+03 1e+03 1e+03\n",
       "  * node     (node) int32 0 1 2 3 4 5"
      ]
     },
     "execution_count": 9,
     "metadata": {},
     "output_type": "execute_result"
    }
   ],
   "source": [
    "data"
   ]
  },
  {
   "cell_type": "code",
   "execution_count": 77,
   "metadata": {},
   "outputs": [
    {
     "data": {
      "text/plain": [
       "<xarray.DataArray 'time' (time: 1000)>\n",
       "array([ 2.  ,  2.01,  2.02, ..., 11.97, 11.98, 11.99])\n",
       "Coordinates:\n",
       "  * time     (time) float64 2.0 2.01 2.02 2.03 2.04 ... 11.96 11.97 11.98 11.99"
      ]
     },
     "execution_count": 77,
     "metadata": {},
     "output_type": "execute_result"
    }
   ],
   "source": [
    "data.coords['time']"
   ]
  },
  {
   "cell_type": "code",
   "execution_count": null,
   "metadata": {},
   "outputs": [],
   "source": []
  }
 ],
 "metadata": {
  "kernelspec": {
   "display_name": "Python 3",
   "language": "python",
   "name": "python3"
  },
  "language_info": {
   "codemirror_mode": {
    "name": "ipython",
    "version": 3
   },
   "file_extension": ".py",
   "mimetype": "text/x-python",
   "name": "python",
   "nbconvert_exporter": "python",
   "pygments_lexer": "ipython3",
   "version": "3.7.2"
  }
 },
 "nbformat": 4,
 "nbformat_minor": 2
}
